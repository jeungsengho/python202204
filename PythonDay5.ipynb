{
  "nbformat": 4,
  "nbformat_minor": 0,
  "metadata": {
    "colab": {
      "name": "PythonDay5.ipynb",
      "provenance": [],
      "authorship_tag": "ABX9TyOi4mL0KvU3l3XVGrUZOV2L",
      "include_colab_link": true
    },
    "kernelspec": {
      "name": "python3",
      "display_name": "Python 3"
    },
    "language_info": {
      "name": "python"
    }
  },
  "cells": [
    {
      "cell_type": "markdown",
      "metadata": {
        "id": "view-in-github",
        "colab_type": "text"
      },
      "source": [
        "<a href=\"https://colab.research.google.com/github/jeungsengho/python202204/blob/main/PythonDay5.ipynb\" target=\"_parent\"><img src=\"https://colab.research.google.com/assets/colab-badge.svg\" alt=\"Open In Colab\"/></a>"
      ]
    },
    {
      "cell_type": "code",
      "execution_count": 2,
      "metadata": {
        "colab": {
          "base_uri": "https://localhost:8080/"
        },
        "id": "nERUpiP-EoK5",
        "outputId": "504a3a1a-11dc-4350-fa7e-4652dbe5b9f1"
      },
      "outputs": [
        {
          "output_type": "stream",
          "name": "stdout",
          "text": [
            "1\n",
            "2\n",
            "3\n"
          ]
        }
      ],
      "source": [
        "# p116 for문\n",
        "\n",
        "\n",
        "for n in [1,2,3]:\n",
        "  print(n)"
      ]
    },
    {
      "cell_type": "code",
      "source": [
        "n = 1\n",
        "while n in [1,2,3]:\n",
        "  print(n)\n",
        "  n += 1"
      ],
      "metadata": {
        "colab": {
          "base_uri": "https://localhost:8080/"
        },
        "id": "ybDINiujLkMv",
        "outputId": "acc355ad-fdb7-4460-fd5b-de08eae31afc"
      },
      "execution_count": 17,
      "outputs": [
        {
          "output_type": "stream",
          "name": "stdout",
          "text": [
            "1\n",
            "2\n",
            "3\n"
          ]
        }
      ]
    },
    {
      "cell_type": "code",
      "source": [
        "# 반복 가능 객체 (컬렉션)\n",
        "# 시퀀스 자료형 - 문자열 리스트 튜플 range\n",
        "# 비시퀀스 자료형 - 셋, 딕셔너리 (순서가 없다.)\n",
        "\n",
        "for ch in 'Hello':\n",
        "  print(ch)"
      ],
      "metadata": {
        "colab": {
          "base_uri": "https://localhost:8080/"
        },
        "id": "XHtrweWsMwDA",
        "outputId": "f023a868-8bc0-4aba-be5d-61f8999bad2c"
      },
      "execution_count": 19,
      "outputs": [
        {
          "output_type": "stream",
          "name": "stdout",
          "text": [
            "H\n",
            "e\n",
            "l\n",
            "l\n",
            "o\n"
          ]
        }
      ]
    },
    {
      "cell_type": "code",
      "source": [
        "# for 문과 list\n",
        "for item in ['가위', '바위', '보']:\n",
        "  print(item)"
      ],
      "metadata": {
        "colab": {
          "base_uri": "https://localhost:8080/"
        },
        "id": "t4eGeuiANR6i",
        "outputId": "f82ae972-ebde-4f7f-b1f1-b8a8986027f7"
      },
      "execution_count": 22,
      "outputs": [
        {
          "output_type": "stream",
          "name": "stdout",
          "text": [
            "가위\n",
            "바위\n",
            "보\n"
          ]
        }
      ]
    },
    {
      "cell_type": "code",
      "source": [
        "# for 문과 tuple\n",
        "for season in ('Spring','Summer','Autumn','Winter'):\n",
        "  print(season)"
      ],
      "metadata": {
        "colab": {
          "base_uri": "https://localhost:8080/"
        },
        "id": "wk_oC02BNY5_",
        "outputId": "bf2206c9-3010-460c-a0bf-d079fe590eec"
      },
      "execution_count": 24,
      "outputs": [
        {
          "output_type": "stream",
          "name": "stdout",
          "text": [
            "Spring\n",
            "Summer\n",
            "Autumn\n",
            "Winter\n"
          ]
        }
      ]
    },
    {
      "cell_type": "code",
      "source": [
        "# for 문과 range()\n",
        "\n",
        "# range(5)     # 0부터 5 미만 까지 즉, 4까지\n",
        "# range(2,10)    # 2부터 10 미만 까지 즉, 9까지"
      ],
      "metadata": {
        "id": "uDvlQTxuN8o_"
      },
      "execution_count": 27,
      "outputs": []
    },
    {
      "cell_type": "code",
      "source": [
        "print(list(range(5)))"
      ],
      "metadata": {
        "colab": {
          "base_uri": "https://localhost:8080/"
        },
        "id": "GLwJHXEeObFs",
        "outputId": "262282c5-7630-4f06-c713-cc9dc82137fc"
      },
      "execution_count": 29,
      "outputs": [
        {
          "output_type": "stream",
          "name": "stdout",
          "text": [
            "[0, 1, 2, 3, 4]\n"
          ]
        }
      ]
    },
    {
      "cell_type": "code",
      "source": [
        "print(list(range(2,10)))"
      ],
      "metadata": {
        "colab": {
          "base_uri": "https://localhost:8080/"
        },
        "id": "84A7O1rsOlS0",
        "outputId": "c56aa84a-12f2-4cba-da87-e7c3a6d7d866"
      },
      "execution_count": 31,
      "outputs": [
        {
          "output_type": "stream",
          "name": "stdout",
          "text": [
            "[2, 3, 4, 5, 6, 7, 8, 9]\n"
          ]
        }
      ]
    },
    {
      "cell_type": "code",
      "source": [
        "for n in [1,2,3,4,5,6,7,8,9,10]:\n",
        "  print(n)"
      ],
      "metadata": {
        "colab": {
          "base_uri": "https://localhost:8080/"
        },
        "id": "RIjSfhBuOw4k",
        "outputId": "22602870-3c7c-40d2-a265-1571d17600c2"
      },
      "execution_count": 33,
      "outputs": [
        {
          "output_type": "stream",
          "name": "stdout",
          "text": [
            "1\n",
            "2\n",
            "3\n",
            "4\n",
            "5\n",
            "6\n",
            "7\n",
            "8\n",
            "9\n",
            "10\n"
          ]
        }
      ]
    },
    {
      "cell_type": "code",
      "source": [
        "for n in range(1,11):\n",
        "  print(n)"
      ],
      "metadata": {
        "colab": {
          "base_uri": "https://localhost:8080/"
        },
        "id": "GdoiWfbRPA95",
        "outputId": "b5f0af02-c528-43bb-fad9-5a16e115ab98"
      },
      "execution_count": 35,
      "outputs": [
        {
          "output_type": "stream",
          "name": "stdout",
          "text": [
            "1\n",
            "2\n",
            "3\n",
            "4\n",
            "5\n",
            "6\n",
            "7\n",
            "8\n",
            "9\n",
            "10\n"
          ]
        }
      ]
    },
    {
      "cell_type": "code",
      "source": [
        "# for 문과 set (set은 순서가 없다.)\n",
        "for item in {'가위','바위','보'}:\n",
        "  print(item)\n"
      ],
      "metadata": {
        "colab": {
          "base_uri": "https://localhost:8080/"
        },
        "id": "HVSt2hxyPI9P",
        "outputId": "e3cd53d6-b069-4b5a-d414-8a8804762fbd"
      },
      "execution_count": 44,
      "outputs": [
        {
          "output_type": "stream",
          "name": "stdout",
          "text": [
            "가위\n",
            "바위\n",
            "보\n"
          ]
        }
      ]
    },
    {
      "cell_type": "code",
      "source": [
        "# for 문과 딕셔너리 (키와 밸류값)\n",
        "\n",
        "person = {\n",
        "    'name':'에밀리',\n",
        "    'age':20\n",
        "}\n",
        "\n",
        "for item in person:\n",
        "  print(item, person[item])"
      ],
      "metadata": {
        "colab": {
          "base_uri": "https://localhost:8080/"
        },
        "id": "I-8KS-vwPoXt",
        "outputId": "929b9e68-fbcb-4cb8-9237-c08ebf6fbc28"
      },
      "execution_count": 47,
      "outputs": [
        {
          "output_type": "stream",
          "name": "stdout",
          "text": [
            "name 에밀리\n",
            "age 20\n"
          ]
        }
      ]
    },
    {
      "cell_type": "code",
      "source": [
        "# p129 2번\n",
        "n = int(input('임의의 양수를 입력하세요 >>>'))\n",
        "\n",
        "sum = 0\n",
        "for no in range(1,n+1):\n",
        "  sum += no\n",
        "print(sum)"
      ],
      "metadata": {
        "colab": {
          "base_uri": "https://localhost:8080/"
        },
        "id": "K9Rrpf5xTmPd",
        "outputId": "61daa31b-30eb-4433-93f7-75fa2f90835a"
      },
      "execution_count": 70,
      "outputs": [
        {
          "output_type": "stream",
          "name": "stdout",
          "text": [
            "임의의 양수를 입력하세요 >>>5\n",
            "15\n"
          ]
        }
      ]
    },
    {
      "cell_type": "code",
      "source": [
        "# p129 3번\n",
        "\n",
        "a = int(input('몇 개의 과일을 보관할까요? >>>'))\n",
        "\n",
        "basket = []\n",
        "\n",
        "for i in range(a):\n",
        "  fruit = input(f'{i+1}번째 과일을 입력하세요 >>>')\n",
        "  basket.append(fruit)\n",
        "\n",
        "\n",
        "print(f'입력받은 과일들은 {basket}입니다.')"
      ],
      "metadata": {
        "colab": {
          "base_uri": "https://localhost:8080/"
        },
        "id": "iVYE3zsxR_E8",
        "outputId": "db03331b-5593-4c7a-de8a-62154d6bcaed"
      },
      "execution_count": 71,
      "outputs": [
        {
          "output_type": "stream",
          "name": "stdout",
          "text": [
            "몇 개의 과일을 보관할까요? >>>5\n",
            "1번째 과일을 입력하세요 >>>사과\n",
            "2번째 과일을 입력하세요 >>>딸기\n",
            "3번째 과일을 입력하세요 >>>바나나\n",
            "4번째 과일을 입력하세요 >>>토마토\n",
            "5번째 과일을 입력하세요 >>>포도\n",
            "입력받은 과일들은 ['사과', '딸기', '바나나', '토마토', '포도']입니다.\n"
          ]
        }
      ]
    },
    {
      "cell_type": "code",
      "source": [
        "# p134    break (반복 강제 종료)\n",
        "\n",
        "n = 1\n",
        "while n <= 10:\n",
        "  print(n)\n",
        "\n",
        "  n += 1"
      ],
      "metadata": {
        "colab": {
          "base_uri": "https://localhost:8080/"
        },
        "id": "EwlYcC7HUIEs",
        "outputId": "5485f4b7-d4df-4ab5-dbf8-23d64eebf0f1"
      },
      "execution_count": 76,
      "outputs": [
        {
          "output_type": "stream",
          "name": "stdout",
          "text": [
            "1\n",
            "2\n",
            "3\n",
            "4\n",
            "5\n",
            "6\n",
            "7\n",
            "8\n",
            "9\n",
            "10\n"
          ]
        }
      ]
    },
    {
      "cell_type": "code",
      "source": [
        "n = 1\n",
        "while True:\n",
        "  print(n)\n",
        "  if n == 10:\n",
        "    break\n",
        "  n += 1"
      ],
      "metadata": {
        "colab": {
          "base_uri": "https://localhost:8080/"
        },
        "id": "Kl2J4JICUqzU",
        "outputId": "6f91af7e-5519-4f24-f658-d1b0f19cd3a3"
      },
      "execution_count": 78,
      "outputs": [
        {
          "output_type": "stream",
          "name": "stdout",
          "text": [
            "1\n",
            "2\n",
            "3\n",
            "4\n",
            "5\n",
            "6\n",
            "7\n",
            "8\n",
            "9\n",
            "10\n"
          ]
        }
      ]
    },
    {
      "cell_type": "code",
      "source": [
        "# p138   continue  (시작 지점으로)\n",
        "\n",
        "total = 0;\n",
        "for a in range(1,101):\n",
        "  if a % 3 == 0:\n",
        "    continue\n",
        "  total += a\n",
        "\n",
        "print(total)"
      ],
      "metadata": {
        "colab": {
          "base_uri": "https://localhost:8080/"
        },
        "id": "dbVJdH9dU-CY",
        "outputId": "cfe61a95-ca0f-4794-c0c6-cef047f3c65b"
      },
      "execution_count": 85,
      "outputs": [
        {
          "output_type": "stream",
          "name": "stdout",
          "text": [
            "3367\n"
          ]
        }
      ]
    },
    {
      "cell_type": "code",
      "source": [
        "# p141 1번\n",
        "\n",
        "coin = 10000\n",
        "while True:\n",
        "  print(f'현재 {coin}원이 있습니다.')\n",
        "\n",
        "  if coin == 0:\n",
        "    break\n",
        "\n",
        "  pay = int(input('사용할 금액 입력 >>> '))\n",
        " \n",
        "  if pay <= 0:\n",
        "    print('0이하의 금액은 사용할 수 없습니다.')\n",
        "  elif pay > coin:\n",
        "    print(f'{pay - coin}원이 부족합니다.')  \n",
        "  else:\n",
        "    coin -= pay"
      ],
      "metadata": {
        "id": "1tLJVVi5Yj7v",
        "colab": {
          "base_uri": "https://localhost:8080/"
        },
        "outputId": "a8aa4940-0fa3-4209-a465-6e8e16e5cfe4"
      },
      "execution_count": 92,
      "outputs": [
        {
          "output_type": "stream",
          "name": "stdout",
          "text": [
            "현재 10000원이 있습니다.\n",
            "사용할 금액 입력 >>> 10000\n",
            "현재 0원이 있습니다.\n"
          ]
        }
      ]
    },
    {
      "cell_type": "code",
      "source": [
        "# p141 2번\n",
        "\n",
        "while True:\n",
        "  score = int(input('이번 영화의 평점을 입력하세요 >>>'))\n",
        "\n",
        "  if score > 5 or score <= 0:\n",
        "    print('평점은 1~5 사이만 입력할 수 있습니다.')\n",
        "  else:\n",
        "    print('평점: ', '★' *  score )\n",
        "    break"
      ],
      "metadata": {
        "colab": {
          "base_uri": "https://localhost:8080/"
        },
        "id": "dthM0bT-a1kt",
        "outputId": "d2449d19-cdde-4b3e-c9b3-e20f764e724b"
      },
      "execution_count": 107,
      "outputs": [
        {
          "output_type": "stream",
          "name": "stdout",
          "text": [
            "이번 영화의 평점을 입력하세요 >>>5\n",
            "평점:  ★★★★★\n"
          ]
        }
      ]
    },
    {
      "cell_type": "code",
      "source": [
        "# p142 3번\n",
        "\n",
        "answer = 'qwerty'\n",
        "\n",
        "no = 1\n",
        "\n",
        "while True:\n",
        "  pw = input('비밀번호를 입력하세요 >>> ')\n",
        "\n",
        "  if answer == pw:\n",
        "    print('비밀번호를 맞혔습니다.')\n",
        "    break\n",
        "  \n",
        "  if no == 5:\n",
        "     print('비밀번호 입력횟수를 초과했습니다.')\n",
        "     break\n",
        "     \n",
        "  no += 1\n",
        "\n",
        " "
      ],
      "metadata": {
        "colab": {
          "base_uri": "https://localhost:8080/"
        },
        "id": "2FYUygf7dtuG",
        "outputId": "d2b12645-7994-46d0-a251-f7b87d5fdf84"
      },
      "execution_count": 113,
      "outputs": [
        {
          "output_type": "stream",
          "name": "stdout",
          "text": [
            "비밀번호를 입력하세요 >>> qwerty\n",
            "비밀번호를 맞혔습니다.\n"
          ]
        }
      ]
    },
    {
      "cell_type": "code",
      "source": [
        "# p143 4번\n",
        "\n",
        "for a in range(2,10):\n",
        "  if a % 2 == 0:\n",
        "    continue\n",
        "  for b in range(1,10):\n",
        "    if b > a:\n",
        "      break\n",
        "    print(f'{a} * {b} = {a * b}')\n",
        "  print()"
      ],
      "metadata": {
        "colab": {
          "base_uri": "https://localhost:8080/"
        },
        "id": "ZScZXcFUf2y5",
        "outputId": "02616a8c-8452-416b-df25-31e5107d538d"
      },
      "execution_count": 123,
      "outputs": [
        {
          "output_type": "stream",
          "name": "stdout",
          "text": [
            "3 * 1 = 3\n",
            "3 * 2 = 6\n",
            "3 * 3 = 9\n",
            "\n",
            "5 * 1 = 5\n",
            "5 * 2 = 10\n",
            "5 * 3 = 15\n",
            "5 * 4 = 20\n",
            "5 * 5 = 25\n",
            "\n",
            "7 * 1 = 7\n",
            "7 * 2 = 14\n",
            "7 * 3 = 21\n",
            "7 * 4 = 28\n",
            "7 * 5 = 35\n",
            "7 * 6 = 42\n",
            "7 * 7 = 49\n",
            "\n",
            "9 * 1 = 9\n",
            "9 * 2 = 18\n",
            "9 * 3 = 27\n",
            "9 * 4 = 36\n",
            "9 * 5 = 45\n",
            "9 * 6 = 54\n",
            "9 * 7 = 63\n",
            "9 * 8 = 72\n",
            "9 * 9 = 81\n",
            "\n"
          ]
        }
      ]
    },
    {
      "cell_type": "code",
      "source": [
        "# p146 내장함수\n",
        "\n",
        "# enumerate()\n",
        "\n",
        "for item in enumerate(['가위','바위','보']):\n",
        "  print(item)"
      ],
      "metadata": {
        "colab": {
          "base_uri": "https://localhost:8080/"
        },
        "id": "G6uH89Kzj6rm",
        "outputId": "02ed14d4-0da2-44f5-ace1-1bac3662346e"
      },
      "execution_count": 125,
      "outputs": [
        {
          "output_type": "stream",
          "name": "stdout",
          "text": [
            "(0, '가위')\n",
            "(1, '바위')\n",
            "(2, '보')\n"
          ]
        }
      ]
    },
    {
      "cell_type": "code",
      "source": [
        "for idx, item in enumerate(['가위','바위','보']):\n",
        "  print(idx, item)"
      ],
      "metadata": {
        "colab": {
          "base_uri": "https://localhost:8080/"
        },
        "id": "B8XfsO5Om4V8",
        "outputId": "e98fbe68-60b0-4f64-d01a-401753708c5a"
      },
      "execution_count": 127,
      "outputs": [
        {
          "output_type": "stream",
          "name": "stdout",
          "text": [
            "0 가위\n",
            "1 바위\n",
            "2 보\n"
          ]
        }
      ]
    },
    {
      "cell_type": "code",
      "source": [
        "# zip()\n",
        "\n",
        "names = ['james','emily','amanda']\n",
        "scores = [60,70,80]\n",
        "\n",
        "for student in zip(names,scores):\n",
        "  print(student)"
      ],
      "metadata": {
        "colab": {
          "base_uri": "https://localhost:8080/"
        },
        "id": "TpJMyoQ0nUfm",
        "outputId": "9ded85c6-9752-4437-d662-61cdf9ed87ba"
      },
      "execution_count": 129,
      "outputs": [
        {
          "output_type": "stream",
          "name": "stdout",
          "text": [
            "('james', 60)\n",
            "('emily', 70)\n",
            "('amanda', 80)\n"
          ]
        }
      ]
    },
    {
      "cell_type": "code",
      "source": [
        "names = ['james','emily','amanda']\n",
        "scores = [60,70,80]\n",
        "\n",
        "for name, score in zip(names,scores):\n",
        "  print(f'{name}의 점수는 {score}점 입니다.')"
      ],
      "metadata": {
        "colab": {
          "base_uri": "https://localhost:8080/"
        },
        "id": "9OkX_38cnzz9",
        "outputId": "7e647356-eef7-4d53-f5ea-8e262775a6c9"
      },
      "execution_count": 131,
      "outputs": [
        {
          "output_type": "stream",
          "name": "stdout",
          "text": [
            "james의 점수는 60점 입니다.\n",
            "emily의 점수는 70점 입니다.\n",
            "amanda의 점수는 80점 입니다.\n"
          ]
        }
      ]
    },
    {
      "cell_type": "code",
      "source": [
        "# p184 사용자 함수\n",
        "\n",
        "# def 함수명(변수) :\n",
        "#  본문\n",
        "#  return 결과"
      ],
      "metadata": {
        "id": "nWQEP3dbo-6E"
      },
      "execution_count": 132,
      "outputs": []
    },
    {
      "cell_type": "code",
      "source": [
        "# 1. 인수 없고 반환 없는 사용자 정의 함수\n",
        "\n",
        "def welcome():\n",
        "  print('Hello World')\n",
        "\n",
        "\n",
        "welcome()"
      ],
      "metadata": {
        "colab": {
          "base_uri": "https://localhost:8080/"
        },
        "id": "8DP0K58mq_4o",
        "outputId": "263e6af4-19fa-4703-8a9e-dfe65979f8c2"
      },
      "execution_count": 142,
      "outputs": [
        {
          "output_type": "stream",
          "name": "stdout",
          "text": [
            "Hello World\n"
          ]
        }
      ]
    },
    {
      "cell_type": "code",
      "source": [
        "# 2. 인수 있고 반환 없는 사용자 정의 함수\n",
        "\n",
        "def welcome(name):\n",
        "  print('Hello', name)\n",
        "\n",
        "\n",
        "welcome('Austin')"
      ],
      "metadata": {
        "colab": {
          "base_uri": "https://localhost:8080/"
        },
        "id": "GvLHnHE5rguj",
        "outputId": "14689740-9a2a-4f53-8a6a-6b6fd566f0e8"
      },
      "execution_count": 138,
      "outputs": [
        {
          "output_type": "stream",
          "name": "stdout",
          "text": [
            "Hello Austin\n"
          ]
        }
      ]
    },
    {
      "cell_type": "code",
      "source": [
        "# 3. 인수 없고 반환 있는 사용자 정의 함수\n",
        "\n",
        "def welcome():\n",
        "  return 1\n",
        "\n",
        "welcome()"
      ],
      "metadata": {
        "colab": {
          "base_uri": "https://localhost:8080/"
        },
        "id": "L3Loe6k8rta1",
        "outputId": "e27bd5d6-6e44-498f-9fba-ae02ca82449a"
      },
      "execution_count": 139,
      "outputs": [
        {
          "output_type": "execute_result",
          "data": {
            "text/plain": [
              "1"
            ]
          },
          "metadata": {},
          "execution_count": 139
        }
      ]
    },
    {
      "cell_type": "code",
      "source": [
        "# 4. 인수 있고 반환 있는 사용자 정의 함수 (가장 많이 사용)\n",
        "\n",
        "def add(a,b):\n",
        "  return a+b\n",
        "\n",
        "add(3,4)"
      ],
      "metadata": {
        "colab": {
          "base_uri": "https://localhost:8080/"
        },
        "id": "y5lEOFO1qdNM",
        "outputId": "f139210b-24b0-4b41-c248-6b37db1fe120"
      },
      "execution_count": 143,
      "outputs": [
        {
          "output_type": "execute_result",
          "data": {
            "text/plain": [
              "7"
            ]
          },
          "metadata": {},
          "execution_count": 143
        }
      ]
    },
    {
      "cell_type": "code",
      "source": [
        "def introduce(name,age):\n",
        "  print(f'내 이름은 {name}이고, 나이는 {age}살 입니다.')\n",
        "\n",
        "introduce('james', 25)"
      ],
      "metadata": {
        "colab": {
          "base_uri": "https://localhost:8080/"
        },
        "id": "Ef5cZ9Dqs0KP",
        "outputId": "74ebc119-a2b6-4364-9a88-860ab50e22db"
      },
      "execution_count": 147,
      "outputs": [
        {
          "output_type": "stream",
          "name": "stdout",
          "text": [
            "내 이름은 james이고, 나이는 25살 입니다.\n"
          ]
        }
      ]
    },
    {
      "cell_type": "code",
      "source": [
        "#  가변 매개변수\n",
        "\n",
        "def add2(a,b):\n",
        "  return a+b\n",
        "\n",
        "def add3(a,b,c):\n",
        "  return a+b+c\n",
        "\n",
        "add2(3,4)\n",
        "\n",
        "\n",
        "\n",
        "\n",
        "def add(*args):\n",
        "  sum = 0\n",
        "  for item in args:\n",
        "    sum += item\n",
        "  print(sum)\n",
        "\n",
        "add(1,2,3,4,5,6,7,8,9)"
      ],
      "metadata": {
        "colab": {
          "base_uri": "https://localhost:8080/"
        },
        "id": "Sf856o5jtUNY",
        "outputId": "9467cf57-77f5-4707-aebd-fc601addbb37"
      },
      "execution_count": 162,
      "outputs": [
        {
          "output_type": "stream",
          "name": "stdout",
          "text": [
            "45\n"
          ]
        }
      ]
    },
    {
      "cell_type": "code",
      "source": [
        "del sum\n",
        "\n",
        "def add(*args):\n",
        "  print(f'{sum(args)}입니다.')\n",
        "\n",
        "\n",
        "add(1,2,3)"
      ],
      "metadata": {
        "colab": {
          "base_uri": "https://localhost:8080/"
        },
        "id": "7zzpHhXUvlGE",
        "outputId": "9aeffb42-95f4-44e3-901e-69386706fd85"
      },
      "execution_count": 175,
      "outputs": [
        {
          "output_type": "stream",
          "name": "stdout",
          "text": [
            "6입니다.\n"
          ]
        }
      ]
    },
    {
      "cell_type": "code",
      "source": [
        "# 디폴트 매개변수\n",
        "def greet(message='안녕하세요'):\n",
        "  print(message)\n",
        "\n",
        "greet()"
      ],
      "metadata": {
        "colab": {
          "base_uri": "https://localhost:8080/"
        },
        "id": "UEwONPt3uzug",
        "outputId": "bdd48eb3-3aaf-4a34-833e-24dd70e9fec1"
      },
      "execution_count": 160,
      "outputs": [
        {
          "output_type": "stream",
          "name": "stdout",
          "text": [
            "안녕하세요\n"
          ]
        }
      ]
    },
    {
      "cell_type": "code",
      "source": [
        "greet('방가방가')"
      ],
      "metadata": {
        "colab": {
          "base_uri": "https://localhost:8080/"
        },
        "id": "ZrRJv3G_vGVs",
        "outputId": "f98e2d13-4682-4d7e-e620-4c8621eb7af8"
      },
      "execution_count": 161,
      "outputs": [
        {
          "output_type": "stream",
          "name": "stdout",
          "text": [
            "방가방가\n"
          ]
        }
      ]
    }
  ]
}