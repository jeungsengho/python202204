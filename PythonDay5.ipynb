{
  "nbformat": 4,
  "nbformat_minor": 0,
  "metadata": {
    "colab": {
      "name": "PythonDay5.ipynb",
      "provenance": [],
      "authorship_tag": "ABX9TyPSey/gM7548c4gCcElA2nw",
      "include_colab_link": true
    },
    "kernelspec": {
      "name": "python3",
      "display_name": "Python 3"
    },
    "language_info": {
      "name": "python"
    }
  },
  "cells": [
    {
      "cell_type": "markdown",
      "metadata": {
        "id": "view-in-github",
        "colab_type": "text"
      },
      "source": [
        "<a href=\"https://colab.research.google.com/github/jeungsengho/python202204/blob/main/PythonDay5.ipynb\" target=\"_parent\"><img src=\"https://colab.research.google.com/assets/colab-badge.svg\" alt=\"Open In Colab\"/></a>"
      ]
    },
    {
      "cell_type": "code",
      "execution_count": 2,
      "metadata": {
        "colab": {
          "base_uri": "https://localhost:8080/"
        },
        "id": "nERUpiP-EoK5",
        "outputId": "504a3a1a-11dc-4350-fa7e-4652dbe5b9f1"
      },
      "outputs": [
        {
          "output_type": "stream",
          "name": "stdout",
          "text": [
            "1\n",
            "2\n",
            "3\n"
          ]
        }
      ],
      "source": [
        "# p116 for문\n",
        "\n",
        "\n",
        "for n in [1,2,3]:\n",
        "  print(n)"
      ]
    },
    {
      "cell_type": "code",
      "source": [
        "n = 1\n",
        "while n in [1,2,3]:\n",
        "  print(n)\n",
        "  n += 1"
      ],
      "metadata": {
        "colab": {
          "base_uri": "https://localhost:8080/"
        },
        "id": "ybDINiujLkMv",
        "outputId": "acc355ad-fdb7-4460-fd5b-de08eae31afc"
      },
      "execution_count": 17,
      "outputs": [
        {
          "output_type": "stream",
          "name": "stdout",
          "text": [
            "1\n",
            "2\n",
            "3\n"
          ]
        }
      ]
    },
    {
      "cell_type": "code",
      "source": [
        "# 반복 가능 객체 (컬렉션)\n",
        "# 시퀀스 자료형 - 문자열 리스트 튜플 range\n",
        "# 비시퀀스 자료형 - 셋, 딕셔너리 (순서가 없다.)\n",
        "\n",
        "for ch in 'Hello':\n",
        "  print(ch)"
      ],
      "metadata": {
        "colab": {
          "base_uri": "https://localhost:8080/"
        },
        "id": "XHtrweWsMwDA",
        "outputId": "f023a868-8bc0-4aba-be5d-61f8999bad2c"
      },
      "execution_count": 19,
      "outputs": [
        {
          "output_type": "stream",
          "name": "stdout",
          "text": [
            "H\n",
            "e\n",
            "l\n",
            "l\n",
            "o\n"
          ]
        }
      ]
    },
    {
      "cell_type": "code",
      "source": [
        "# for 문과 list\n",
        "for item in ['가위', '바위', '보']:\n",
        "  print(item)"
      ],
      "metadata": {
        "colab": {
          "base_uri": "https://localhost:8080/"
        },
        "id": "t4eGeuiANR6i",
        "outputId": "f82ae972-ebde-4f7f-b1f1-b8a8986027f7"
      },
      "execution_count": 22,
      "outputs": [
        {
          "output_type": "stream",
          "name": "stdout",
          "text": [
            "가위\n",
            "바위\n",
            "보\n"
          ]
        }
      ]
    },
    {
      "cell_type": "code",
      "source": [
        "# for 문과 tuple\n",
        "for season in ('Spring','Summer','Autumn','Winter'):\n",
        "  print(season)"
      ],
      "metadata": {
        "colab": {
          "base_uri": "https://localhost:8080/"
        },
        "id": "wk_oC02BNY5_",
        "outputId": "bf2206c9-3010-460c-a0bf-d079fe590eec"
      },
      "execution_count": 24,
      "outputs": [
        {
          "output_type": "stream",
          "name": "stdout",
          "text": [
            "Spring\n",
            "Summer\n",
            "Autumn\n",
            "Winter\n"
          ]
        }
      ]
    },
    {
      "cell_type": "code",
      "source": [
        "# for 문과 range()\n",
        "\n",
        "# range(5)     # 0부터 5 미만 까지 즉, 4까지\n",
        "# range(2,10)    # 2부터 10 미만 까지 즉, 9까지"
      ],
      "metadata": {
        "id": "uDvlQTxuN8o_"
      },
      "execution_count": 27,
      "outputs": []
    },
    {
      "cell_type": "code",
      "source": [
        "print(list(range(5)))"
      ],
      "metadata": {
        "colab": {
          "base_uri": "https://localhost:8080/"
        },
        "id": "GLwJHXEeObFs",
        "outputId": "262282c5-7630-4f06-c713-cc9dc82137fc"
      },
      "execution_count": 29,
      "outputs": [
        {
          "output_type": "stream",
          "name": "stdout",
          "text": [
            "[0, 1, 2, 3, 4]\n"
          ]
        }
      ]
    },
    {
      "cell_type": "code",
      "source": [
        "print(list(range(2,10)))"
      ],
      "metadata": {
        "colab": {
          "base_uri": "https://localhost:8080/"
        },
        "id": "84A7O1rsOlS0",
        "outputId": "c56aa84a-12f2-4cba-da87-e7c3a6d7d866"
      },
      "execution_count": 31,
      "outputs": [
        {
          "output_type": "stream",
          "name": "stdout",
          "text": [
            "[2, 3, 4, 5, 6, 7, 8, 9]\n"
          ]
        }
      ]
    },
    {
      "cell_type": "code",
      "source": [
        "for n in [1,2,3,4,5,6,7,8,9,10]:\n",
        "  print(n)"
      ],
      "metadata": {
        "colab": {
          "base_uri": "https://localhost:8080/"
        },
        "id": "RIjSfhBuOw4k",
        "outputId": "22602870-3c7c-40d2-a265-1571d17600c2"
      },
      "execution_count": 33,
      "outputs": [
        {
          "output_type": "stream",
          "name": "stdout",
          "text": [
            "1\n",
            "2\n",
            "3\n",
            "4\n",
            "5\n",
            "6\n",
            "7\n",
            "8\n",
            "9\n",
            "10\n"
          ]
        }
      ]
    },
    {
      "cell_type": "code",
      "source": [
        "for n in range(1,11):\n",
        "  print(n)"
      ],
      "metadata": {
        "colab": {
          "base_uri": "https://localhost:8080/"
        },
        "id": "GdoiWfbRPA95",
        "outputId": "b5f0af02-c528-43bb-fad9-5a16e115ab98"
      },
      "execution_count": 35,
      "outputs": [
        {
          "output_type": "stream",
          "name": "stdout",
          "text": [
            "1\n",
            "2\n",
            "3\n",
            "4\n",
            "5\n",
            "6\n",
            "7\n",
            "8\n",
            "9\n",
            "10\n"
          ]
        }
      ]
    },
    {
      "cell_type": "code",
      "source": [
        "# for 문과 set (set은 순서가 없다.)\n",
        "for item in {'가위','바위','보'}:\n",
        "  print(item)\n"
      ],
      "metadata": {
        "colab": {
          "base_uri": "https://localhost:8080/"
        },
        "id": "HVSt2hxyPI9P",
        "outputId": "e3cd53d6-b069-4b5a-d414-8a8804762fbd"
      },
      "execution_count": 44,
      "outputs": [
        {
          "output_type": "stream",
          "name": "stdout",
          "text": [
            "가위\n",
            "바위\n",
            "보\n"
          ]
        }
      ]
    },
    {
      "cell_type": "code",
      "source": [
        "# for 문과 딕셔너리 (키와 밸류값)\n",
        "\n",
        "person = {\n",
        "    'name':'에밀리',\n",
        "    'age':20\n",
        "}\n",
        "\n",
        "for item in person:\n",
        "  print(item, person[item])"
      ],
      "metadata": {
        "colab": {
          "base_uri": "https://localhost:8080/"
        },
        "id": "I-8KS-vwPoXt",
        "outputId": "929b9e68-fbcb-4cb8-9237-c08ebf6fbc28"
      },
      "execution_count": 47,
      "outputs": [
        {
          "output_type": "stream",
          "name": "stdout",
          "text": [
            "name 에밀리\n",
            "age 20\n"
          ]
        }
      ]
    },
    {
      "cell_type": "code",
      "source": [
        "# p129 2번\n",
        "n = int(input('임의의 양수를 입력하세요 >>>'))\n",
        "\n",
        "sum = 0\n",
        "for no in range(1,n+1):\n",
        "  sum += no\n",
        "print(sum)"
      ],
      "metadata": {
        "colab": {
          "base_uri": "https://localhost:8080/"
        },
        "id": "K9Rrpf5xTmPd",
        "outputId": "61daa31b-30eb-4433-93f7-75fa2f90835a"
      },
      "execution_count": 70,
      "outputs": [
        {
          "output_type": "stream",
          "name": "stdout",
          "text": [
            "임의의 양수를 입력하세요 >>>5\n",
            "15\n"
          ]
        }
      ]
    },
    {
      "cell_type": "code",
      "source": [
        "# p129 3번\n",
        "\n",
        "a = int(input('몇 개의 과일을 보관할까요? >>>'))\n",
        "\n",
        "basket = []\n",
        "\n",
        "for i in range(a):\n",
        "  fruit = input(f'{i+1}번째 과일을 입력하세요 >>>')\n",
        "  basket.append(fruit)\n",
        "\n",
        "\n",
        "print(f'입력받은 과일들은 {basket}입니다.')"
      ],
      "metadata": {
        "colab": {
          "base_uri": "https://localhost:8080/"
        },
        "id": "iVYE3zsxR_E8",
        "outputId": "db03331b-5593-4c7a-de8a-62154d6bcaed"
      },
      "execution_count": 71,
      "outputs": [
        {
          "output_type": "stream",
          "name": "stdout",
          "text": [
            "몇 개의 과일을 보관할까요? >>>5\n",
            "1번째 과일을 입력하세요 >>>사과\n",
            "2번째 과일을 입력하세요 >>>딸기\n",
            "3번째 과일을 입력하세요 >>>바나나\n",
            "4번째 과일을 입력하세요 >>>토마토\n",
            "5번째 과일을 입력하세요 >>>포도\n",
            "입력받은 과일들은 ['사과', '딸기', '바나나', '토마토', '포도']입니다.\n"
          ]
        }
      ]
    },
    {
      "cell_type": "code",
      "source": [
        "# p134    break (반복 강제 종료)\n",
        "\n",
        "n = 1\n",
        "while n <= 10:\n",
        "  print(n)\n",
        "\n",
        "  n += 1"
      ],
      "metadata": {
        "colab": {
          "base_uri": "https://localhost:8080/"
        },
        "id": "EwlYcC7HUIEs",
        "outputId": "5485f4b7-d4df-4ab5-dbf8-23d64eebf0f1"
      },
      "execution_count": 76,
      "outputs": [
        {
          "output_type": "stream",
          "name": "stdout",
          "text": [
            "1\n",
            "2\n",
            "3\n",
            "4\n",
            "5\n",
            "6\n",
            "7\n",
            "8\n",
            "9\n",
            "10\n"
          ]
        }
      ]
    },
    {
      "cell_type": "code",
      "source": [
        "n = 1\n",
        "while True:\n",
        "  print(n)\n",
        "  if n == 10:\n",
        "    break\n",
        "  n += 1"
      ],
      "metadata": {
        "colab": {
          "base_uri": "https://localhost:8080/"
        },
        "id": "Kl2J4JICUqzU",
        "outputId": "6f91af7e-5519-4f24-f658-d1b0f19cd3a3"
      },
      "execution_count": 78,
      "outputs": [
        {
          "output_type": "stream",
          "name": "stdout",
          "text": [
            "1\n",
            "2\n",
            "3\n",
            "4\n",
            "5\n",
            "6\n",
            "7\n",
            "8\n",
            "9\n",
            "10\n"
          ]
        }
      ]
    },
    {
      "cell_type": "code",
      "source": [
        "# p138   continue  (시작 지점으로)\n",
        "\n",
        "total = 0;\n",
        "for a in range(1,101):\n",
        "  if a % 3 == 0:\n",
        "    continue\n",
        "  total += a\n",
        "\n",
        "print(total)"
      ],
      "metadata": {
        "colab": {
          "base_uri": "https://localhost:8080/"
        },
        "id": "dbVJdH9dU-CY",
        "outputId": "cfe61a95-ca0f-4794-c0c6-cef047f3c65b"
      },
      "execution_count": 85,
      "outputs": [
        {
          "output_type": "stream",
          "name": "stdout",
          "text": [
            "3367\n"
          ]
        }
      ]
    },
    {
      "cell_type": "code",
      "source": [
        "# p141 1번\n",
        "\n",
        "coin = 10000\n",
        "while True:\n",
        "  print(f'현재 {coin}원이 있습니다.')\n",
        "\n",
        "  if coin == 0:\n",
        "    break\n",
        "\n",
        "  pay = int(input('사용할 금액 입력 >>> '))\n",
        " \n",
        "  if pay <= 0:\n",
        "    print('0이하의 금액은 사용할 수 없습니다.')\n",
        "  elif pay > coin:\n",
        "    print(f'{pay - coin}원이 부족합니다.')  \n",
        "  else:\n",
        "    coin -= pay"
      ],
      "metadata": {
        "id": "1tLJVVi5Yj7v",
        "colab": {
          "base_uri": "https://localhost:8080/"
        },
        "outputId": "a8aa4940-0fa3-4209-a465-6e8e16e5cfe4"
      },
      "execution_count": 92,
      "outputs": [
        {
          "output_type": "stream",
          "name": "stdout",
          "text": [
            "현재 10000원이 있습니다.\n",
            "사용할 금액 입력 >>> 10000\n",
            "현재 0원이 있습니다.\n"
          ]
        }
      ]
    },
    {
      "cell_type": "code",
      "source": [
        "# p141 2번\n",
        "\n",
        "while True:\n",
        "  score = int(input('이번 영화의 평점을 입력하세요 >>>'))\n",
        "\n",
        "  if score > 5 or score <= 0:\n",
        "    print('평점은 1~5 사이만 입력할 수 있습니다.')\n",
        "  else:\n",
        "    print('평점: ', '★' *  score )\n",
        "    break"
      ],
      "metadata": {
        "colab": {
          "base_uri": "https://localhost:8080/"
        },
        "id": "dthM0bT-a1kt",
        "outputId": "d2449d19-cdde-4b3e-c9b3-e20f764e724b"
      },
      "execution_count": 107,
      "outputs": [
        {
          "output_type": "stream",
          "name": "stdout",
          "text": [
            "이번 영화의 평점을 입력하세요 >>>5\n",
            "평점:  ★★★★★\n"
          ]
        }
      ]
    },
    {
      "cell_type": "code",
      "source": [
        "# p142 3번\n",
        "\n",
        "answer = 'qwerty'\n",
        "\n",
        "no = 1\n",
        "\n",
        "while True:\n",
        "  pw = input('비밀번호를 입력하세요 >>> ')\n",
        "\n",
        "  if answer == pw:\n",
        "    print('비밀번호를 맞혔습니다.')\n",
        "    break\n",
        "  \n",
        "  if no == 5:\n",
        "     print('비밀번호 입력횟수를 초과했습니다.')\n",
        "     break\n",
        "     \n",
        "  no += 1\n",
        "\n",
        " "
      ],
      "metadata": {
        "colab": {
          "base_uri": "https://localhost:8080/"
        },
        "id": "2FYUygf7dtuG",
        "outputId": "d2b12645-7994-46d0-a251-f7b87d5fdf84"
      },
      "execution_count": 113,
      "outputs": [
        {
          "output_type": "stream",
          "name": "stdout",
          "text": [
            "비밀번호를 입력하세요 >>> qwerty\n",
            "비밀번호를 맞혔습니다.\n"
          ]
        }
      ]
    },
    {
      "cell_type": "code",
      "source": [
        "# p143 4번\n",
        "\n",
        "for a in range(2,10):\n",
        "  if a % 2 == 0:\n",
        "    continue\n",
        "  for b in range(1,10):\n",
        "    if b > a:\n",
        "      break\n",
        "    print(f'{a} * {b} = {a * b}')\n",
        "  print()"
      ],
      "metadata": {
        "colab": {
          "base_uri": "https://localhost:8080/"
        },
        "id": "ZScZXcFUf2y5",
        "outputId": "02616a8c-8452-416b-df25-31e5107d538d"
      },
      "execution_count": 123,
      "outputs": [
        {
          "output_type": "stream",
          "name": "stdout",
          "text": [
            "3 * 1 = 3\n",
            "3 * 2 = 6\n",
            "3 * 3 = 9\n",
            "\n",
            "5 * 1 = 5\n",
            "5 * 2 = 10\n",
            "5 * 3 = 15\n",
            "5 * 4 = 20\n",
            "5 * 5 = 25\n",
            "\n",
            "7 * 1 = 7\n",
            "7 * 2 = 14\n",
            "7 * 3 = 21\n",
            "7 * 4 = 28\n",
            "7 * 5 = 35\n",
            "7 * 6 = 42\n",
            "7 * 7 = 49\n",
            "\n",
            "9 * 1 = 9\n",
            "9 * 2 = 18\n",
            "9 * 3 = 27\n",
            "9 * 4 = 36\n",
            "9 * 5 = 45\n",
            "9 * 6 = 54\n",
            "9 * 7 = 63\n",
            "9 * 8 = 72\n",
            "9 * 9 = 81\n",
            "\n"
          ]
        }
      ]
    }
  ]
}