{
  "nbformat": 4,
  "nbformat_minor": 0,
  "metadata": {
    "colab": {
      "name": "연결리스트.ipynb",
      "provenance": [],
      "authorship_tag": "ABX9TyNP+dIiYuTogc2gzskYReyv",
      "include_colab_link": true
    },
    "kernelspec": {
      "name": "python3",
      "display_name": "Python 3"
    },
    "language_info": {
      "name": "python"
    }
  },
  "cells": [
    {
      "cell_type": "markdown",
      "metadata": {
        "id": "view-in-github",
        "colab_type": "text"
      },
      "source": [
        "<a href=\"https://colab.research.google.com/github/jeungsengho/python202204/blob/main/%EC%97%B0%EA%B2%B0%EB%A6%AC%EC%8A%A4%ED%8A%B8.ipynb\" target=\"_parent\"><img src=\"https://colab.research.google.com/assets/colab-badge.svg\" alt=\"Open In Colab\"/></a>"
      ]
    },
    {
      "cell_type": "code",
      "execution_count": 3,
      "metadata": {
        "colab": {
          "base_uri": "https://localhost:8080/"
        },
        "id": "04YHyEHtrbNt",
        "outputId": "a838b109-002c-4b58-c5cb-bbc4f8c49366"
      },
      "outputs": [
        {
          "output_type": "stream",
          "name": "stdout",
          "text": [
            "1\n",
            "None\n"
          ]
        }
      ],
      "source": [
        "# 자료구조\n",
        "\n",
        "# 선형구조 - 스택, 큐, 리스트, 연결리스트 (Linked List)\n",
        "# 비선형구조 - 트리, 그래프...\n",
        "# 파일구조 - 순차, 색인...\n",
        "\n",
        "# 리스트 자료형 - 연속적인 저장 형태, 크기가 동적이다.\n",
        "\n",
        "# 연결 리스트 - 저장되는 각 데이터가 이전데이터 또는 다음데이터를 가리키는\n",
        "#               정보까지 포함한다. (ex : 데이터 + 다음데이터 위치)\n",
        "\n",
        "class Node: # 연결리스트 구성하는 객체를 생성하는 클래스\n",
        "  def __init__(self, data, next=None) : # 생성자\n",
        "    self.data=data\n",
        "    self.next=next\n",
        "\n",
        "node1 = Node(1) # data = 1, next=None\n",
        "\n",
        "print(node1.data)\n",
        "print(node1.next)"
      ]
    },
    {
      "cell_type": "code",
      "source": [
        "node2 = Node(2)\n",
        "print(node2.data)\n",
        "print(node2.next)"
      ],
      "metadata": {
        "colab": {
          "base_uri": "https://localhost:8080/"
        },
        "id": "znbqmwIZuB8X",
        "outputId": "357aaa17-63f8-495b-baab-2ca6c22d1002"
      },
      "execution_count": 4,
      "outputs": [
        {
          "output_type": "stream",
          "name": "stdout",
          "text": [
            "2\n",
            "None\n"
          ]
        }
      ]
    },
    {
      "cell_type": "code",
      "source": [
        "# node1 과 node2 를 연결해보자\n",
        "\n",
        "node1.next = node2\n",
        "\n",
        "print(node1.data)\n",
        "print(node1.next)"
      ],
      "metadata": {
        "colab": {
          "base_uri": "https://localhost:8080/"
        },
        "id": "QT8wQfMGuPTH",
        "outputId": "d4bc38e9-b168-479a-88f8-3c33124bdf22"
      },
      "execution_count": 5,
      "outputs": [
        {
          "output_type": "stream",
          "name": "stdout",
          "text": [
            "1\n",
            "<__main__.Node object at 0x7f40b3ef7190>\n"
          ]
        }
      ]
    },
    {
      "cell_type": "code",
      "source": [
        "print(node1.next.data)\n",
        "print(node2.data)"
      ],
      "metadata": {
        "colab": {
          "base_uri": "https://localhost:8080/"
        },
        "id": "Mt6eGJt-ul6Y",
        "outputId": "5ec07b76-2951-4191-e110-8392c923d39f"
      },
      "execution_count": 7,
      "outputs": [
        {
          "output_type": "stream",
          "name": "stdout",
          "text": [
            "2\n",
            "2\n"
          ]
        }
      ]
    },
    {
      "cell_type": "code",
      "source": [
        "# 여러개의 연결리스트 요소 만들기\n",
        "\n",
        "class Node:\n",
        "  def __init__(self, data, next=None):\n",
        "    self.data = data\n",
        "    self.next = next\n",
        "\n",
        "  def add(data):\n",
        "    node = head\n",
        "    while node.next:  # node의 next가 있을 경우에만 실행\n",
        "      node = node.next\n",
        "    node.next = Node(data)  # 다음 노드가 없으면 새로운 노드 생성\n",
        "\n",
        "\n",
        "node1 = Node(1)\n",
        "head = node1\n",
        "node1.add(3)\n",
        "print(node1.next.data)"
      ],
      "metadata": {
        "colab": {
          "base_uri": "https://localhost:8080/",
          "height": 229
        },
        "id": "kuX_8kH_vChO",
        "outputId": "aea605f1-4d3b-4b49-ea76-78703b61cb4b"
      },
      "execution_count": 10,
      "outputs": [
        {
          "output_type": "error",
          "ename": "TypeError",
          "evalue": "ignored",
          "traceback": [
            "\u001b[0;31m---------------------------------------------------------------------------\u001b[0m",
            "\u001b[0;31mTypeError\u001b[0m                                 Traceback (most recent call last)",
            "\u001b[0;32m<ipython-input-10-9458ecabe848>\u001b[0m in \u001b[0;36m<module>\u001b[0;34m()\u001b[0m\n\u001b[1;32m     15\u001b[0m \u001b[0mnode1\u001b[0m \u001b[0;34m=\u001b[0m \u001b[0mNode\u001b[0m\u001b[0;34m(\u001b[0m\u001b[0;36m1\u001b[0m\u001b[0;34m)\u001b[0m\u001b[0;34m\u001b[0m\u001b[0;34m\u001b[0m\u001b[0m\n\u001b[1;32m     16\u001b[0m \u001b[0mhead\u001b[0m \u001b[0;34m=\u001b[0m \u001b[0mnode1\u001b[0m\u001b[0;34m\u001b[0m\u001b[0;34m\u001b[0m\u001b[0m\n\u001b[0;32m---> 17\u001b[0;31m \u001b[0mnode1\u001b[0m\u001b[0;34m.\u001b[0m\u001b[0madd\u001b[0m\u001b[0;34m(\u001b[0m\u001b[0;36m3\u001b[0m\u001b[0;34m)\u001b[0m\u001b[0;34m\u001b[0m\u001b[0;34m\u001b[0m\u001b[0m\n\u001b[0m\u001b[1;32m     18\u001b[0m \u001b[0mprint\u001b[0m\u001b[0;34m(\u001b[0m\u001b[0mnode1\u001b[0m\u001b[0;34m.\u001b[0m\u001b[0mnext\u001b[0m\u001b[0;34m.\u001b[0m\u001b[0mdata\u001b[0m\u001b[0;34m)\u001b[0m\u001b[0;34m\u001b[0m\u001b[0;34m\u001b[0m\u001b[0m\n",
            "\u001b[0;31mTypeError\u001b[0m: add() takes 1 positional argument but 2 were given"
          ]
        }
      ]
    }
  ]
}