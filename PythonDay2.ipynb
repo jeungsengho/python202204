{
  "nbformat": 4,
  "nbformat_minor": 0,
  "metadata": {
    "colab": {
      "name": "PythonDay2.ipynb",
      "provenance": [],
      "authorship_tag": "ABX9TyMjA35/ViqJI6bSsn9tPPIv",
      "include_colab_link": true
    },
    "kernelspec": {
      "name": "python3",
      "display_name": "Python 3"
    },
    "language_info": {
      "name": "python"
    }
  },
  "cells": [
    {
      "cell_type": "markdown",
      "metadata": {
        "id": "view-in-github",
        "colab_type": "text"
      },
      "source": [
        "<a href=\"https://colab.research.google.com/github/jeungsengho/python202204/blob/main/PythonDay2.ipynb\" target=\"_parent\"><img src=\"https://colab.research.google.com/assets/colab-badge.svg\" alt=\"Open In Colab\"/></a>"
      ]
    },
    {
      "cell_type": "code",
      "execution_count": null,
      "metadata": {
        "id": "W98eY7u6jyLo"
      },
      "outputs": [],
      "source": [
        "# 39p 컬렉션\n",
        "\n",
        "# 모음 - 여러 값을 하나의 이름으로 묶어서 관리하는 자료형\n",
        "\n",
        "# 리스트 (***) [] 추가/수정/삭제 가능 mutable      인덱싱/슬라이싱 가능\n",
        "# 튜플         () 추가/수정/삭제 불가능 immutable  인덱싱/슬라이싱 가능   \n",
        "# 딕셔너리     {} 추가/수정/삭제 가능 mutable      인덱싱/슬라이싱 불가능, 순서가 없다\n",
        "# 셋           {} 추가/수정/삭제 가능 mutable      인덱싱/슬라이싱 불가능, 순서가 없다 (중복제거용)"
      ]
    },
    {
      "cell_type": "code",
      "source": [
        "# 1. 리스트 - 가장 많이 사용하는 자료형이다. 자료형이 다른 데이터들도 함께 저장할 수 있다.\n",
        "\n",
        "li1 = [1,2,3,4]\n",
        "print(li1)\n",
        "li2 = [2, 3.14, 'hello']\n",
        "print(li2)"
      ],
      "metadata": {
        "colab": {
          "base_uri": "https://localhost:8080/"
        },
        "id": "KtkT37BRsFfk",
        "outputId": "d79cb07c-b54e-40de-a757-64e6f813cf01"
      },
      "execution_count": 2,
      "outputs": [
        {
          "output_type": "stream",
          "name": "stdout",
          "text": [
            "[1, 2, 3, 4]\n",
            "[2, 3.14, 'hello']\n"
          ]
        }
      ]
    },
    {
      "cell_type": "code",
      "source": [
        "a = \"hello\"\n",
        "a[2]"
      ],
      "metadata": {
        "colab": {
          "base_uri": "https://localhost:8080/",
          "height": 35
        },
        "id": "1SnG-ZhltXYh",
        "outputId": "d7c4de4e-131f-4c54-9994-0350c1178fd3"
      },
      "execution_count": 3,
      "outputs": [
        {
          "output_type": "execute_result",
          "data": {
            "text/plain": [
              "'l'"
            ],
            "application/vnd.google.colaboratory.intrinsic+json": {
              "type": "string"
            }
          },
          "metadata": {},
          "execution_count": 3
        }
      ]
    },
    {
      "cell_type": "code",
      "source": [
        "li = [2, 3.14, 'hello']\n",
        "li[-1]"
      ],
      "metadata": {
        "colab": {
          "base_uri": "https://localhost:8080/",
          "height": 35
        },
        "id": "XjvVFO9ZthBG",
        "outputId": "dff71f11-4a39-4946-fa5c-8353ea438bf5"
      },
      "execution_count": 6,
      "outputs": [
        {
          "output_type": "execute_result",
          "data": {
            "text/plain": [
              "'hello'"
            ],
            "application/vnd.google.colaboratory.intrinsic+json": {
              "type": "string"
            }
          },
          "metadata": {},
          "execution_count": 6
        }
      ]
    },
    {
      "cell_type": "code",
      "source": [
        "# (start, stop, step)\n",
        "\n",
        "li2 = [2, 3.14, 'hello']\n",
        "li[0:3]"
      ],
      "metadata": {
        "colab": {
          "base_uri": "https://localhost:8080/"
        },
        "id": "5HjcgbEHt9Xz",
        "outputId": "c83d215b-74ab-4817-fab9-68843da7ed5c"
      },
      "execution_count": 10,
      "outputs": [
        {
          "output_type": "execute_result",
          "data": {
            "text/plain": [
              "[2, 3.14, 'hello']"
            ]
          },
          "metadata": {},
          "execution_count": 10
        }
      ]
    },
    {
      "cell_type": "code",
      "source": [
        "scores = [50,40,30]\n",
        "\n",
        "scores.append(80)    #append는 끝에서 하나씩 추가\n",
        "scores\n",
        "\n",
        "scores.insert(0,100)"
      ],
      "metadata": {
        "id": "zD6osd6guvIO"
      },
      "execution_count": 15,
      "outputs": []
    },
    {
      "cell_type": "code",
      "source": [
        "scores"
      ],
      "metadata": {
        "colab": {
          "base_uri": "https://localhost:8080/"
        },
        "id": "IT6zcb-Mvd-m",
        "outputId": "409918f1-7bde-4cd1-a4ed-b65ca2e2db05"
      },
      "execution_count": 16,
      "outputs": [
        {
          "output_type": "execute_result",
          "data": {
            "text/plain": [
              "[100, 50, 40, 30, 80]"
            ]
          },
          "metadata": {},
          "execution_count": 16
        }
      ]
    },
    {
      "cell_type": "code",
      "source": [
        "scores.pop()     #pop은 끝에서부터 하나씩 삭제"
      ],
      "metadata": {
        "colab": {
          "base_uri": "https://localhost:8080/"
        },
        "id": "luDo7cPBvrxd",
        "outputId": "2bf1ebe0-15f1-478a-f3bc-c63ece60c9c5"
      },
      "execution_count": 17,
      "outputs": [
        {
          "output_type": "execute_result",
          "data": {
            "text/plain": [
              "80"
            ]
          },
          "metadata": {},
          "execution_count": 17
        }
      ]
    },
    {
      "cell_type": "code",
      "source": [
        "scores.pop(0)"
      ],
      "metadata": {
        "colab": {
          "base_uri": "https://localhost:8080/"
        },
        "id": "kwa_zJPFv2De",
        "outputId": "ce859fc1-9ce7-4f81-b7a2-22ecf5b709d9"
      },
      "execution_count": 19,
      "outputs": [
        {
          "output_type": "execute_result",
          "data": {
            "text/plain": [
              "100"
            ]
          },
          "metadata": {},
          "execution_count": 19
        }
      ]
    },
    {
      "cell_type": "code",
      "source": [
        "scores"
      ],
      "metadata": {
        "colab": {
          "base_uri": "https://localhost:8080/"
        },
        "id": "LDwOaD-fwDCp",
        "outputId": "b3017683-a9f8-491c-bc60-56ecc5f5d7cd"
      },
      "execution_count": 20,
      "outputs": [
        {
          "output_type": "execute_result",
          "data": {
            "text/plain": [
              "[50, 40, 30]"
            ]
          },
          "metadata": {},
          "execution_count": 20
        }
      ]
    },
    {
      "cell_type": "code",
      "source": [
        "# 2. 튜플 - 한마디로 표현하면 수정할 수 없는 리스트\n",
        "#           괄호 생략 가능\n",
        "\n",
        "tu1 = (1,2,3)\n",
        "print(tu1)\n",
        "print(type(tu1))\n",
        "\n",
        "tu2 = 2,3,4\n",
        "print(tu2)\n",
        "print(type(tu2))\n",
        "\n",
        "tu3 = 2,3.14, '문자'\n",
        "print(tu3)\n",
        "print(type(tu3))"
      ],
      "metadata": {
        "colab": {
          "base_uri": "https://localhost:8080/"
        },
        "id": "XWTo6ZziwgFP",
        "outputId": "499031f6-094e-4c86-ed29-074001431b56"
      },
      "execution_count": 25,
      "outputs": [
        {
          "output_type": "stream",
          "name": "stdout",
          "text": [
            "(1, 2, 3)\n",
            "<class 'tuple'>\n",
            "(2, 3, 4)\n",
            "<class 'tuple'>\n",
            "(2, 3.14, '문자')\n",
            "<class 'tuple'>\n"
          ]
        }
      ]
    },
    {
      "cell_type": "code",
      "source": [
        "tu = (10,20,30,40,50)\n",
        "tu[0:3]"
      ],
      "metadata": {
        "colab": {
          "base_uri": "https://localhost:8080/"
        },
        "id": "PxJX-E4Z4c-J",
        "outputId": "d10e9164-ea10-4511-ddae-31302e0155c0"
      },
      "execution_count": 30,
      "outputs": [
        {
          "output_type": "execute_result",
          "data": {
            "text/plain": [
              "(10, 20, 30)"
            ]
          },
          "metadata": {},
          "execution_count": 30
        }
      ]
    },
    {
      "cell_type": "code",
      "source": [
        "# 셋 추가/삭제는 되고 인덱싱이 안된다 (순서가 없고, 중복제거용)\n",
        "set = {1,2,3}\n",
        "print(type(set))\n",
        "print(set)"
      ],
      "metadata": {
        "colab": {
          "base_uri": "https://localhost:8080/"
        },
        "id": "i3lKp6T85IgN",
        "outputId": "eb8a1706-bf2a-42a2-f911-806c5bc4f465"
      },
      "execution_count": 32,
      "outputs": [
        {
          "output_type": "stream",
          "name": "stdout",
          "text": [
            "<class 'set'>\n",
            "{1, 2, 3}\n"
          ]
        }
      ]
    },
    {
      "cell_type": "code",
      "source": [
        "set = {1,2,2,3,3,3}\n",
        "print(type(set))\n",
        "print(set)"
      ],
      "metadata": {
        "colab": {
          "base_uri": "https://localhost:8080/"
        },
        "id": "XtPMYGX55UVF",
        "outputId": "b39f33af-9caf-4b1e-d9b4-eaa2263e28ec"
      },
      "execution_count": 33,
      "outputs": [
        {
          "output_type": "stream",
          "name": "stdout",
          "text": [
            "<class 'set'>\n",
            "{1, 2, 3}\n"
          ]
        }
      ]
    },
    {
      "cell_type": "code",
      "source": [
        "# 4. 딕셔너리 : 키와 밸류 한 쌍으로 구성된 자료형이다.\n",
        "\n",
        "dict = {'a': 'apple', 'b': 'banana'}\n",
        "\n",
        "print(dict)\n",
        "print(type(dict))"
      ],
      "metadata": {
        "colab": {
          "base_uri": "https://localhost:8080/"
        },
        "id": "D5yZcl2-5lTl",
        "outputId": "6fc9c7de-1050-4ce8-ed8d-5e8b24dadda5"
      },
      "execution_count": 49,
      "outputs": [
        {
          "output_type": "stream",
          "name": "stdout",
          "text": [
            "{'a': 'apple', 'b': 'banana'}\n",
            "<class 'dict'>\n"
          ]
        }
      ]
    },
    {
      "cell_type": "code",
      "source": [
        "dict ['w']='watermelon'\n",
        "print(dict)\n",
        "print(type(dict))"
      ],
      "metadata": {
        "colab": {
          "base_uri": "https://localhost:8080/"
        },
        "id": "C9LUeGrq7FGQ",
        "outputId": "4edac4cc-52a7-4a62-ce3a-e9b2a2cdddc9"
      },
      "execution_count": 121,
      "outputs": [
        {
          "output_type": "stream",
          "name": "stdout",
          "text": [
            "{'b': 'banana', 'w': 'watermelon'}\n",
            "<class 'dict'>\n"
          ]
        }
      ]
    },
    {
      "cell_type": "code",
      "source": [
        "dict.pop('a')\n",
        "print(dict)\n",
        "print(type(dict))"
      ],
      "metadata": {
        "colab": {
          "base_uri": "https://localhost:8080/"
        },
        "id": "n45AQVQ-7Wd2",
        "outputId": "44aaaa42-6ae8-490a-95e8-432660fcbe5d"
      },
      "execution_count": 52,
      "outputs": [
        {
          "output_type": "stream",
          "name": "stdout",
          "text": [
            "{'b': 'banana', 'w': 'watermelon'}\n",
            "<class 'dict'>\n"
          ]
        }
      ]
    },
    {
      "cell_type": "code",
      "source": [
        "dict[0]"
      ],
      "metadata": {
        "colab": {
          "base_uri": "https://localhost:8080/",
          "height": 172
        },
        "id": "CaW3XStV7kqm",
        "outputId": "939743ee-62b9-4e8f-e0e8-d61c513ad606"
      },
      "execution_count": 53,
      "outputs": [
        {
          "output_type": "error",
          "ename": "KeyError",
          "evalue": "ignored",
          "traceback": [
            "\u001b[0;31m---------------------------------------------------------------------------\u001b[0m",
            "\u001b[0;31mKeyError\u001b[0m                                  Traceback (most recent call last)",
            "\u001b[0;32m<ipython-input-53-6f3bddff36cb>\u001b[0m in \u001b[0;36m<module>\u001b[0;34m()\u001b[0m\n\u001b[0;32m----> 1\u001b[0;31m \u001b[0mdict\u001b[0m\u001b[0;34m[\u001b[0m\u001b[0;36m0\u001b[0m\u001b[0;34m]\u001b[0m\u001b[0;34m\u001b[0m\u001b[0;34m\u001b[0m\u001b[0m\n\u001b[0m",
            "\u001b[0;31mKeyError\u001b[0m: 0"
          ]
        }
      ]
    },
    {
      "cell_type": "code",
      "source": [
        "me = [1,2,3]     # 리스트\n",
        "id(me)\n",
        "\n",
        "139840191288816"
      ],
      "metadata": {
        "colab": {
          "base_uri": "https://localhost:8080/"
        },
        "id": "PQ91cXqd84SD",
        "outputId": "c20becc1-2fa6-48c8-f557-50d5abd4c350"
      },
      "execution_count": 81,
      "outputs": [
        {
          "output_type": "execute_result",
          "data": {
            "text/plain": [
              "139840191288816"
            ]
          },
          "metadata": {},
          "execution_count": 81
        }
      ]
    },
    {
      "cell_type": "code",
      "source": [
        "me.append(4)\n",
        "print(id(me))\n",
        "print(me)"
      ],
      "metadata": {
        "id": "qtpEzmkA88sO"
      },
      "execution_count": null,
      "outputs": []
    },
    {
      "cell_type": "code",
      "source": [
        "me = 10     # 정수\n",
        "print(id(me))"
      ],
      "metadata": {
        "colab": {
          "base_uri": "https://localhost:8080/"
        },
        "id": "UJDQ6Big9RDV",
        "outputId": "c963106c-e9ea-4153-8b50-0a0757264193"
      },
      "execution_count": 71,
      "outputs": [
        {
          "output_type": "stream",
          "name": "stdout",
          "text": [
            "94760053127968\n"
          ]
        }
      ]
    },
    {
      "cell_type": "code",
      "source": [
        "me += 1\n",
        "print(id(me))"
      ],
      "metadata": {
        "colab": {
          "base_uri": "https://localhost:8080/"
        },
        "id": "yMNItSzE9gcF",
        "outputId": "a0899a8a-4381-4d69-b1fe-bbe6498902b3"
      },
      "execution_count": 72,
      "outputs": [
        {
          "output_type": "stream",
          "name": "stdout",
          "text": [
            "94760053128000\n"
          ]
        }
      ]
    },
    {
      "cell_type": "code",
      "source": [
        "me = [1,2,3]\n",
        "\n",
        "you = me\n",
        "\n",
        "print(id(me))\n",
        "print(id(you))"
      ],
      "metadata": {
        "colab": {
          "base_uri": "https://localhost:8080/"
        },
        "id": "oQASUkkK90CM",
        "outputId": "81a578c3-7dee-409a-88b7-a3de71a5be98"
      },
      "execution_count": 76,
      "outputs": [
        {
          "output_type": "stream",
          "name": "stdout",
          "text": [
            "140264470304320\n",
            "140264470304320\n"
          ]
        }
      ]
    },
    {
      "cell_type": "code",
      "source": [
        "you.append(4)\n",
        "\n",
        "print(id(me))\n",
        "print(id(you))\n",
        "print(me)\n",
        "print(you)"
      ],
      "metadata": {
        "colab": {
          "base_uri": "https://localhost:8080/"
        },
        "id": "JJk5oLGu-ICc",
        "outputId": "008129cc-8247-4aa1-faed-dcd215f5fafd"
      },
      "execution_count": 86,
      "outputs": [
        {
          "output_type": "stream",
          "name": "stdout",
          "text": [
            "140264469604544\n",
            "140264470304320\n",
            "[1, 2, 3]\n",
            "[1, 2, 3, 4, 4, 4, 4, 4, 4, 4, 4, 4]\n"
          ]
        }
      ]
    },
    {
      "cell_type": "code",
      "source": [
        "# p49\n",
        "# 2. \n",
        "\n",
        "\n",
        "no1 = '서울2가1234'\n",
        "no2 = '10가1234'\n",
        "no3 = '288가1234'\n",
        "\n",
        "print(no1,'의 차량번호 4자리는 ',no1[-4:], '입니다.')\n",
        "print(no2,'의 차량번호 4자리는 ',no2[-4:], '입니다.')\n",
        "print(no3,'의 차량번호 4자리는 ',no3[-4:], '입니다.')"
      ],
      "metadata": {
        "colab": {
          "base_uri": "https://localhost:8080/"
        },
        "id": "qY5VsnPM-uhz",
        "outputId": "ded0284d-a25b-4930-c984-abc8fa550d53"
      },
      "execution_count": 94,
      "outputs": [
        {
          "output_type": "stream",
          "name": "stdout",
          "text": [
            "서울2가1234 의 차량번호 4자리는  1234 입니다.\n",
            "10가1234 의 차량번호 4자리는  1234 입니다.\n",
            "288가1234 의 차량번호 4자리는  1234 입니다.\n"
          ]
        }
      ]
    },
    {
      "cell_type": "code",
      "source": [
        "# 3.\n",
        "\n",
        "str = 'maple'\n",
        "\n",
        "\n",
        "print(str,'의 가운데 글자는',str[2],'입니다.')"
      ],
      "metadata": {
        "colab": {
          "base_uri": "https://localhost:8080/"
        },
        "id": "UDQsjoGgBKQt",
        "outputId": "c8091199-94d4-4832-8239-4a6b57374601"
      },
      "execution_count": 104,
      "outputs": [
        {
          "output_type": "stream",
          "name": "stdout",
          "text": [
            "maple 의 가운데 글자는 p 입니다.\n"
          ]
        }
      ]
    },
    {
      "cell_type": "code",
      "source": [
        "# 4.\n",
        "\n",
        "li = [10,20,30,40,50,60,70,80,90,100]\n",
        "print('3번째 요소부터 7번째 요소 =',li[2:7])\n",
        "print('3번째 요소부터 7번째 요소 중 2번째 요소 =', li[2:7][1])"
      ],
      "metadata": {
        "colab": {
          "base_uri": "https://localhost:8080/"
        },
        "id": "b8MbW7hxByod",
        "outputId": "7dd1ed57-9006-45fa-8ab6-128f86854506"
      },
      "execution_count": 118,
      "outputs": [
        {
          "output_type": "stream",
          "name": "stdout",
          "text": [
            "3번째 요소부터 7번째 요소 = [30, 40, 50, 60, 70]\n",
            "3번째 요소부터 7번째 요소 중 2번째 요소 = 40\n"
          ]
        }
      ]
    },
    {
      "cell_type": "code",
      "source": [
        "# 5.\n",
        "\n",
        "dict = {'금요일':'탕수육', '토요일':'유산슬', '일요일':'팔보채'}\n",
        "print('금요일 :' ,dict['금요일'])\n",
        "print('토요일 :' ,dict['토요일'])\n",
        "print('일요일 :' ,dict['일요일'])"
      ],
      "metadata": {
        "colab": {
          "base_uri": "https://localhost:8080/"
        },
        "id": "W2pjgbOdC-78",
        "outputId": "56e1c8f4-e030-471a-8d61-1baada5501bd"
      },
      "execution_count": 127,
      "outputs": [
        {
          "output_type": "stream",
          "name": "stdout",
          "text": [
            "금요일 : 탕수육\n",
            "토요일 : 유산슬\n",
            "일요일 : 팔보채\n"
          ]
        }
      ]
    },
    {
      "cell_type": "code",
      "source": [
        "print('Hello \\'World\\'')\n",
        "print(\"Hello \\\"World\\\"\")\n",
        "print('*\\n**\\n***')       # \\n = 줄바꿈\n",
        "print('이름 \\t 연락처')    # \\t = 탭\n",
        "print('제시카 \\t 02-123-4567')\n",
        "print('마틴 \\t 010-8765-1234')"
      ],
      "metadata": {
        "colab": {
          "base_uri": "https://localhost:8080/"
        },
        "id": "sa0FbCsYDckl",
        "outputId": "37a21f7e-80b4-499e-fc54-56eb4baa60f0"
      },
      "execution_count": 141,
      "outputs": [
        {
          "output_type": "stream",
          "name": "stdout",
          "text": [
            "Hello 'World'\n",
            "Hello \"World\"\n",
            "*\n",
            "**\n",
            "***\n",
            "이름 \t 연락처\n",
            "제시카 \t 02-123-4567\n",
            "마틴 \t 010-8765-1234\n"
          ]
        }
      ]
    },
    {
      "cell_type": "code",
      "source": [
        "print('재미있는','파이썬', sep=' ')\n",
        "print('Python','Java','C', sep='.')   # sep='.' 무언가로 나누어 찍어라\n",
        "print()\n",
        "print('영화 타이타닉')\n",
        "print('평점', end = ' ')              # end=' ' 밑으로 안간다 -> 옆에 바로\n",
        "print('5점')"
      ],
      "metadata": {
        "colab": {
          "base_uri": "https://localhost:8080/"
        },
        "id": "RP83_nZuINuA",
        "outputId": "2b5e9873-68f5-47dc-89c0-c560694e0ea1"
      },
      "execution_count": 148,
      "outputs": [
        {
          "output_type": "stream",
          "name": "stdout",
          "text": [
            "재미있는 파이썬\n",
            "Python.Java.C\n",
            "\n",
            "영화 타이타닉\n",
            "평점 5점\n"
          ]
        }
      ]
    },
    {
      "cell_type": "code",
      "source": [
        "# 인쇄 4가지 방법\n",
        "\n",
        "# 1. 기본출력\n",
        "# 2. %연산자출력\n",
        "# 3. format()매서드\n",
        "# 4. f string (***)\n",
        "\n",
        "# 2. %연산자 출력\n",
        "\n",
        "print('%d' % 10)\n",
        "print('%d 원입니다.' %100)\n",
        "print('%s 원입니다.' %100)\n",
        "print('원주율은 %f입니다.' %3.14)\n",
        "print('원주율은 %s입니다.' %3.14)\n",
        "\n"
      ],
      "metadata": {
        "colab": {
          "base_uri": "https://localhost:8080/"
        },
        "id": "ZdG9OQSlKVDu",
        "outputId": "5aff75da-932c-4a09-ddf6-4053554c7848"
      },
      "execution_count": 157,
      "outputs": [
        {
          "output_type": "stream",
          "name": "stdout",
          "text": [
            "10\n",
            "100 원입니다.\n",
            "100 원입니다.\n",
            "원주율은 3.140000입니다.\n",
            "원주율은 3.14입니다.\n"
          ]
        }
      ]
    },
    {
      "cell_type": "code",
      "source": [
        "print('%5d'  % 1)\n",
        "print('%5d'  % 12)\n",
        "print('%-5d'  % 1)\n",
        "print('%-5d'  % 12)"
      ],
      "metadata": {
        "colab": {
          "base_uri": "https://localhost:8080/"
        },
        "id": "QDLi80hTMPce",
        "outputId": "2940fa69-f88e-4b8b-e210-bca3e40fd757"
      },
      "execution_count": 162,
      "outputs": [
        {
          "output_type": "stream",
          "name": "stdout",
          "text": [
            "    1\n",
            "   12\n",
            "1    \n",
            "12   \n"
          ]
        }
      ]
    },
    {
      "cell_type": "code",
      "source": [
        "# 3. format()매서드\n",
        "\n",
        "print('My name is {}'.format('James'))"
      ],
      "metadata": {
        "colab": {
          "base_uri": "https://localhost:8080/"
        },
        "id": "fpbiYc3nMy2P",
        "outputId": "8e65ae97-5daa-4358-a4ac-6a14bd575887"
      },
      "execution_count": 164,
      "outputs": [
        {
          "output_type": "stream",
          "name": "stdout",
          "text": [
            "My name is James\n"
          ]
        }
      ]
    },
    {
      "cell_type": "code",
      "source": [
        "# 1. 기본출력\n",
        "name='James'\n",
        "age=25\n",
        "print('My name is',name,'I\\'m',age, 'years old',)\n",
        "\n",
        "# 2. %연산자출력\n",
        "print('MY name is %s i\\'m %s years old' %('James', 25))\n",
        "\n",
        "# 3. format 매서드\n",
        "print('My name is {} I\\'m {} years old'.format('James', 25))\n",
        "\n",
        "# 4. f string\n",
        "print(f'My name is {name} I\\'m {age} years old')"
      ],
      "metadata": {
        "colab": {
          "base_uri": "https://localhost:8080/"
        },
        "id": "xCtWt-5WNM31",
        "outputId": "da52e1cf-28ad-475c-c839-e266d595b40a"
      },
      "execution_count": 179,
      "outputs": [
        {
          "output_type": "stream",
          "name": "stdout",
          "text": [
            "My name is James I'm 25 years old\n",
            "MY name is James i'm 25 years old\n",
            "My name is James I'm 25 years old\n",
            "My name is James I'm 25 years old\n"
          ]
        }
      ]
    },
    {
      "cell_type": "code",
      "source": [
        "age = 25\n",
        "\n",
        "print(f'내년엔 {age+1}살이 됩니다.')"
      ],
      "metadata": {
        "colab": {
          "base_uri": "https://localhost:8080/"
        },
        "id": "3WAsVxDxO0Uw",
        "outputId": "169c2ff2-543f-4969-9563-8529ad988a06"
      },
      "execution_count": 181,
      "outputs": [
        {
          "output_type": "stream",
          "name": "stdout",
          "text": [
            "내년엔 26살이 됩니다.\n"
          ]
        }
      ]
    }
  ]
}