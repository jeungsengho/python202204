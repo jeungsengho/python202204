{
  "nbformat": 4,
  "nbformat_minor": 0,
  "metadata": {
    "colab": {
      "name": "PythonDay2.ipynb",
      "provenance": [],
      "authorship_tag": "ABX9TyMQc743jE9aEukTpw2i6Xga",
      "include_colab_link": true
    },
    "kernelspec": {
      "name": "python3",
      "display_name": "Python 3"
    },
    "language_info": {
      "name": "python"
    }
  },
  "cells": [
    {
      "cell_type": "markdown",
      "metadata": {
        "id": "view-in-github",
        "colab_type": "text"
      },
      "source": [
        "<a href=\"https://colab.research.google.com/github/jeungsengho/python202204/blob/main/PythonDay2.ipynb\" target=\"_parent\"><img src=\"https://colab.research.google.com/assets/colab-badge.svg\" alt=\"Open In Colab\"/></a>"
      ]
    },
    {
      "cell_type": "code",
      "execution_count": null,
      "metadata": {
        "id": "W98eY7u6jyLo"
      },
      "outputs": [],
      "source": [
        "# 39p 컬렉션\n",
        "\n",
        "# 모음 - 여러 값을 하나의 이름으로 묶어서 관리하는 자료형\n",
        "\n",
        "# 리스트 (***) [] 추가/수정/삭제 가능 mutable      인덱싱/슬라이싱 가능\n",
        "# 튜플         () 추가/수정/삭제 불가능 immutable  인덱싱/슬라이싱 가능   \n",
        "# 딕셔너리     {} 추가/수정/삭제 가능 mutable      인덱싱/슬라이싱 불가능, 순서가 없다\n",
        "# 셋           {} 추가/수정/삭제 가능 mutable      인덱싱/슬라이싱 불가능, 순서가 없다"
      ]
    },
    {
      "cell_type": "code",
      "source": [
        "# 1. 리스트 - 가장 많이 사용하는 자료형이다. 자료형이 다른 데이터들도 함께 저장할 수 있다.\n",
        "\n",
        "li1 = [1,2,3,4]\n",
        "print(li1)\n",
        "li2 = [2, 3.14, 'hello']\n",
        "print(li2)"
      ],
      "metadata": {
        "colab": {
          "base_uri": "https://localhost:8080/"
        },
        "id": "KtkT37BRsFfk",
        "outputId": "d79cb07c-b54e-40de-a757-64e6f813cf01"
      },
      "execution_count": 2,
      "outputs": [
        {
          "output_type": "stream",
          "name": "stdout",
          "text": [
            "[1, 2, 3, 4]\n",
            "[2, 3.14, 'hello']\n"
          ]
        }
      ]
    },
    {
      "cell_type": "code",
      "source": [
        "a = \"hello\"\n",
        "a[2]"
      ],
      "metadata": {
        "colab": {
          "base_uri": "https://localhost:8080/",
          "height": 35
        },
        "id": "1SnG-ZhltXYh",
        "outputId": "d7c4de4e-131f-4c54-9994-0350c1178fd3"
      },
      "execution_count": 3,
      "outputs": [
        {
          "output_type": "execute_result",
          "data": {
            "text/plain": [
              "'l'"
            ],
            "application/vnd.google.colaboratory.intrinsic+json": {
              "type": "string"
            }
          },
          "metadata": {},
          "execution_count": 3
        }
      ]
    },
    {
      "cell_type": "code",
      "source": [
        "li = [2, 3.14, 'hello']\n",
        "li[-1]"
      ],
      "metadata": {
        "colab": {
          "base_uri": "https://localhost:8080/",
          "height": 35
        },
        "id": "XjvVFO9ZthBG",
        "outputId": "dff71f11-4a39-4946-fa5c-8353ea438bf5"
      },
      "execution_count": 6,
      "outputs": [
        {
          "output_type": "execute_result",
          "data": {
            "text/plain": [
              "'hello'"
            ],
            "application/vnd.google.colaboratory.intrinsic+json": {
              "type": "string"
            }
          },
          "metadata": {},
          "execution_count": 6
        }
      ]
    },
    {
      "cell_type": "code",
      "source": [
        "# (start, stop, step)\n",
        "\n",
        "li2 = [2, 3.14, 'hello']\n",
        "li[0:3]"
      ],
      "metadata": {
        "colab": {
          "base_uri": "https://localhost:8080/"
        },
        "id": "5HjcgbEHt9Xz",
        "outputId": "c83d215b-74ab-4817-fab9-68843da7ed5c"
      },
      "execution_count": 10,
      "outputs": [
        {
          "output_type": "execute_result",
          "data": {
            "text/plain": [
              "[2, 3.14, 'hello']"
            ]
          },
          "metadata": {},
          "execution_count": 10
        }
      ]
    },
    {
      "cell_type": "code",
      "source": [
        "scores = [50,40,30]\n",
        "\n",
        "scores.append(80)    #append는 끝에서 하나씩 추가\n",
        "scores\n",
        "\n",
        "scores.insert(0,100)"
      ],
      "metadata": {
        "id": "zD6osd6guvIO"
      },
      "execution_count": 15,
      "outputs": []
    },
    {
      "cell_type": "code",
      "source": [
        "scores"
      ],
      "metadata": {
        "colab": {
          "base_uri": "https://localhost:8080/"
        },
        "id": "IT6zcb-Mvd-m",
        "outputId": "409918f1-7bde-4cd1-a4ed-b65ca2e2db05"
      },
      "execution_count": 16,
      "outputs": [
        {
          "output_type": "execute_result",
          "data": {
            "text/plain": [
              "[100, 50, 40, 30, 80]"
            ]
          },
          "metadata": {},
          "execution_count": 16
        }
      ]
    },
    {
      "cell_type": "code",
      "source": [
        "scores.pop()     #pop은 끝에서부터 하나씩 삭제"
      ],
      "metadata": {
        "colab": {
          "base_uri": "https://localhost:8080/"
        },
        "id": "luDo7cPBvrxd",
        "outputId": "2bf1ebe0-15f1-478a-f3bc-c63ece60c9c5"
      },
      "execution_count": 17,
      "outputs": [
        {
          "output_type": "execute_result",
          "data": {
            "text/plain": [
              "80"
            ]
          },
          "metadata": {},
          "execution_count": 17
        }
      ]
    },
    {
      "cell_type": "code",
      "source": [
        "scores.pop(0)"
      ],
      "metadata": {
        "colab": {
          "base_uri": "https://localhost:8080/"
        },
        "id": "kwa_zJPFv2De",
        "outputId": "ce859fc1-9ce7-4f81-b7a2-22ecf5b709d9"
      },
      "execution_count": 19,
      "outputs": [
        {
          "output_type": "execute_result",
          "data": {
            "text/plain": [
              "100"
            ]
          },
          "metadata": {},
          "execution_count": 19
        }
      ]
    },
    {
      "cell_type": "code",
      "source": [
        "scores"
      ],
      "metadata": {
        "colab": {
          "base_uri": "https://localhost:8080/"
        },
        "id": "LDwOaD-fwDCp",
        "outputId": "b3017683-a9f8-491c-bc60-56ecc5f5d7cd"
      },
      "execution_count": 20,
      "outputs": [
        {
          "output_type": "execute_result",
          "data": {
            "text/plain": [
              "[50, 40, 30]"
            ]
          },
          "metadata": {},
          "execution_count": 20
        }
      ]
    },
    {
      "cell_type": "code",
      "source": [
        "# 2. 튜플 - 한마디로 표현하면 수정할 수 없는 리스트\n",
        "            괄호 생략 가능\n",
        "\n",
        "tu1 = (1,2,3)\n",
        "print(tu1)\n",
        "print(type(tu1))\n",
        "\n",
        "tu2 = 2,3,4\n",
        "print(tu2)\n",
        "print(type(tu2))"
      ],
      "metadata": {
        "colab": {
          "base_uri": "https://localhost:8080/"
        },
        "id": "XWTo6ZziwgFP",
        "outputId": "3e77785e-e79f-43b9-c45e-4000629e6447"
      },
      "execution_count": 24,
      "outputs": [
        {
          "output_type": "stream",
          "name": "stdout",
          "text": [
            "(1, 2, 3)\n",
            "<class 'tuple'>\n",
            "(2, 3, 4)\n",
            "<class 'tuple'>\n"
          ]
        }
      ]
    }
  ]
}