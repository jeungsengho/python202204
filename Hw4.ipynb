{
  "nbformat": 4,
  "nbformat_minor": 0,
  "metadata": {
    "colab": {
      "name": "Hw4.ipynb",
      "provenance": [],
      "authorship_tag": "ABX9TyNA+M+Zc0+6rGyUWEjEn3vU",
      "include_colab_link": true
    },
    "kernelspec": {
      "name": "python3",
      "display_name": "Python 3"
    },
    "language_info": {
      "name": "python"
    }
  },
  "cells": [
    {
      "cell_type": "markdown",
      "metadata": {
        "id": "view-in-github",
        "colab_type": "text"
      },
      "source": [
        "<a href=\"https://colab.research.google.com/github/jeungsengho/python202204/blob/main/Hw4.ipynb\" target=\"_parent\"><img src=\"https://colab.research.google.com/assets/colab-badge.svg\" alt=\"Open In Colab\"/></a>"
      ]
    },
    {
      "cell_type": "code",
      "execution_count": 5,
      "metadata": {
        "colab": {
          "base_uri": "https://localhost:8080/"
        },
        "id": "qICUv0TnLQui",
        "outputId": "ec09ca57-fa77-4c74-8e1a-1bcc6011931f"
      },
      "outputs": [
        {
          "output_type": "stream",
          "name": "stdout",
          "text": [
            "안녕\n",
            "None\n",
            "Hi\n",
            "None\n"
          ]
        }
      ],
      "source": [
        "# 211\n",
        "\n",
        "def 함수(문자열):\n",
        "  print(문자열)\n",
        "\n",
        "print(함수('안녕'))\n",
        "print(함수('Hi'))\n",
        "\n",
        "# 안녕\n",
        "# Hi"
      ]
    },
    {
      "cell_type": "code",
      "source": [
        "# 212\n",
        "\n",
        "def 함수(a,b):\n",
        "  print(a + b)\n",
        "\n",
        "# 함수(3,4) = 7\n",
        "# 함수(7,8) = 15\n",
        "\n",
        "print(함수(3,4))\n",
        "print(함수(7,8))"
      ],
      "metadata": {
        "colab": {
          "base_uri": "https://localhost:8080/"
        },
        "id": "H0qQY_gCLzl0",
        "outputId": "57f95303-ef78-460e-b72c-6206523dfee5"
      },
      "execution_count": 8,
      "outputs": [
        {
          "output_type": "stream",
          "name": "stdout",
          "text": [
            "7\n",
            "None\n",
            "15\n",
            "None\n"
          ]
        }
      ]
    },
    {
      "cell_type": "code",
      "source": [
        "# 213\n",
        "\n",
        "def 함수(문자열):\n",
        "  print(문자열)\n",
        "\n",
        "함수()\n",
        "\n",
        "# () 안에 값이 없어서"
      ],
      "metadata": {
        "colab": {
          "base_uri": "https://localhost:8080/",
          "height": 248
        },
        "id": "zpGLuDXrMOSy",
        "outputId": "d1fd6627-3e11-46f7-ec1a-a8d83db4109b"
      },
      "execution_count": 10,
      "outputs": [
        {
          "output_type": "error",
          "ename": "TypeError",
          "evalue": "ignored",
          "traceback": [
            "\u001b[0;31m---------------------------------------------------------------------------\u001b[0m",
            "\u001b[0;31mTypeError\u001b[0m                                 Traceback (most recent call last)",
            "\u001b[0;32m<ipython-input-10-30282be8f82a>\u001b[0m in \u001b[0;36m<module>\u001b[0;34m()\u001b[0m\n\u001b[1;32m      4\u001b[0m   \u001b[0mprint\u001b[0m\u001b[0;34m(\u001b[0m\u001b[0m문자열\u001b[0m\u001b[0;34m)\u001b[0m\u001b[0;34m\u001b[0m\u001b[0;34m\u001b[0m\u001b[0m\n\u001b[1;32m      5\u001b[0m \u001b[0;34m\u001b[0m\u001b[0m\n\u001b[0;32m----> 6\u001b[0;31m \u001b[0m함수\u001b[0m\u001b[0;34m(\u001b[0m\u001b[0;34m)\u001b[0m\u001b[0;34m\u001b[0m\u001b[0;34m\u001b[0m\u001b[0m\n\u001b[0m\u001b[1;32m      7\u001b[0m \u001b[0;34m\u001b[0m\u001b[0m\n\u001b[1;32m      8\u001b[0m \u001b[0;31m# () 안에 값이 없어서\u001b[0m\u001b[0;34m\u001b[0m\u001b[0;34m\u001b[0m\u001b[0;34m\u001b[0m\u001b[0m\n",
            "\u001b[0;31mTypeError\u001b[0m: 함수() missing 1 required positional argument: '문자열'"
          ]
        }
      ]
    },
    {
      "cell_type": "code",
      "source": [
        "# 214\n",
        "\n",
        "def 함수(a,b):\n",
        "  print(a + b)\n",
        "\n",
        "함수('안녕', 3)  # 문자열과 숫자는 더할 수 없어서"
      ],
      "metadata": {
        "colab": {
          "base_uri": "https://localhost:8080/",
          "height": 339
        },
        "id": "Gj6yeoTuMbZE",
        "outputId": "d6b91a1e-8b09-4a80-cf3f-9673cc464297"
      },
      "execution_count": 12,
      "outputs": [
        {
          "output_type": "error",
          "ename": "TypeError",
          "evalue": "ignored",
          "traceback": [
            "\u001b[0;31m---------------------------------------------------------------------------\u001b[0m",
            "\u001b[0;31mTypeError\u001b[0m                                 Traceback (most recent call last)",
            "\u001b[0;32m<ipython-input-12-dd8d8673f041>\u001b[0m in \u001b[0;36m<module>\u001b[0;34m()\u001b[0m\n\u001b[1;32m      4\u001b[0m   \u001b[0mprint\u001b[0m\u001b[0;34m(\u001b[0m\u001b[0ma\u001b[0m \u001b[0;34m+\u001b[0m \u001b[0mb\u001b[0m\u001b[0;34m)\u001b[0m\u001b[0;34m\u001b[0m\u001b[0;34m\u001b[0m\u001b[0m\n\u001b[1;32m      5\u001b[0m \u001b[0;34m\u001b[0m\u001b[0m\n\u001b[0;32m----> 6\u001b[0;31m \u001b[0m함수\u001b[0m\u001b[0;34m(\u001b[0m\u001b[0;34m'안녕'\u001b[0m\u001b[0;34m,\u001b[0m \u001b[0;36m3\u001b[0m\u001b[0;34m)\u001b[0m  \u001b[0;31m# 문자열과 숫자는 더할 수 없어서\u001b[0m\u001b[0;34m\u001b[0m\u001b[0;34m\u001b[0m\u001b[0m\n\u001b[0m",
            "\u001b[0;32m<ipython-input-12-dd8d8673f041>\u001b[0m in \u001b[0;36m함수\u001b[0;34m(a, b)\u001b[0m\n\u001b[1;32m      2\u001b[0m \u001b[0;34m\u001b[0m\u001b[0m\n\u001b[1;32m      3\u001b[0m \u001b[0;32mdef\u001b[0m \u001b[0m함수\u001b[0m\u001b[0;34m(\u001b[0m\u001b[0ma\u001b[0m\u001b[0;34m,\u001b[0m\u001b[0mb\u001b[0m\u001b[0;34m)\u001b[0m\u001b[0;34m:\u001b[0m\u001b[0;34m\u001b[0m\u001b[0;34m\u001b[0m\u001b[0m\n\u001b[0;32m----> 4\u001b[0;31m   \u001b[0mprint\u001b[0m\u001b[0;34m(\u001b[0m\u001b[0ma\u001b[0m \u001b[0;34m+\u001b[0m \u001b[0mb\u001b[0m\u001b[0;34m)\u001b[0m\u001b[0;34m\u001b[0m\u001b[0;34m\u001b[0m\u001b[0m\n\u001b[0m\u001b[1;32m      5\u001b[0m \u001b[0;34m\u001b[0m\u001b[0m\n\u001b[1;32m      6\u001b[0m \u001b[0m함수\u001b[0m\u001b[0;34m(\u001b[0m\u001b[0;34m'안녕'\u001b[0m\u001b[0;34m,\u001b[0m \u001b[0;36m3\u001b[0m\u001b[0;34m)\u001b[0m  \u001b[0;31m# 문자열과 숫자는 더할 수 없어서\u001b[0m\u001b[0;34m\u001b[0m\u001b[0;34m\u001b[0m\u001b[0m\n",
            "\u001b[0;31mTypeError\u001b[0m: can only concatenate str (not \"int\") to str"
          ]
        }
      ]
    },
    {
      "cell_type": "code",
      "source": [
        "# 215\n",
        "\n",
        "def print_with_smile(str):\n",
        "  print(str + ':D')\n",
        "\n",
        "print_with_smile('Hi')"
      ],
      "metadata": {
        "colab": {
          "base_uri": "https://localhost:8080/"
        },
        "id": "fq3gU6IXMqHF",
        "outputId": "dad5af21-a0c2-42fc-b74c-590bd491733f"
      },
      "execution_count": 13,
      "outputs": [
        {
          "output_type": "stream",
          "name": "stdout",
          "text": [
            "Hi:D\n"
          ]
        }
      ]
    },
    {
      "cell_type": "code",
      "source": [
        "# 216\n",
        "\n",
        "print_with_smile('안녕하세요')"
      ],
      "metadata": {
        "colab": {
          "base_uri": "https://localhost:8080/"
        },
        "id": "uzrG5eTANait",
        "outputId": "e9c2e37e-1c57-4940-9e1d-5340a90c7811"
      },
      "execution_count": 15,
      "outputs": [
        {
          "output_type": "stream",
          "name": "stdout",
          "text": [
            "안녕하세요:D\n"
          ]
        }
      ]
    },
    {
      "cell_type": "code",
      "source": [
        "# 217\n",
        "\n",
        "def print_upper_price(price):\n",
        "  print(price * 1.3)\n",
        "\n",
        "print_upper_price(100)"
      ],
      "metadata": {
        "colab": {
          "base_uri": "https://localhost:8080/"
        },
        "id": "ZFa4lF9fNlIa",
        "outputId": "02f3737b-3e5f-426d-8cc8-921b21ecc786"
      },
      "execution_count": 17,
      "outputs": [
        {
          "output_type": "stream",
          "name": "stdout",
          "text": [
            "130.0\n"
          ]
        }
      ]
    },
    {
      "cell_type": "code",
      "source": [
        "# 218\n",
        "\n",
        "def print_sum(a,b):\n",
        "  print(a + b)\n",
        "\n",
        "print_sum(1,2)"
      ],
      "metadata": {
        "colab": {
          "base_uri": "https://localhost:8080/"
        },
        "id": "0K7AreLKOEXG",
        "outputId": "5c09873e-7757-44a5-8cf1-ef8eaaf03a8c"
      },
      "execution_count": 19,
      "outputs": [
        {
          "output_type": "stream",
          "name": "stdout",
          "text": [
            "3\n"
          ]
        }
      ]
    },
    {
      "cell_type": "code",
      "source": [
        "# 219\n",
        "\n",
        "def print_arithemetic_operation(a,b):\n",
        "  print(a, '+', b, '=', a + b)\n",
        "  print(a, '-', b, '=', a - b)\n",
        "  print(a, '*', b, '=', a * b)\n",
        "  print(a, '/', b, '=', a / b)\n",
        "\n",
        "print_arithemetic_operation(3,4)"
      ],
      "metadata": {
        "colab": {
          "base_uri": "https://localhost:8080/"
        },
        "id": "EJ8tZ5g0OM9K",
        "outputId": "e9d1aa74-9944-4c5f-bd20-f4c0c65077dc"
      },
      "execution_count": 22,
      "outputs": [
        {
          "output_type": "stream",
          "name": "stdout",
          "text": [
            "3 + 4 = 7\n",
            "3 - 4 = -1\n",
            "3 * 4 = 12\n",
            "3 / 4 = 0.75\n"
          ]
        }
      ]
    },
    {
      "cell_type": "code",
      "source": [
        "# 220\n",
        "\n",
        "def print_max(a,b,c):\n",
        "  if a > b and a > c:\n",
        "    print(a)\n",
        "  elif b > a and b > c:\n",
        "    print(b)\n",
        "  else:\n",
        "    print(c)\n",
        "\n",
        "print_max(1,2,3)"
      ],
      "metadata": {
        "colab": {
          "base_uri": "https://localhost:8080/"
        },
        "id": "0KWUJO9AO04-",
        "outputId": "1570609e-66b3-4677-c34f-eee4655bd0ab"
      },
      "execution_count": 25,
      "outputs": [
        {
          "output_type": "stream",
          "name": "stdout",
          "text": [
            "3\n"
          ]
        }
      ]
    },
    {
      "cell_type": "code",
      "source": [
        "# 221            검색함\n",
        "\n",
        "def print_reverse(str):\n",
        "  print(str[::-1])\n",
        "\n",
        "print_reverse('python')"
      ],
      "metadata": {
        "colab": {
          "base_uri": "https://localhost:8080/"
        },
        "id": "mFSPa1bVPTtt",
        "outputId": "ee138203-47e8-497d-b663-991f1b74b2e9"
      },
      "execution_count": 27,
      "outputs": [
        {
          "output_type": "stream",
          "name": "stdout",
          "text": [
            "nohtyp\n"
          ]
        }
      ]
    },
    {
      "cell_type": "code",
      "source": [
        "# 222\n",
        "\n",
        "def print_score(list):\n",
        "  print(sum(list) / len(list))\n",
        "\n",
        "print_score([1,2,3])"
      ],
      "metadata": {
        "colab": {
          "base_uri": "https://localhost:8080/"
        },
        "id": "fUJyZ2DZPy6I",
        "outputId": "957e8ea5-e1bd-4dca-8b03-31b8b8ddf560"
      },
      "execution_count": 29,
      "outputs": [
        {
          "output_type": "stream",
          "name": "stdout",
          "text": [
            "2.0\n"
          ]
        }
      ]
    },
    {
      "cell_type": "code",
      "source": [
        "# 223\n",
        "\n",
        "def print_even(list2):\n",
        "  for a in list2:\n",
        "    if a % 2 == 0:\n",
        "      print(a)\n",
        "\n",
        "print_even([1,3,2,10,12,11,15])"
      ],
      "metadata": {
        "colab": {
          "base_uri": "https://localhost:8080/"
        },
        "id": "ie0E-wGsQENk",
        "outputId": "b9e98274-d65a-437e-b86a-a7f0b4530416"
      },
      "execution_count": 31,
      "outputs": [
        {
          "output_type": "stream",
          "name": "stdout",
          "text": [
            "2\n",
            "10\n",
            "12\n"
          ]
        }
      ]
    },
    {
      "cell_type": "code",
      "source": [
        "# 224\n",
        "\n",
        "def print_keys(dict):\n",
        "  for keys in dict.keys():\n",
        "    print(keys)\n",
        "\n",
        "print_keys({'이름':'김말똥','나이':30,'성별':0})\n"
      ],
      "metadata": {
        "colab": {
          "base_uri": "https://localhost:8080/"
        },
        "id": "GZN77Fl6Q3wg",
        "outputId": "93667ef9-4cab-48a6-8b0d-a4e3921a4cda"
      },
      "execution_count": 33,
      "outputs": [
        {
          "output_type": "stream",
          "name": "stdout",
          "text": [
            "이름\n",
            "나이\n",
            "성별\n"
          ]
        }
      ]
    },
    {
      "cell_type": "code",
      "source": [
        "# 225               검색함\n",
        "\n",
        "my_dict = {'10/26': [100, 130, 100, 100], '10/27':[10,12,10,11]}\n",
        "\n",
        "def print_value_by_key(my_dict, key):\n",
        "  print(my_dict[key])\n",
        "\n",
        "print_value_by_key(my_dict, '10/26')"
      ],
      "metadata": {
        "colab": {
          "base_uri": "https://localhost:8080/"
        },
        "id": "htQ2B2tnRR24",
        "outputId": "bc142a3f-8090-451d-a0cf-2d1262cb033f"
      },
      "execution_count": 37,
      "outputs": [
        {
          "output_type": "stream",
          "name": "stdout",
          "text": [
            "[100, 130, 100, 100]\n"
          ]
        }
      ]
    },
    {
      "cell_type": "code",
      "source": [
        "# 226           검색함\n",
        "\n",
        "def print_5xn(string):\n",
        "  num = int(len(string) / 5)\n",
        "  for a in range(num + 1):\n",
        "    print(string[a*5 : a*5+5])\n",
        "\n",
        "print_5xn('아이엠어보이유알어걸')"
      ],
      "metadata": {
        "colab": {
          "base_uri": "https://localhost:8080/"
        },
        "id": "IuDtAuk5RcdD",
        "outputId": "c26762d3-0730-4f6b-bbf0-2e597ed547d7"
      },
      "execution_count": 47,
      "outputs": [
        {
          "output_type": "stream",
          "name": "stdout",
          "text": [
            "아이엠어보\n",
            "이유알어걸\n",
            "\n"
          ]
        }
      ]
    },
    {
      "cell_type": "code",
      "source": [
        "#227\n",
        "\n",
        "def print_mxn(string, a):\n",
        "  num = int(len(string) / a)\n",
        "  for x in range(num + 1):\n",
        "    print(string[x * num : x * num + num])\n",
        "\n",
        "print_mxn('아이엠어보이유알어걸', 3)"
      ],
      "metadata": {
        "colab": {
          "base_uri": "https://localhost:8080/"
        },
        "id": "lekV_tXgTCkc",
        "outputId": "707dfdfd-c831-4a6c-f885-a352791b77b2"
      },
      "execution_count": 51,
      "outputs": [
        {
          "output_type": "stream",
          "name": "stdout",
          "text": [
            "아이엠\n",
            "어보이\n",
            "유알어\n",
            "걸\n"
          ]
        }
      ]
    },
    {
      "cell_type": "code",
      "source": [
        "# 228\n",
        "\n",
        "def calc_monthly_salary(annual_salary):\n",
        "  monthly_salary = int(annual_salary / 12)\n",
        "  return monthly_salary\n",
        "\n",
        "calc_monthly_salary(12000000)"
      ],
      "metadata": {
        "colab": {
          "base_uri": "https://localhost:8080/"
        },
        "id": "-5Aup5jtT9Lf",
        "outputId": "cabb5f8f-eec2-47e5-fdcc-866008e70676"
      },
      "execution_count": 53,
      "outputs": [
        {
          "output_type": "execute_result",
          "data": {
            "text/plain": [
              "1000000"
            ]
          },
          "metadata": {},
          "execution_count": 53
        }
      ]
    },
    {
      "cell_type": "code",
      "source": [
        "# 229\n",
        "\n",
        "def my_print(a,b):\n",
        "  print('왼쪽:',a)\n",
        "  print('오른쪽:',b)\n",
        "\n",
        "my_print(a=100, b=200)"
      ],
      "metadata": {
        "colab": {
          "base_uri": "https://localhost:8080/"
        },
        "id": "WaJ8WwtGUb-M",
        "outputId": "c41ae4ed-62b2-441e-d0c7-b68ef7641e5d"
      },
      "execution_count": 55,
      "outputs": [
        {
          "output_type": "stream",
          "name": "stdout",
          "text": [
            "왼쪽: 100\n",
            "오른쪽: 200\n"
          ]
        }
      ]
    },
    {
      "cell_type": "code",
      "source": [
        "# 230\n",
        "\n",
        "def my_print(a,b):\n",
        "  print('왼쪽:',a)\n",
        "  print('오른쪽:',b)\n",
        "\n",
        "my_print(b=100, a=200) # 변수에 값을 지정해서 지정한 변수대로 출력"
      ],
      "metadata": {
        "colab": {
          "base_uri": "https://localhost:8080/"
        },
        "id": "GAUPPfwEVV1e",
        "outputId": "23ee3e36-2e5c-47c6-e04d-baafc3921848"
      },
      "execution_count": 57,
      "outputs": [
        {
          "output_type": "stream",
          "name": "stdout",
          "text": [
            "왼쪽: 200\n",
            "오른쪽: 100\n"
          ]
        }
      ]
    }
  ]
}