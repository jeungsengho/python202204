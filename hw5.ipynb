{
  "nbformat": 4,
  "nbformat_minor": 0,
  "metadata": {
    "colab": {
      "name": "Hw5.ipynb",
      "provenance": [],
      "authorship_tag": "ABX9TyPO48uMVfaoBd3BnU/5PvW3",
      "include_colab_link": true
    },
    "kernelspec": {
      "name": "python3",
      "display_name": "Python 3"
    },
    "language_info": {
      "name": "python"
    }
  },
  "cells": [
    {
      "cell_type": "markdown",
      "metadata": {
        "id": "view-in-github",
        "colab_type": "text"
      },
      "source": [
        "<a href=\"https://colab.research.google.com/github/jeungsengho/python202204/blob/main/Hw5.ipynb\" target=\"_parent\"><img src=\"https://colab.research.google.com/assets/colab-badge.svg\" alt=\"Open In Colab\"/></a>"
      ]
    },
    {
      "cell_type": "code",
      "execution_count": 3,
      "metadata": {
        "colab": {
          "base_uri": "https://localhost:8080/",
          "height": 248
        },
        "id": "lZUCailP4skc",
        "outputId": "e01dbab3-9755-4630-be35-d39092bb7144"
      },
      "outputs": [
        {
          "output_type": "error",
          "ename": "NameError",
          "evalue": "ignored",
          "traceback": [
            "\u001b[0;31m---------------------------------------------------------------------------\u001b[0m",
            "\u001b[0;31mNameError\u001b[0m                                 Traceback (most recent call last)",
            "\u001b[0;32m<ipython-input-3-24e7834f4907>\u001b[0m in \u001b[0;36m<module>\u001b[0;34m()\u001b[0m\n\u001b[1;32m      5\u001b[0m \u001b[0;34m\u001b[0m\u001b[0m\n\u001b[1;32m      6\u001b[0m \u001b[0mn_plus_1\u001b[0m\u001b[0;34m(\u001b[0m\u001b[0;36m3\u001b[0m\u001b[0;34m)\u001b[0m\u001b[0;34m\u001b[0m\u001b[0;34m\u001b[0m\u001b[0m\n\u001b[0;32m----> 7\u001b[0;31m \u001b[0mprint\u001b[0m\u001b[0;34m(\u001b[0m\u001b[0mresult\u001b[0m\u001b[0;34m)\u001b[0m\u001b[0;34m\u001b[0m\u001b[0;34m\u001b[0m\u001b[0m\n\u001b[0m\u001b[1;32m      8\u001b[0m \u001b[0;34m\u001b[0m\u001b[0m\n\u001b[1;32m      9\u001b[0m \u001b[0;31m# 에러 발생 -> result값은 함수 내에 있기 때문에 에러 발생\u001b[0m\u001b[0;34m\u001b[0m\u001b[0;34m\u001b[0m\u001b[0;34m\u001b[0m\u001b[0m\n",
            "\u001b[0;31mNameError\u001b[0m: name 'result' is not defined"
          ]
        }
      ],
      "source": [
        "# 231\n",
        "\n",
        "def n_plus_1(n):\n",
        "  result = n + 1\n",
        "\n",
        "n_plus_1(3)\n",
        "print(result)\n",
        "\n",
        "# 에러 발생 -> result값은 함수 내에 있기 때문에 에러 발생"
      ]
    },
    {
      "cell_type": "code",
      "source": [
        "# 232\n",
        "\n",
        "def make_url(str):\n",
        "  return 'www.' + str + '.com'\n",
        "\n",
        "make_url('naver')"
      ],
      "metadata": {
        "colab": {
          "base_uri": "https://localhost:8080/",
          "height": 35
        },
        "id": "BstPJWBk5UA1",
        "outputId": "cf7980c4-7d89-49d2-c979-9695030c2a1e"
      },
      "execution_count": 5,
      "outputs": [
        {
          "output_type": "execute_result",
          "data": {
            "text/plain": [
              "'www.naver.com'"
            ],
            "application/vnd.google.colaboratory.intrinsic+json": {
              "type": "string"
            }
          },
          "metadata": {},
          "execution_count": 5
        }
      ]
    },
    {
      "cell_type": "code",
      "source": [
        "# 233\n",
        "\n",
        "def make_list(str):\n",
        "  my_list = []\n",
        "  for i in str:\n",
        "    my_list.append(i)\n",
        "  return my_list\n",
        "\n",
        "make_list('abcd')"
      ],
      "metadata": {
        "colab": {
          "base_uri": "https://localhost:8080/"
        },
        "id": "HiYQaiRQ5uYa",
        "outputId": "217ae2c5-0bc4-41e5-fd3f-ec58faacbcd8"
      },
      "execution_count": 7,
      "outputs": [
        {
          "output_type": "execute_result",
          "data": {
            "text/plain": [
              "['a', 'b', 'c', 'd']"
            ]
          },
          "metadata": {},
          "execution_count": 7
        }
      ]
    },
    {
      "cell_type": "code",
      "source": [
        "# 234\n",
        "\n",
        "def pickup_even(list):\n",
        "  my_list = []\n",
        "  for i in list:\n",
        "    if i % 2 == 0:\n",
        "      my_list.append(i)\n",
        "  return my_list\n",
        "\n",
        "pickup_even([3,4,5,6,7,8])"
      ],
      "metadata": {
        "colab": {
          "base_uri": "https://localhost:8080/"
        },
        "id": "vYhwopit6MTS",
        "outputId": "c14d13db-6ad8-444a-e12e-e2455d6057dd"
      },
      "execution_count": 9,
      "outputs": [
        {
          "output_type": "execute_result",
          "data": {
            "text/plain": [
              "[4, 6, 8]"
            ]
          },
          "metadata": {},
          "execution_count": 9
        }
      ]
    },
    {
      "cell_type": "code",
      "source": [
        "# 235\n",
        "\n",
        "def convert_int(num):\n",
        "  print(int(num.replace(',', '')))\n",
        "\n",
        "convert_int('1,234,567')"
      ],
      "metadata": {
        "colab": {
          "base_uri": "https://localhost:8080/"
        },
        "id": "6bEzlkqY6uKu",
        "outputId": "93e7adb9-49cd-48b1-c88e-6edf98142f48"
      },
      "execution_count": 12,
      "outputs": [
        {
          "output_type": "stream",
          "name": "stdout",
          "text": [
            "1234567\n"
          ]
        }
      ]
    },
    {
      "cell_type": "code",
      "source": [
        "# 236\n",
        "\n",
        "def 함수(num):\n",
        "  return num + 4\n",
        "\n",
        "a = 함수(10)    # 14\n",
        "b = 함수(a)     # 18\n",
        "c = 함수(b)     # 22\n",
        "\n",
        "print(c)"
      ],
      "metadata": {
        "colab": {
          "base_uri": "https://localhost:8080/"
        },
        "id": "WVV8L-rP7H9C",
        "outputId": "25b737d1-842e-49b2-8e39-505cbeb94bc2"
      },
      "execution_count": 14,
      "outputs": [
        {
          "output_type": "stream",
          "name": "stdout",
          "text": [
            "22\n"
          ]
        }
      ]
    },
    {
      "cell_type": "code",
      "source": [
        "# 237\n",
        "\n",
        "def 함수(num):\n",
        "  return num + 4\n",
        "\n",
        "c = 함수(함수(함수(10))) # 10+4+4+4 = 22\n",
        "print(c)"
      ],
      "metadata": {
        "colab": {
          "base_uri": "https://localhost:8080/"
        },
        "id": "mB_w8Oc57aFg",
        "outputId": "8d5698aa-93d5-48e4-99fb-bf68eead289f"
      },
      "execution_count": 16,
      "outputs": [
        {
          "output_type": "stream",
          "name": "stdout",
          "text": [
            "22\n"
          ]
        }
      ]
    },
    {
      "cell_type": "code",
      "source": [
        "# 238\n",
        "\n",
        "def 함수1(num):\n",
        "  return num + 4\n",
        "\n",
        "def 함수2(num):\n",
        "  return num * 10\n",
        "\n",
        "a = 함수1(10) # 10+4=14\n",
        "\n",
        "c = 함수2(a)  # 14*10=140\n",
        "\n",
        "print(c)"
      ],
      "metadata": {
        "colab": {
          "base_uri": "https://localhost:8080/"
        },
        "id": "TnLGiWHA7pNb",
        "outputId": "ede5bfeb-6607-4cae-f9d3-ecddfa515d3b"
      },
      "execution_count": 18,
      "outputs": [
        {
          "output_type": "stream",
          "name": "stdout",
          "text": [
            "140\n"
          ]
        }
      ]
    },
    {
      "cell_type": "code",
      "source": [
        "# 239\n",
        "\n",
        "def 함수1(num):\n",
        "  return num + 4\n",
        "\n",
        "def 함수2(num):\n",
        "  num = num + 2\n",
        "  return 함수1(num)\n",
        "\n",
        "c = 함수2(10)  # 10 + 2 + 4\n",
        "print(c)"
      ],
      "metadata": {
        "colab": {
          "base_uri": "https://localhost:8080/"
        },
        "id": "xrJpCZra76Do",
        "outputId": "4bfdc892-9c06-4d64-8df2-b99c652980ce"
      },
      "execution_count": 20,
      "outputs": [
        {
          "output_type": "stream",
          "name": "stdout",
          "text": [
            "16\n"
          ]
        }
      ]
    },
    {
      "cell_type": "code",
      "source": [
        "# 240\n",
        "\n",
        "def 함수0(num):\n",
        "  return num * 2\n",
        "\n",
        "def 함수1(num):\n",
        "  return 함수0(num + 2)\n",
        "\n",
        "def 함수2(num):\n",
        "  num = num + 10\n",
        "  return 함수1(num)\n",
        "\n",
        "c = 함수2(2)    # 2 = 2 + 10 = 12 -> 함수1(12) = 함수0(12+2) = 함수0(14) = 14 * 2 = 28\n",
        "print(c)"
      ],
      "metadata": {
        "colab": {
          "base_uri": "https://localhost:8080/"
        },
        "id": "QhEa6Mg98SSt",
        "outputId": "db812a84-ffcc-4497-a375-53ff3c887458"
      },
      "execution_count": 22,
      "outputs": [
        {
          "output_type": "stream",
          "name": "stdout",
          "text": [
            "28\n"
          ]
        }
      ]
    },
    {
      "cell_type": "code",
      "source": [
        "# 291\n",
        "\n",
        "file = open(\"C:\\Users\\user\\Desktop\\매수종목1.txt\", 'wt')\n",
        "file.write(\"005930\\n\")\n",
        "file.write(\"005380\\n\")\n",
        "file.write(\"035420\")\n",
        "file.close()"
      ],
      "metadata": {
        "colab": {
          "base_uri": "https://localhost:8080/",
          "height": 137
        },
        "id": "6x_Mk1nQ9CB9",
        "outputId": "fe9af7ac-91c1-4b30-db3d-cae7821f5358"
      },
      "execution_count": 25,
      "outputs": [
        {
          "output_type": "error",
          "ename": "SyntaxError",
          "evalue": "ignored",
          "traceback": [
            "\u001b[0;36m  File \u001b[0;32m\"<ipython-input-25-ac65304cf607>\"\u001b[0;36m, line \u001b[0;32m3\u001b[0m\n\u001b[0;31m    file = open(\"C:\\Users\\user\\Desktop\\매수종목1.txt\", 'wt')\u001b[0m\n\u001b[0m               ^\u001b[0m\n\u001b[0;31mSyntaxError\u001b[0m\u001b[0;31m:\u001b[0m (unicode error) 'unicodeescape' codec can't decode bytes in position 2-3: truncated \\UXXXXXXXX escape\n"
          ]
        }
      ]
    },
    {
      "cell_type": "code",
      "source": [
        "# 292\n",
        "\n",
        "file = open(\"C:\\Users\\user\\Desktop\\매수종목2.txt\", 'wt')\n",
        "file.write(\"005930 '삼성전자'\\n\")\n",
        "file.write(\"005380 '현대차'\\n\")\n",
        "file.write(\"035420 'NAVER'\")\n",
        "file.close()"
      ],
      "metadata": {
        "colab": {
          "base_uri": "https://localhost:8080/",
          "height": 137
        },
        "id": "ULeGhY3G9dL5",
        "outputId": "f2026658-a2d7-43bf-97e0-1c4429165b57"
      },
      "execution_count": 26,
      "outputs": [
        {
          "output_type": "error",
          "ename": "SyntaxError",
          "evalue": "ignored",
          "traceback": [
            "\u001b[0;36m  File \u001b[0;32m\"<ipython-input-26-2de2e47d0c60>\"\u001b[0;36m, line \u001b[0;32m3\u001b[0m\n\u001b[0;31m    file = open(\"C:\\Users\\user\\Desktop\\매수종목2.txt\", 'wt')\u001b[0m\n\u001b[0m               ^\u001b[0m\n\u001b[0;31mSyntaxError\u001b[0m\u001b[0;31m:\u001b[0m (unicode error) 'unicodeescape' codec can't decode bytes in position 2-3: truncated \\UXXXXXXXX escape\n"
          ]
        }
      ]
    },
    {
      "cell_type": "code",
      "source": [
        "# 293  검색\n",
        "\n",
        "import csv\n",
        "\n",
        "f = open(\"C:\\Users\\user\\Desktop\\매수종목.csv\", 'wt')\n",
        "writer = csv.writer(f)\n",
        "writer.writerow([\"종목명\", \"종목코드\", \"PER\"])\n",
        "writer.writerow([\"삼성전자\", \"005930\", 15.59])\n",
        "writer.writerow([\"NAVER\", \"035420\", 55.82])\n",
        "f.close()"
      ],
      "metadata": {
        "colab": {
          "base_uri": "https://localhost:8080/",
          "height": 137
        },
        "id": "A-MbNOdq99QI",
        "outputId": "c353d50e-7893-4316-d85f-936f4e0ea414"
      },
      "execution_count": 27,
      "outputs": [
        {
          "output_type": "error",
          "ename": "SyntaxError",
          "evalue": "ignored",
          "traceback": [
            "\u001b[0;36m  File \u001b[0;32m\"<ipython-input-27-4ff3f13cb327>\"\u001b[0;36m, line \u001b[0;32m5\u001b[0m\n\u001b[0;31m    f = open(\"C:\\Users\\user\\Desktop\\매수종목.csv\", 'wt')\u001b[0m\n\u001b[0m            ^\u001b[0m\n\u001b[0;31mSyntaxError\u001b[0m\u001b[0;31m:\u001b[0m (unicode error) 'unicodeescape' codec can't decode bytes in position 2-3: truncated \\UXXXXXXXX escape\n"
          ]
        }
      ]
    },
    {
      "cell_type": "code",
      "source": [
        "# 294  검색\n",
        "\n",
        "f = open(\"C:\\Users\\user\\Desktop\\매수종목1.txt\", 'wt')\n",
        "lines = f.readlines()\n",
        "\n",
        "codes = []\n",
        "for line in lines:\n",
        "    code = line.strip()\n",
        "    codes.append(code)\n",
        "\n",
        "print(codes)\n",
        "\n",
        "f.close()"
      ],
      "metadata": {
        "colab": {
          "base_uri": "https://localhost:8080/",
          "height": 137
        },
        "id": "YScpGdcV-P6E",
        "outputId": "2f62f9b7-d131-48d3-d9f0-acfbbc2e12cc"
      },
      "execution_count": 28,
      "outputs": [
        {
          "output_type": "error",
          "ename": "SyntaxError",
          "evalue": "ignored",
          "traceback": [
            "\u001b[0;36m  File \u001b[0;32m\"<ipython-input-28-a7f8a0611f4f>\"\u001b[0;36m, line \u001b[0;32m3\u001b[0m\n\u001b[0;31m    f = open(\"C:\\Users\\user\\Desktop\\매수종목1.txt\", 'wt')\u001b[0m\n\u001b[0m            ^\u001b[0m\n\u001b[0;31mSyntaxError\u001b[0m\u001b[0;31m:\u001b[0m (unicode error) 'unicodeescape' codec can't decode bytes in position 2-3: truncated \\UXXXXXXXX escape\n"
          ]
        }
      ]
    },
    {
      "cell_type": "code",
      "source": [
        "# 295 검색\n",
        "\n",
        "file = open(\"C:\\Users\\user\\Desktop\\매수종목2.txt\")\n",
        "lines = f.readlines()\n",
        "\n",
        "data = {}\n",
        "for line in lines:\n",
        "    line = line.strip()     # '\\n' 제거\n",
        "    k, v = line.split()\n",
        "    #print(k, v)\n",
        "    data[k] = v\n",
        "\n",
        "print(data)\n",
        "f.close()"
      ],
      "metadata": {
        "colab": {
          "base_uri": "https://localhost:8080/",
          "height": 137
        },
        "id": "bOcCb0Wu-4_i",
        "outputId": "87f5c842-a26c-4498-bbcf-22882b7f992b"
      },
      "execution_count": 29,
      "outputs": [
        {
          "output_type": "error",
          "ename": "SyntaxError",
          "evalue": "ignored",
          "traceback": [
            "\u001b[0;36m  File \u001b[0;32m\"<ipython-input-29-3dffe04bc293>\"\u001b[0;36m, line \u001b[0;32m3\u001b[0m\n\u001b[0;31m    file = open(\"C:\\Users\\user\\Desktop\\매수종목2.txt\")\u001b[0m\n\u001b[0m               ^\u001b[0m\n\u001b[0;31mSyntaxError\u001b[0m\u001b[0;31m:\u001b[0m (unicode error) 'unicodeescape' codec can't decode bytes in position 2-3: truncated \\UXXXXXXXX escape\n"
          ]
        }
      ]
    },
    {
      "cell_type": "code",
      "source": [
        "# 296  검색\n",
        "\n",
        "per = [\"10.31\", \"\", \"8.00\"]\n",
        "\n",
        "for i in per:\n",
        "    try:\n",
        "        print(float(i))\n",
        "    except:\n",
        "        print(0)\n"
      ],
      "metadata": {
        "colab": {
          "base_uri": "https://localhost:8080/"
        },
        "id": "TcRtNEMw_GvE",
        "outputId": "c43796f3-0eb6-480d-aa0f-752938f05a22"
      },
      "execution_count": 35,
      "outputs": [
        {
          "output_type": "stream",
          "name": "stdout",
          "text": [
            "0\n",
            "0\n",
            "0\n"
          ]
        }
      ]
    },
    {
      "cell_type": "code",
      "source": [
        "# 297\n",
        "\n",
        "per = ['10.31', '', '8.00']\n",
        "new_per = []\n",
        "\n",
        "for i in per:\n",
        "  try:\n",
        "    a = float(i)\n",
        "  except:\n",
        "    a = 0\n",
        "  new_per.append(a)\n",
        "\n",
        "print(new_per)"
      ],
      "metadata": {
        "colab": {
          "base_uri": "https://localhost:8080/"
        },
        "id": "GqqMBXjt_3F7",
        "outputId": "137a3a6e-d890-47b2-c37a-1b65455ef24e"
      },
      "execution_count": 37,
      "outputs": [
        {
          "output_type": "stream",
          "name": "stdout",
          "text": [
            "[10.31, 0, 8.0]\n"
          ]
        }
      ]
    },
    {
      "cell_type": "code",
      "source": [
        "# 298 검색\n",
        "\n",
        "try:\n",
        "    b = 3 / 0\n",
        "except ZeroDivisionError:\n",
        "    print(\"예외\")"
      ],
      "metadata": {
        "colab": {
          "base_uri": "https://localhost:8080/"
        },
        "id": "AgcSnvBTAdOj",
        "outputId": "a54c878f-0bf3-4b58-c8e4-505381513962"
      },
      "execution_count": 39,
      "outputs": [
        {
          "output_type": "stream",
          "name": "stdout",
          "text": [
            "예외\n"
          ]
        }
      ]
    },
    {
      "cell_type": "code",
      "source": [
        "# 299 검색\n",
        "\n",
        "data = [1, 2, 3]\n",
        "\n",
        "for i in range(5):\n",
        "    try:\n",
        "        print(data[i])\n",
        "    except IndexError as e:\n",
        "        print(e)"
      ],
      "metadata": {
        "colab": {
          "base_uri": "https://localhost:8080/"
        },
        "id": "fv2C2YHmAt7g",
        "outputId": "f9ad5866-110c-4282-9ef3-3e77c673ba00"
      },
      "execution_count": 41,
      "outputs": [
        {
          "output_type": "stream",
          "name": "stdout",
          "text": [
            "1\n",
            "2\n",
            "3\n",
            "list index out of range\n",
            "list index out of range\n"
          ]
        }
      ]
    },
    {
      "cell_type": "code",
      "source": [
        "# 300 검색\n",
        "\n",
        "per = [\"10.31\", \"\", \"8.00\"]\n",
        "\n",
        "for i in per:\n",
        "    try:\n",
        "        print(float(i))\n",
        "    except:\n",
        "        print(0)\n",
        "    else:\n",
        "        print(\"clean data\")\n",
        "    finally:\n",
        "        print(\"변환 완료\")"
      ],
      "metadata": {
        "colab": {
          "base_uri": "https://localhost:8080/"
        },
        "id": "gMXfRr8kA5as",
        "outputId": "73c84d4a-a73f-40a4-adc7-6c31a94e5878"
      },
      "execution_count": 42,
      "outputs": [
        {
          "output_type": "stream",
          "name": "stdout",
          "text": [
            "10.31\n",
            "clean data\n",
            "변환 완료\n",
            "0\n",
            "변환 완료\n",
            "8.0\n",
            "clean data\n",
            "변환 완료\n"
          ]
        }
      ]
    }
  ]
}
