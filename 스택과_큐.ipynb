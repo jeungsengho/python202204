{
  "nbformat": 4,
  "nbformat_minor": 0,
  "metadata": {
    "colab": {
      "name": "스택과 큐.ipynb",
      "provenance": [],
      "authorship_tag": "ABX9TyPotAyDmha77pMXzDbDb8I5",
      "include_colab_link": true
    },
    "kernelspec": {
      "name": "python3",
      "display_name": "Python 3"
    },
    "language_info": {
      "name": "python"
    }
  },
  "cells": [
    {
      "cell_type": "markdown",
      "metadata": {
        "id": "view-in-github",
        "colab_type": "text"
      },
      "source": [
        "<a href=\"https://colab.research.google.com/github/jeungsengho/python202204/blob/main/%EC%8A%A4%ED%83%9D%EA%B3%BC_%ED%81%90.ipynb\" target=\"_parent\"><img src=\"https://colab.research.google.com/assets/colab-badge.svg\" alt=\"Open In Colab\"/></a>"
      ]
    },
    {
      "cell_type": "code",
      "execution_count": 8,
      "metadata": {
        "id": "a9WlNAwfRAfZ"
      },
      "outputs": [],
      "source": [
        "# 자료구조와 알고리즘\n",
        "\n",
        "# 자료구조 : 자료(데이터)를 저장하고 꺼내는 방법\n",
        "# 알고리즘 : 문제를 해결하기 위한 절차\n",
        "\n",
        "# 스택 stack : 쌓는다. 데이터를 쌓으면서 저장한다. 식당 주방의 접시, 프링글스\n",
        "#              LIFO (Last In First Out)\n",
        "#              이때 데이터를 넣는 것을 push 라고 하고 꺼내는 것을 pop 라고 부른다.\n",
        "#              실제 활용은 컴퓨터에서 프로그램을 수행할 때 사용된다.\n",
        "#              예를 들어 함수 A를 호출하면 기존 프로그램 위에 쌓이고 함수 A가 함수 B를 호출하면\n",
        "#              B가 A 위에 쌓이게 된다.\n",
        "\n",
        "#                                       7\n",
        "#                        30            30        30\n",
        "#          20            20            20        20        20          \n",
        "# 15       15            15            15        15        15        15"
      ]
    },
    {
      "cell_type": "code",
      "source": [
        "stack = []\n",
        "\n",
        "stack.append(15)\n",
        "stack"
      ],
      "metadata": {
        "colab": {
          "base_uri": "https://localhost:8080/"
        },
        "id": "136_HG8sZicM",
        "outputId": "18884ca9-c537-44ed-9023-ed66bc98da2f"
      },
      "execution_count": 9,
      "outputs": [
        {
          "output_type": "execute_result",
          "data": {
            "text/plain": [
              "[15]"
            ]
          },
          "metadata": {},
          "execution_count": 9
        }
      ]
    },
    {
      "cell_type": "code",
      "source": [
        "stack.append(20)\n",
        "stack"
      ],
      "metadata": {
        "colab": {
          "base_uri": "https://localhost:8080/"
        },
        "id": "rVo0SjvQZzwO",
        "outputId": "8734ca66-c6e8-4fae-81b6-c25bf8988f16"
      },
      "execution_count": 10,
      "outputs": [
        {
          "output_type": "execute_result",
          "data": {
            "text/plain": [
              "[15, 20]"
            ]
          },
          "metadata": {},
          "execution_count": 10
        }
      ]
    },
    {
      "cell_type": "code",
      "source": [
        "stack.append(30)\n",
        "stack"
      ],
      "metadata": {
        "colab": {
          "base_uri": "https://localhost:8080/"
        },
        "id": "2WsvhnZKZ1ow",
        "outputId": "26fa9dea-f40f-4e7d-b4af-01b2f16375eb"
      },
      "execution_count": 11,
      "outputs": [
        {
          "output_type": "execute_result",
          "data": {
            "text/plain": [
              "[15, 20, 30]"
            ]
          },
          "metadata": {},
          "execution_count": 11
        }
      ]
    },
    {
      "cell_type": "code",
      "source": [
        "stack.append(7)\n",
        "stack"
      ],
      "metadata": {
        "colab": {
          "base_uri": "https://localhost:8080/"
        },
        "id": "o56ijrFYZ6YF",
        "outputId": "3b3ed259-9862-43bc-95ca-3cdf2ffe9c29"
      },
      "execution_count": 13,
      "outputs": [
        {
          "output_type": "execute_result",
          "data": {
            "text/plain": [
              "[15, 20, 30, 7, 7]"
            ]
          },
          "metadata": {},
          "execution_count": 13
        }
      ]
    },
    {
      "cell_type": "code",
      "source": [
        "stack.pop()\n",
        "stack"
      ],
      "metadata": {
        "colab": {
          "base_uri": "https://localhost:8080/"
        },
        "id": "65KR2gMOZ_VG",
        "outputId": "6e575b90-b29a-43e2-8335-b9f2fcf13f97"
      },
      "execution_count": 16,
      "outputs": [
        {
          "output_type": "execute_result",
          "data": {
            "text/plain": [
              "[15, 20]"
            ]
          },
          "metadata": {},
          "execution_count": 16
        }
      ]
    },
    {
      "cell_type": "code",
      "source": [
        "stack.pop()\n",
        "stack"
      ],
      "metadata": {
        "colab": {
          "base_uri": "https://localhost:8080/"
        },
        "id": "UWZbOyzHaJC7",
        "outputId": "1b4fc6fa-6894-435c-f26a-134ac4551c39"
      },
      "execution_count": 18,
      "outputs": [
        {
          "output_type": "execute_result",
          "data": {
            "text/plain": [
              "[]"
            ]
          },
          "metadata": {},
          "execution_count": 18
        }
      ]
    },
    {
      "cell_type": "code",
      "source": [
        "# [15, 20, 30, 7]\n",
        "\n",
        "def Stack():    # 함수 선언\n",
        "  stack = []    # 빈 리스트 선언\n",
        "\n",
        "  stack.append(15)  # stack 리스트에 15 넣기\n",
        "  print(stack)\n",
        "  stack.append(20)  # stack 리스트에 20 넣기\n",
        "  print(stack)\n",
        "  stack.append(30)  # stack 리스트에 30 넣기\n",
        "  print(stack)\n",
        "  stack.append(7)   # stack 리스트에  7 넣기\n",
        "  print(stack)      # 전체 리스트 스택 출력\n",
        "\n",
        "  while stack:      # while 반복문으로 데이터가 stack에서 전부 없어질 때까지 반복\n",
        "    print(\"POP value is \", stack.pop())   # 스택에서 하나씩 뽑아내기\n",
        "    print(stack)                          # 하나씩 뽑을 때 마다 나머지 스택 출력\n",
        "\n",
        "Stack()"
      ],
      "metadata": {
        "colab": {
          "base_uri": "https://localhost:8080/"
        },
        "id": "qblxsd9baczv",
        "outputId": "8df61eb9-c7bb-4302-ba22-3a10498fa05a"
      },
      "execution_count": 24,
      "outputs": [
        {
          "output_type": "stream",
          "name": "stdout",
          "text": [
            "[15]\n",
            "[15, 20]\n",
            "[15, 20, 30]\n",
            "[15, 20, 30, 7]\n",
            "POP value is  7\n",
            "[15, 20, 30]\n",
            "POP value is  30\n",
            "[15, 20]\n",
            "POP value is  20\n",
            "[15]\n",
            "POP value is  15\n",
            "[]\n"
          ]
        }
      ]
    },
    {
      "cell_type": "code",
      "source": [
        "# 스택 활용 -> 브라우저\n",
        "\n",
        "stacklist = [] # 브라우저로 방문한 사이트들을 저장할 스택\n",
        "\n",
        "while True:\n",
        "  site = input('방문할 사이트 주소를 입력하세요(이전 사이트는 back) : ')\n",
        "  if site != 'back':\n",
        "    stacklist.append(site)\n",
        "  else:\n",
        "    stacklist.pop()\n",
        "\n",
        "  if len(stacklist) != 0: # 최소한 한번이라도 방문을 했으면...\n",
        "    print('현재 방문 중인 사이트는 ', stacklist[-1], '입니다.')\n",
        "  else:\n",
        "    print('방문 중인 사이트가 없습니다.')"
      ],
      "metadata": {
        "colab": {
          "base_uri": "https://localhost:8080/",
          "height": 712
        },
        "id": "4AMzVCXGcMc2",
        "outputId": "640e1131-7bbd-40b8-a512-d3f80c7b3e7b"
      },
      "execution_count": 28,
      "outputs": [
        {
          "output_type": "stream",
          "name": "stdout",
          "text": [
            "방문할 사이트 주소를 입력하세요(이전 사이트는 back) : www.naver.com\n",
            "현재 방문 중인 사이트는  www.naver.com 입니다.\n",
            "방문할 사이트 주소를 입력하세요(이전 사이트는 back) : www.daum.net\n",
            "현재 방문 중인 사이트는  www.daum.net 입니다.\n",
            "방문할 사이트 주소를 입력하세요(이전 사이트는 back) : www.google.com\n",
            "현재 방문 중인 사이트는  www.google.com 입니다.\n",
            "방문할 사이트 주소를 입력하세요(이전 사이트는 back) : back\n",
            "현재 방문 중인 사이트는  www.daum.net 입니다.\n"
          ]
        },
        {
          "output_type": "error",
          "ename": "KeyboardInterrupt",
          "evalue": "ignored",
          "traceback": [
            "\u001b[0;31m---------------------------------------------------------------------------\u001b[0m",
            "\u001b[0;31mKeyboardInterrupt\u001b[0m                         Traceback (most recent call last)",
            "\u001b[0;32m/usr/local/lib/python3.7/dist-packages/ipykernel/kernelbase.py\u001b[0m in \u001b[0;36m_input_request\u001b[0;34m(self, prompt, ident, parent, password)\u001b[0m\n\u001b[1;32m    728\u001b[0m             \u001b[0;32mtry\u001b[0m\u001b[0;34m:\u001b[0m\u001b[0;34m\u001b[0m\u001b[0;34m\u001b[0m\u001b[0m\n\u001b[0;32m--> 729\u001b[0;31m                 \u001b[0mident\u001b[0m\u001b[0;34m,\u001b[0m \u001b[0mreply\u001b[0m \u001b[0;34m=\u001b[0m \u001b[0mself\u001b[0m\u001b[0;34m.\u001b[0m\u001b[0msession\u001b[0m\u001b[0;34m.\u001b[0m\u001b[0mrecv\u001b[0m\u001b[0;34m(\u001b[0m\u001b[0mself\u001b[0m\u001b[0;34m.\u001b[0m\u001b[0mstdin_socket\u001b[0m\u001b[0;34m,\u001b[0m \u001b[0;36m0\u001b[0m\u001b[0;34m)\u001b[0m\u001b[0;34m\u001b[0m\u001b[0;34m\u001b[0m\u001b[0m\n\u001b[0m\u001b[1;32m    730\u001b[0m             \u001b[0;32mexcept\u001b[0m \u001b[0mException\u001b[0m\u001b[0;34m:\u001b[0m\u001b[0;34m\u001b[0m\u001b[0;34m\u001b[0m\u001b[0m\n",
            "\u001b[0;32m/usr/local/lib/python3.7/dist-packages/jupyter_client/session.py\u001b[0m in \u001b[0;36mrecv\u001b[0;34m(self, socket, mode, content, copy)\u001b[0m\n\u001b[1;32m    802\u001b[0m         \u001b[0;32mtry\u001b[0m\u001b[0;34m:\u001b[0m\u001b[0;34m\u001b[0m\u001b[0;34m\u001b[0m\u001b[0m\n\u001b[0;32m--> 803\u001b[0;31m             \u001b[0mmsg_list\u001b[0m \u001b[0;34m=\u001b[0m \u001b[0msocket\u001b[0m\u001b[0;34m.\u001b[0m\u001b[0mrecv_multipart\u001b[0m\u001b[0;34m(\u001b[0m\u001b[0mmode\u001b[0m\u001b[0;34m,\u001b[0m \u001b[0mcopy\u001b[0m\u001b[0;34m=\u001b[0m\u001b[0mcopy\u001b[0m\u001b[0;34m)\u001b[0m\u001b[0;34m\u001b[0m\u001b[0;34m\u001b[0m\u001b[0m\n\u001b[0m\u001b[1;32m    804\u001b[0m         \u001b[0;32mexcept\u001b[0m \u001b[0mzmq\u001b[0m\u001b[0;34m.\u001b[0m\u001b[0mZMQError\u001b[0m \u001b[0;32mas\u001b[0m \u001b[0me\u001b[0m\u001b[0;34m:\u001b[0m\u001b[0;34m\u001b[0m\u001b[0;34m\u001b[0m\u001b[0m\n",
            "\u001b[0;32m/usr/local/lib/python3.7/dist-packages/zmq/sugar/socket.py\u001b[0m in \u001b[0;36mrecv_multipart\u001b[0;34m(self, flags, copy, track)\u001b[0m\n\u001b[1;32m    624\u001b[0m         \"\"\"\n\u001b[0;32m--> 625\u001b[0;31m         \u001b[0mparts\u001b[0m \u001b[0;34m=\u001b[0m \u001b[0;34m[\u001b[0m\u001b[0mself\u001b[0m\u001b[0;34m.\u001b[0m\u001b[0mrecv\u001b[0m\u001b[0;34m(\u001b[0m\u001b[0mflags\u001b[0m\u001b[0;34m,\u001b[0m \u001b[0mcopy\u001b[0m\u001b[0;34m=\u001b[0m\u001b[0mcopy\u001b[0m\u001b[0;34m,\u001b[0m \u001b[0mtrack\u001b[0m\u001b[0;34m=\u001b[0m\u001b[0mtrack\u001b[0m\u001b[0;34m)\u001b[0m\u001b[0;34m]\u001b[0m\u001b[0;34m\u001b[0m\u001b[0;34m\u001b[0m\u001b[0m\n\u001b[0m\u001b[1;32m    626\u001b[0m         \u001b[0;31m# have first part already, only loop while more to receive\u001b[0m\u001b[0;34m\u001b[0m\u001b[0;34m\u001b[0m\u001b[0;34m\u001b[0m\u001b[0m\n",
            "\u001b[0;32mzmq/backend/cython/socket.pyx\u001b[0m in \u001b[0;36mzmq.backend.cython.socket.Socket.recv\u001b[0;34m()\u001b[0m\n",
            "\u001b[0;32mzmq/backend/cython/socket.pyx\u001b[0m in \u001b[0;36mzmq.backend.cython.socket.Socket.recv\u001b[0;34m()\u001b[0m\n",
            "\u001b[0;32mzmq/backend/cython/socket.pyx\u001b[0m in \u001b[0;36mzmq.backend.cython.socket._recv_copy\u001b[0;34m()\u001b[0m\n",
            "\u001b[0;32m/usr/local/lib/python3.7/dist-packages/zmq/backend/cython/checkrc.pxd\u001b[0m in \u001b[0;36mzmq.backend.cython.checkrc._check_rc\u001b[0;34m()\u001b[0m\n",
            "\u001b[0;31mKeyboardInterrupt\u001b[0m: ",
            "\nDuring handling of the above exception, another exception occurred:\n",
            "\u001b[0;31mKeyboardInterrupt\u001b[0m                         Traceback (most recent call last)",
            "\u001b[0;32m<ipython-input-28-6c1ea4ebdd2c>\u001b[0m in \u001b[0;36m<module>\u001b[0;34m()\u001b[0m\n\u001b[1;32m      4\u001b[0m \u001b[0;34m\u001b[0m\u001b[0m\n\u001b[1;32m      5\u001b[0m \u001b[0;32mwhile\u001b[0m \u001b[0;32mTrue\u001b[0m\u001b[0;34m:\u001b[0m\u001b[0;34m\u001b[0m\u001b[0;34m\u001b[0m\u001b[0m\n\u001b[0;32m----> 6\u001b[0;31m   \u001b[0msite\u001b[0m \u001b[0;34m=\u001b[0m \u001b[0minput\u001b[0m\u001b[0;34m(\u001b[0m\u001b[0;34m'방문할 사이트 주소를 입력하세요(이전 사이트는 back) : '\u001b[0m\u001b[0;34m)\u001b[0m\u001b[0;34m\u001b[0m\u001b[0;34m\u001b[0m\u001b[0m\n\u001b[0m\u001b[1;32m      7\u001b[0m   \u001b[0;32mif\u001b[0m \u001b[0msite\u001b[0m \u001b[0;34m!=\u001b[0m \u001b[0;34m'back'\u001b[0m\u001b[0;34m:\u001b[0m\u001b[0;34m\u001b[0m\u001b[0;34m\u001b[0m\u001b[0m\n\u001b[1;32m      8\u001b[0m     \u001b[0mstacklist\u001b[0m\u001b[0;34m.\u001b[0m\u001b[0mappend\u001b[0m\u001b[0;34m(\u001b[0m\u001b[0msite\u001b[0m\u001b[0;34m)\u001b[0m\u001b[0;34m\u001b[0m\u001b[0;34m\u001b[0m\u001b[0m\n",
            "\u001b[0;32m/usr/local/lib/python3.7/dist-packages/ipykernel/kernelbase.py\u001b[0m in \u001b[0;36mraw_input\u001b[0;34m(self, prompt)\u001b[0m\n\u001b[1;32m    702\u001b[0m             \u001b[0mself\u001b[0m\u001b[0;34m.\u001b[0m\u001b[0m_parent_ident\u001b[0m\u001b[0;34m,\u001b[0m\u001b[0;34m\u001b[0m\u001b[0;34m\u001b[0m\u001b[0m\n\u001b[1;32m    703\u001b[0m             \u001b[0mself\u001b[0m\u001b[0;34m.\u001b[0m\u001b[0m_parent_header\u001b[0m\u001b[0;34m,\u001b[0m\u001b[0;34m\u001b[0m\u001b[0;34m\u001b[0m\u001b[0m\n\u001b[0;32m--> 704\u001b[0;31m             \u001b[0mpassword\u001b[0m\u001b[0;34m=\u001b[0m\u001b[0;32mFalse\u001b[0m\u001b[0;34m,\u001b[0m\u001b[0;34m\u001b[0m\u001b[0;34m\u001b[0m\u001b[0m\n\u001b[0m\u001b[1;32m    705\u001b[0m         )\n\u001b[1;32m    706\u001b[0m \u001b[0;34m\u001b[0m\u001b[0m\n",
            "\u001b[0;32m/usr/local/lib/python3.7/dist-packages/ipykernel/kernelbase.py\u001b[0m in \u001b[0;36m_input_request\u001b[0;34m(self, prompt, ident, parent, password)\u001b[0m\n\u001b[1;32m    732\u001b[0m             \u001b[0;32mexcept\u001b[0m \u001b[0mKeyboardInterrupt\u001b[0m\u001b[0;34m:\u001b[0m\u001b[0;34m\u001b[0m\u001b[0;34m\u001b[0m\u001b[0m\n\u001b[1;32m    733\u001b[0m                 \u001b[0;31m# re-raise KeyboardInterrupt, to truncate traceback\u001b[0m\u001b[0;34m\u001b[0m\u001b[0;34m\u001b[0m\u001b[0;34m\u001b[0m\u001b[0m\n\u001b[0;32m--> 734\u001b[0;31m                 \u001b[0;32mraise\u001b[0m \u001b[0mKeyboardInterrupt\u001b[0m\u001b[0;34m\u001b[0m\u001b[0;34m\u001b[0m\u001b[0m\n\u001b[0m\u001b[1;32m    735\u001b[0m             \u001b[0;32melse\u001b[0m\u001b[0;34m:\u001b[0m\u001b[0;34m\u001b[0m\u001b[0;34m\u001b[0m\u001b[0m\n\u001b[1;32m    736\u001b[0m                 \u001b[0;32mbreak\u001b[0m\u001b[0;34m\u001b[0m\u001b[0;34m\u001b[0m\u001b[0m\n",
            "\u001b[0;31mKeyboardInterrupt\u001b[0m: "
          ]
        }
      ]
    },
    {
      "cell_type": "code",
      "source": [
        "# 큐 Queue\n",
        "\n",
        "# 데이터가 입력되면 그 순서대로 쌓이고 먼저 들어온 데이터부터 먼저 나간다.\n",
        "# FIFO (First In First Out), 컴퓨터 안에서 여러개의 프로세스가 수행 중일 때\n",
        "# 새로운 프로세스가 수행되는 경우 가장 먼저 메모리에 올라왔던 프로세스가\n",
        "# 아웃되고 새로운 프로세스를 메모리에 올리게 된다."
      ],
      "metadata": {
        "id": "3NY7oQN4esJ3"
      },
      "execution_count": 29,
      "outputs": []
    },
    {
      "cell_type": "code",
      "source": [
        "# 15\n",
        "# 20   15\n",
        "# 30   20    15\n",
        "# 7    30    20    15\n",
        "\n",
        "# 7    30    20\n",
        "# 7    30\n",
        "# 7\n",
        "# \n",
        "\n",
        "queuelist = []\n",
        "queuelist.append(15)\n",
        "print(queuelist)\n",
        "queuelist.append(20)\n",
        "print(queuelist)\n",
        "queuelist.append(30)\n",
        "print(queuelist)\n",
        "queuelist.append(7)\n",
        "print(queuelist)\n",
        "\n",
        "while queuelist:\n",
        "  print('Get Value : ', queuelist.pop(0))    # pop은 생략하면 마지막 한개 추출\n",
        "  print(queuelist)                           # 생략 안하면 그 해당 원소를 추출"
      ],
      "metadata": {
        "colab": {
          "base_uri": "https://localhost:8080/"
        },
        "id": "wIB-L3BDfXxT",
        "outputId": "59b107bb-dbcf-4741-88b6-ca0fd8559fb8"
      },
      "execution_count": 36,
      "outputs": [
        {
          "output_type": "stream",
          "name": "stdout",
          "text": [
            "[15]\n",
            "[15, 20]\n",
            "[15, 20, 30]\n",
            "[15, 20, 30, 7]\n",
            "Get Value :  15\n",
            "[20, 30, 7]\n",
            "Get Value :  20\n",
            "[30, 7]\n",
            "Get Value :  30\n",
            "[7]\n",
            "Get Value :  7\n",
            "[]\n"
          ]
        }
      ]
    },
    {
      "cell_type": "code",
      "source": [
        "# queue 활용 - 프린터 출력, 식당 줄서기 ...\n",
        "\n",
        "queuelist = []    # 큐 리스트 선언\n",
        "\n",
        "while True:       # 무한 반복 선언\n",
        "  fname = input('출력할 파일을 하나씩 입력하세요(0을 누르면 출력이 즉시 시작됩니다.) :')\n",
        "  if fname != '0':\n",
        "    queuelist.append(fname)\n",
        "  else:\n",
        "    print('출력을 시작합니다.')\n",
        "    no = 1\n",
        "    while queuelist:\n",
        "      print(no,'번째 파일을 출력합니다.', queuelist.pop(0))\n",
        "      no += 1\n",
        "    print('출력을 완료하였습니다.')\n",
        "    break\n",
        "\n",
        "\n",
        "\n",
        "\n",
        "# 출력할 파일을 하나씩 입력하세요(0을 누르면 출력이 즉시 시작됩니다.) : hwp1\n",
        "# 출력할 파일을 하나씩 입력하세요(0을 누르면 출력이 즉시 시작됩니다.) : hwp2\n",
        "# 출력할 파일을 하나씩 입력하세요(0을 누르면 출력이 즉시 시작됩니다.) : hwp3\n",
        "# 출력할 파일을 하나씩 입력하세요(0을 누르면 출력이 즉시 시작됩니다.) : 0\n",
        "\n",
        "# 출력을 시작합니다.\n",
        "# 1번째 파일을 출력합니다. hwp1\n",
        "# 2번째 파일을 출력합니다. hwp2\n",
        "# 3번째 파일을 출력합니다. hwp3\n",
        "# 출력을 완료하였습니다.\n"
      ],
      "metadata": {
        "colab": {
          "base_uri": "https://localhost:8080/"
        },
        "id": "x0ePp7lLhnhE",
        "outputId": "09bef0ae-5182-4f91-fbc6-2fb41acac111"
      },
      "execution_count": 49,
      "outputs": [
        {
          "output_type": "stream",
          "name": "stdout",
          "text": [
            "출력할 파일을 하나씩 입력하세요(0을 누르면 출력이 즉시 시작됩니다.) :hwp1\n",
            "출력할 파일을 하나씩 입력하세요(0을 누르면 출력이 즉시 시작됩니다.) :0\n",
            "출력을 시작합니다.\n",
            "1 번째 파일을 출력합니다. hwp1\n",
            "출력을 완료하였습니다.\n"
          ]
        }
      ]
    },
    {
      "cell_type": "code",
      "source": [
        "# 응용 예제 1\n",
        "\n",
        "# palindrome 펠린드롬 (앞에서 읽어도 뒤에서 읽어도 같은 글자) 여부를 확인하는 함수, 스택과 큐를 사용\n",
        "\n",
        "# 리스트 2개에 각각 입력된 문자열을 넣는다.\n",
        "# 하나의 리스트에서는 앞에서 한개\n",
        "# 또 하나의 리스트에서는 뒤에서 한개를 각각 추출하여 비교한다.\n",
        "# 같으면 펠린드롬 다른게 발견되면 펠린드롬이 아니다.\n",
        "\n",
        "\n",
        "def palin(s):\n",
        "    queue = []\n",
        "    stack = []\n",
        "\n",
        "    for a in s:\n",
        "      queue.append(a)\n",
        "      stack.append(a)\n",
        "    \n",
        "    while queue and stack:\n",
        "        if queue.pop(0) != stack.pop():     # 큐와 스택은 나오는 순서가 정반대임을 이용\n",
        "            return False\n",
        "\n",
        "    return True\n",
        "\n",
        "palin('eve')    # True\n",
        "palin('eva')    # False"
      ],
      "metadata": {
        "colab": {
          "base_uri": "https://localhost:8080/"
        },
        "id": "4iNd_s8-r17O",
        "outputId": "8ba85e04-6751-4c86-d984-766ad5afcec7"
      },
      "execution_count": 73,
      "outputs": [
        {
          "output_type": "execute_result",
          "data": {
            "text/plain": [
              "False"
            ]
          },
          "metadata": {},
          "execution_count": 73
        }
      ]
    }
  ]
}