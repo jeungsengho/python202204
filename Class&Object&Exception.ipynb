{
  "nbformat": 4,
  "nbformat_minor": 0,
  "metadata": {
    "colab": {
      "name": "Class&Object&Exception.ipynb",
      "provenance": [],
      "collapsed_sections": [],
      "include_colab_link": true
    },
    "kernelspec": {
      "name": "python3",
      "display_name": "Python 3"
    },
    "language_info": {
      "name": "python"
    }
  },
  "cells": [
    {
      "cell_type": "markdown",
      "metadata": {
        "id": "view-in-github",
        "colab_type": "text"
      },
      "source": [
        "<a href=\"https://colab.research.google.com/github/jeungsengho/python202204/blob/main/Class%26Object%26Exception.ipynb\" target=\"_parent\"><img src=\"https://colab.research.google.com/assets/colab-badge.svg\" alt=\"Open In Colab\"/></a>"
      ]
    },
    {
      "cell_type": "code",
      "execution_count": null,
      "metadata": {
        "colab": {
          "base_uri": "https://localhost:8080/"
        },
        "id": "_i0ULVkMQUUn",
        "outputId": "32123c1f-9aef-4eb2-afd0-8d2945dc1cdf"
      },
      "outputs": [
        {
          "output_type": "stream",
          "name": "stdout",
          "text": [
            "3\n"
          ]
        }
      ],
      "source": [
        "# 클래스와 객체\n",
        "\n",
        "result = 0\n",
        "\n",
        "def add(num):  # 슈퍼마켓 계산대 계산기1\n",
        "  global result\n",
        "  result += num\n",
        "  return result\n",
        "\n",
        "\n",
        "print(add(3))"
      ]
    },
    {
      "cell_type": "code",
      "source": [
        "result1 = 0\n",
        "result2 = 0\n",
        "\n",
        "def add1(num):  # 슈퍼마켓 계산대 계산기1\n",
        "  global result1\n",
        "  result1 += num\n",
        "  return result1\n",
        "\n",
        "def add2(num):  # 슈퍼마켓 계산대 계산기1\n",
        "  global result2\n",
        "  result2 += num\n",
        "  return result2\n",
        "\n",
        "print(add2(4))"
      ],
      "metadata": {
        "colab": {
          "base_uri": "https://localhost:8080/"
        },
        "id": "oXVWcFTuRmFD",
        "outputId": "cf238d9d-cbc8-40d6-b93a-c78767ebea93"
      },
      "execution_count": null,
      "outputs": [
        {
          "output_type": "stream",
          "name": "stdout",
          "text": [
            "4\n"
          ]
        }
      ]
    },
    {
      "cell_type": "code",
      "source": [
        "print(add1(1))\n",
        "print(add2(3))"
      ],
      "metadata": {
        "colab": {
          "base_uri": "https://localhost:8080/"
        },
        "id": "Qd11H_NdRQrX",
        "outputId": "9be34f00-2ed8-4901-af50-56d8ee785470"
      },
      "execution_count": null,
      "outputs": [
        {
          "output_type": "stream",
          "name": "stdout",
          "text": [
            "1\n",
            "7\n"
          ]
        }
      ]
    },
    {
      "cell_type": "code",
      "source": [
        "print(add1(2))\n",
        "print(add2(4))"
      ],
      "metadata": {
        "colab": {
          "base_uri": "https://localhost:8080/"
        },
        "id": "iYnXYc1ERWrJ",
        "outputId": "7c1967c4-1fcb-4edd-bfd9-468980980c5a"
      },
      "execution_count": null,
      "outputs": [
        {
          "output_type": "stream",
          "name": "stdout",
          "text": [
            "3\n",
            "11\n"
          ]
        }
      ]
    },
    {
      "cell_type": "code",
      "source": [
        "print(add1(2))\n",
        "print(add2(1))"
      ],
      "metadata": {
        "colab": {
          "base_uri": "https://localhost:8080/"
        },
        "id": "31xU9oiqSHrO",
        "outputId": "dc7140b2-b378-428f-95ce-f25444994123"
      },
      "execution_count": null,
      "outputs": [
        {
          "output_type": "stream",
          "name": "stdout",
          "text": [
            "5\n",
            "12\n"
          ]
        }
      ]
    },
    {
      "cell_type": "code",
      "source": [
        "class Calculator:\n",
        "  def __init__(self):  # 생성자 -  객체가 생성될때 자동으로 실행되는 일종의 매서드\n",
        "    self.result = 0\n",
        "\n",
        "  def add(self,num):\n",
        "    self.result += num\n",
        "    return self.result\n",
        "\n",
        "\n",
        "cal1 = Calculator()\n",
        "cal2 = Calculator()\n",
        "\n",
        "print(cal1.add(3))\n",
        "print(cal2.add(4))\n",
        "\n",
        "print(cal1.add(3))\n",
        "print(cal2.add(7))\n",
        "\n",
        "# 붕어빵 기계 - 클래스\n",
        "# 붕어빵 - 객체"
      ],
      "metadata": {
        "colab": {
          "base_uri": "https://localhost:8080/"
        },
        "id": "NV4jV4PsSjoq",
        "outputId": "cbf3553b-c7df-465d-dfa2-7cd842eff8ba"
      },
      "execution_count": null,
      "outputs": [
        {
          "output_type": "stream",
          "name": "stdout",
          "text": [
            "3\n",
            "4\n",
            "6\n",
            "11\n"
          ]
        }
      ]
    },
    {
      "cell_type": "code",
      "source": [
        "class Candy:\n",
        "  def set_info(self, shape, color):  #satang, circle, brown\n",
        "    self.shape = shape\n",
        "    self.color = color\n",
        "\n",
        "\n",
        "\n",
        "satang = Candy()\n",
        "satang.set_info('circle','brown')\n",
        "\n",
        "print(satang.shape)\n",
        "print(satang.color)"
      ],
      "metadata": {
        "colab": {
          "base_uri": "https://localhost:8080/"
        },
        "id": "QOAuRc_wUouA",
        "outputId": "b57f985a-352d-4c55-c1e9-ef03f225e330"
      },
      "execution_count": null,
      "outputs": [
        {
          "output_type": "stream",
          "name": "stdout",
          "text": [
            "circle\n",
            "brown\n"
          ]
        }
      ]
    },
    {
      "cell_type": "code",
      "source": [
        "class Candy:\n",
        "  # def set_info(self, shape, color):  #satang, circle, brown\n",
        "  #   self.shape = shape\n",
        "  #   self.color = color\n",
        "  def __init__(self, shape, color):\n",
        "    self.shape = shape\n",
        "    self.color = color\n",
        "\n",
        "\n",
        "satang = Candy('circle','brown')\n",
        "# satang.set_info('circle','brown')\n",
        "\n",
        "print(satang.shape)\n",
        "print(satang.color)"
      ],
      "metadata": {
        "colab": {
          "base_uri": "https://localhost:8080/"
        },
        "id": "akD44J_VWRlI",
        "outputId": "1892b8b7-4c9d-4ef0-83c6-7bb377771656"
      },
      "execution_count": null,
      "outputs": [
        {
          "output_type": "stream",
          "name": "stdout",
          "text": [
            "circle\n",
            "brown\n"
          ]
        }
      ]
    },
    {
      "cell_type": "code",
      "source": [
        "# 클래스 변수는 객체들이 함께 사용하는 공유 변수이다. \n",
        "# 하지만 객체지향의 핵심은 객체들이 각기 따로따로 변수값을 가지고 있다는 것이다. \n",
        "\n",
        "class Korean:\n",
        "  country = '한국'  # 클래스 변수\n",
        "\n",
        "  def __init__(self, name, age, address):\n",
        "    self.name = name\n",
        "    self.age = age\n",
        "    self.address = address\n",
        "\n",
        "\n",
        "man = Korean('홍길동','17','서울')\n",
        "man.name\n",
        "man.country\n",
        "Korean.country\n",
        "\n",
        "woman = Korean('성춘향','14','남원')\n",
        "woman.name"
      ],
      "metadata": {
        "colab": {
          "base_uri": "https://localhost:8080/",
          "height": 35
        },
        "id": "_NV75_9YXoCH",
        "outputId": "ff1afa0f-85d9-41bd-8ee6-2fa16877f074"
      },
      "execution_count": null,
      "outputs": [
        {
          "output_type": "execute_result",
          "data": {
            "text/plain": [
              "'성춘향'"
            ],
            "application/vnd.google.colaboratory.intrinsic+json": {
              "type": "string"
            }
          },
          "metadata": {},
          "execution_count": 17
        }
      ]
    },
    {
      "cell_type": "code",
      "source": [
        "woman.country"
      ],
      "metadata": {
        "colab": {
          "base_uri": "https://localhost:8080/",
          "height": 35
        },
        "id": "_ik7f2WTZCg4",
        "outputId": "7ca5f180-1d12-4031-b1a8-d769b4444539"
      },
      "execution_count": null,
      "outputs": [
        {
          "output_type": "execute_result",
          "data": {
            "text/plain": [
              "'한국'"
            ],
            "application/vnd.google.colaboratory.intrinsic+json": {
              "type": "string"
            }
          },
          "metadata": {},
          "execution_count": 18
        }
      ]
    },
    {
      "cell_type": "code",
      "source": [
        "# 클래스 매서드\n",
        "\n",
        "# 객체를 생성하지 않고도 호출하여 사용할 수 있다.     클래스명.매서드명\n",
        "# /@classmethod 데코레이터 장식자를 표시하여 사용한다. \n",
        "# 매개변수  self를 사용하지 않고 cls 를 사용한다. \n",
        "\n",
        "class Korean:\n",
        "\n",
        "  country = \"한국\" # 클래스 변수\n",
        "\n",
        "  @classmethod\n",
        "  def trip(cls, country):\n",
        "    if cls.country == country:\n",
        "      print('국내 여행입니다.')\n",
        "    else:\n",
        "      print('해외 여행입니다.')\n",
        "\n",
        "Korean.trip('한국')\n",
        "Korean.trip('미국')"
      ],
      "metadata": {
        "colab": {
          "base_uri": "https://localhost:8080/"
        },
        "id": "b0y3qNdpZAo7",
        "outputId": "e552f392-ec8a-4571-d225-310e53b3590d"
      },
      "execution_count": null,
      "outputs": [
        {
          "output_type": "stream",
          "name": "stdout",
          "text": [
            "국내 여행입니다.\n",
            "해외 여행입니다.\n"
          ]
        }
      ]
    },
    {
      "cell_type": "code",
      "source": [
        "# 정적 매서드  static method\n",
        "\n",
        "# 1.객체 또는 클래스로 호출한다. \n",
        "# 2./@staticmathod 데코레이터 장식자로 표시한다. \n",
        "# 3. 매개변수는 없을수도 있다. \n",
        "\n",
        "# 정적 매서드는 self와 cls  모두 사용하지 않는다. \n",
        "# 하지만 정적 매서는 클래스에 소속되어있어도 객체에는 영향을 주지않고\n",
        "# 또 객체로부터도 영향을 받지 않는다. \n",
        "\n",
        "class Korean:\n",
        "  country = '한국'  # 클래스 변수\n",
        "\n",
        "  @staticmethod\n",
        "  def slogan():\n",
        "    print('Imagine your Korea')\n",
        "\n",
        "Korean.slogan()\n",
        "\n"
      ],
      "metadata": {
        "id": "_qIdgvO-dZEQ",
        "colab": {
          "base_uri": "https://localhost:8080/"
        },
        "outputId": "37721f26-652a-44d0-b9b8-c7a62af8016f"
      },
      "execution_count": null,
      "outputs": [
        {
          "output_type": "stream",
          "name": "stdout",
          "text": [
            "Imagine your Korea\n"
          ]
        }
      ]
    },
    {
      "cell_type": "code",
      "source": [
        "# 상속\n",
        "\n",
        "# 어떤 클래스가 가지고 있는 기능을 그대로 물려받아서 사용하는 클래스를 만들 수 있다\n",
        "# 다른 클래스의 기능을 물려받는다는 의미로 상속이라는 표현을 쓴다.\n",
        "\n",
        "# 부모 클래스                             자식 클래스\n",
        "# 슈퍼 클래스                             서브 클래스\n",
        "# 기반 클래스                             파생 클래스\n",
        "\n",
        "# 서브 클래스의 생성자를 구현할 때는 반드시 슈퍼 클래스의 생성자를 먼저 호출하는 코드를 작성해야 한다.\n",
        "# 자식은 반드시 부모가 있어야 태어날 수가 있다.\n",
        "\n",
        "class Person:\n",
        "\n",
        "  def __init__(self, name):\n",
        "    self.name = name\n",
        "\n",
        "  def eat(self, food):\n",
        "    print(self.name + '가 ' + food + '를 먹습니다.')  \n",
        "\n",
        "\n",
        "class Student(Person):\n",
        "  def __init__(self, name, school):\n",
        "    super().__init__(name)  # 부모 클래스의 생성자 호출\n",
        "    self.school = school\n",
        "\n",
        "  def study(self):\n",
        "    print(self.name + '는 ' + self.school + '에서 공부를 합니다.')\n",
        "\n",
        "potter = Student('해리포터','호그와트')\n",
        "potter.eat('감자')\n",
        "potter.study()"
      ],
      "metadata": {
        "colab": {
          "base_uri": "https://localhost:8080/"
        },
        "id": "nNZkYrgseuQv",
        "outputId": "e9023773-addd-43c2-98d2-73d5b8003d17"
      },
      "execution_count": null,
      "outputs": [
        {
          "output_type": "stream",
          "name": "stdout",
          "text": [
            "해리포터가 감자를 먹습니다.\n",
            "해리포터는 호그와트에서 공부를 합니다.\n"
          ]
        }
      ]
    },
    {
      "cell_type": "code",
      "source": [
        "# p297\n",
        "\n",
        "class Person:\n",
        "  \n",
        "  population = 0\n",
        "\n",
        "  def __init__(self, name):\n",
        "    self.name = name\n",
        "    Person.population += 1\n",
        "    print(f'{self.name} is born')\n",
        "\n",
        "  def __del__(self):\n",
        "    Person.population -= 1\n",
        "    print(f'{self.name} is dead')\n",
        "\n",
        "  @classmethod\n",
        "  def get_population(cls):\n",
        "    return cls.population\n",
        "\n",
        "\n",
        "\n",
        "man = Person('james')\n",
        "woman = Person('emily')\n",
        "\n",
        "print(f'전체 인구수 : {Person.get_population()}명')\n",
        "del man\n",
        "print(f'전체 인구수 : {Person.get_population()}명')"
      ],
      "metadata": {
        "colab": {
          "base_uri": "https://localhost:8080/"
        },
        "id": "bt5lbJbwibTm",
        "outputId": "a6522376-ffd1-4410-f60d-9b48a47fbc30"
      },
      "execution_count": null,
      "outputs": [
        {
          "output_type": "stream",
          "name": "stdout",
          "text": [
            "james is born\n",
            "emily is born\n",
            "전체 인구수 : 2명\n",
            "james is dead\n",
            "전체 인구수 : 1명\n",
            "emily is dead\n"
          ]
        }
      ]
    },
    {
      "cell_type": "code",
      "source": [
        "# p292 예외처리\n",
        "\n"
      ],
      "metadata": {
        "id": "D0Gy8kNQqQsQ"
      },
      "execution_count": null,
      "outputs": []
    }
  ]
}