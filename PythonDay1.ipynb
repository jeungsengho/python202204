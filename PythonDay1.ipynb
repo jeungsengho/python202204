{
  "nbformat": 4,
  "nbformat_minor": 0,
  "metadata": {
    "colab": {
      "name": "PythonDay1.ipynb",
      "provenance": [],
      "collapsed_sections": [],
      "authorship_tag": "ABX9TyPX+v/ifqIJ5AS6NHiTLcTl",
      "include_colab_link": true
    },
    "kernelspec": {
      "name": "python3",
      "display_name": "Python 3"
    },
    "language_info": {
      "name": "python"
    }
  },
  "cells": [
    {
      "cell_type": "markdown",
      "metadata": {
        "id": "view-in-github",
        "colab_type": "text"
      },
      "source": [
        "<a href=\"https://colab.research.google.com/github/jeungsengho/python202204/blob/main/PythonDay1.ipynb\" target=\"_parent\"><img src=\"https://colab.research.google.com/assets/colab-badge.svg\" alt=\"Open In Colab\"/></a>"
      ]
    },
    {
      "cell_type": "code",
      "source": [
        "# 1. 인터프리터 언어 (한줄 한줄 막바로 실행한 결과를 바로바로 출력)\n",
        "# 2. 플랫폼에 독립적 (맥 윈도우 리눅스 전부 같은 파이썬 코드를 사용할 수 있다)\n",
        "# 3. 객체지향 언어 (객체를 기반으로 정보은닉 상속 등의 개념을 지원)\n",
        "# 4. 동적 타이핑 언어 (실행 중에 처리할 수 있는 작업을 지원)\n",
        "# 5. 개발 속도가 빠름 이미 만들어 놓은 다양한 라이브러리를 사용하여 빠르게 새로운 프로그램을 개발\n",
        "\n",
        "\n",
        "# 주석 comment  \n",
        "# 프로그램의 소스 코드에 설명을 작성하는 부분을 주석이라고 한다.\n",
        "# DocString  '''  코드 설명   ''' (여러줄을 통째로 주석처리 할 때)-> 드래그 컨트롤+슬래쉬 \n",
        "\n",
        "(주석처럼)\n",
        "'''\n",
        "여러줄1\n",
        "여러줄2\n",
        "여러줄3\n",
        "'''\n",
        "\"\"\"\n",
        "\"\"\"\n",
        "\n"
      ],
      "metadata": {
        "id": "D7gswNTCejRK"
      },
      "execution_count": null,
      "outputs": []
    },
    {
      "cell_type": "code",
      "source": [
        "'''\n",
        "파일명: Ex02-1.py\n",
        "개요: 반지름을 전달하면 원의 넓이를 반환하는 get_area() 함수\n",
        "작성자: 홍길동\n",
        "최초작성일: 2020-08-25\n",
        "'''\n",
        "\n",
        "\n",
        "# math 모듈 포함\n",
        "import math\n",
        "\n",
        "# get_area()함수 정의\n",
        "def get_area(radius):\n",
        "  \"\"\"반지름을 입력받아 원의 넓이를 반환하는 get_area() 함수\"\"\"\n",
        "  area = math.pi*math.pow(radius, 2)\n",
        "  return area\n",
        "\n",
        "radius = 1.5\n",
        "# get_area() 함수 호출 결과를 area 변수에 저장\n",
        "area = get_area(radius)\n",
        "print(area)\n",
        "print(get_area.__doc__) # Docstring 확인"
      ],
      "metadata": {
        "colab": {
          "base_uri": "https://localhost:8080/"
        },
        "id": "2EZufTaso9YL",
        "outputId": "e083a4c8-cd32-4fec-9bb6-90920d4613c1"
      },
      "execution_count": 8,
      "outputs": [
        {
          "output_type": "stream",
          "name": "stdout",
          "text": [
            "7.0685834705770345\n",
            "반지름을 입력받아 원의 넓이를 반환하는 get_area() 함수\n"
          ]
        }
      ]
    },
    {
      "cell_type": "markdown",
      "source": [
        ""
      ],
      "metadata": {
        "id": "xT1pammgepTY"
      }
    },
    {
      "cell_type": "code",
      "source": [
        "# 코드 위에 주석 달기\n",
        "print('Hello World')  # 코드 오른쪽에 주석 달기"
      ],
      "metadata": {
        "id": "ECm82TmCrOnV"
      },
      "execution_count": null,
      "outputs": []
    },
    {
      "cell_type": "code",
      "source": [
        "# 변수\n",
        "# variable 어떤 데이터를 저정할때 사용하는 메모리 저장소\n",
        "\n",
        "score = 100\n",
        "\n",
        "print(100)\n",
        "print(score)\n",
        "\n",
        "# 변수명 만드는 규칙 \n",
        "\n",
        "# 1 영문 한글 숫자 밑줄로 구성된다. (한글은 사용하지 말자)\n",
        "# 2 특수문자는 사용할 수 없다. @#$%^&* X\n",
        "# 3 대문자와 소문자를 구분한다. a = 1   A = 2\n",
        "# 4 변수명의 첫글자에는 숫자가 올 수 없다. a1 = 1 (0)  1a = 2 (x)\n",
        "# 5 예약어, 키워드는 변수명으로 사용할 수 없다.\n",
        "\n",
        "# * 가급적이면 소문자로만 만든다\n",
        "# * 한글 변수명은 가능하지만 사용하지 말자\n",
        "# * 변수명에 의미를 담자.   a = 85       mathScore = 85"
      ],
      "metadata": {
        "colab": {
          "base_uri": "https://localhost:8080/"
        },
        "id": "dHJGu0sirbXi",
        "outputId": "90b10a53-7577-4ce2-e8ab-4819373961af"
      },
      "execution_count": 5,
      "outputs": [
        {
          "output_type": "stream",
          "name": "stdout",
          "text": [
            "100\n",
            "100\n"
          ]
        }
      ]
    },
    {
      "cell_type": "code",
      "source": [
        "name = 'Alice'\n",
        "age = 25\n",
        "address = '''우편번호 12345\n",
        "서울시 영등포구 여의도동\n",
        "서울빌딩 501호'''\n",
        "boyfriend = None\n",
        "height = 168.5\n",
        "\n",
        "print(name)\n",
        "print(age)\n",
        "print(address)\n",
        "print(boyfriend)\n",
        "print(height)"
      ],
      "metadata": {
        "colab": {
          "base_uri": "https://localhost:8080/"
        },
        "id": "E8uu6oBQus9j",
        "outputId": "9071b1ab-38ea-4926-9aa0-149a7ca3072c"
      },
      "execution_count": 7,
      "outputs": [
        {
          "output_type": "stream",
          "name": "stdout",
          "text": [
            "Alice\n",
            "25\n",
            "우편번호 12345\n",
            "서울시 영등포구 여의도동\n",
            "서울빌딩 501호\n",
            "None\n",
            "168.5\n"
          ]
        }
      ]
    }
  ]
}