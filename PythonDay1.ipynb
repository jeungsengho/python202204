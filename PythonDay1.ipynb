{
  "nbformat": 4,
  "nbformat_minor": 0,
  "metadata": {
    "colab": {
      "name": "PythonDay1.ipynb",
      "provenance": [],
      "collapsed_sections": [],
      "authorship_tag": "ABX9TyNJrtOtDTQ5BnvEHs5DjUMW",
      "include_colab_link": true
    },
    "kernelspec": {
      "name": "python3",
      "display_name": "Python 3"
    },
    "language_info": {
      "name": "python"
    }
  },
  "cells": [
    {
      "cell_type": "markdown",
      "metadata": {
        "id": "view-in-github",
        "colab_type": "text"
      },
      "source": [
        "<a href=\"https://colab.research.google.com/github/jeungsengho/python202204/blob/main/PythonDay1.ipynb\" target=\"_parent\"><img src=\"https://colab.research.google.com/assets/colab-badge.svg\" alt=\"Open In Colab\"/></a>"
      ]
    },
    {
      "cell_type": "code",
      "source": [
        "# 1. 인터프리터 언어 (한줄 한줄 막바로 실행한 결과를 바로바로 출력)\n",
        "# 2. 플랫폼에 독립적 (맥 윈도우 리눅스 전부 같은 파이썬 코드를 사용할 수 있다)\n",
        "# 3. 객체지향 언어 (객체를 기반으로 정보은닉 상속 등의 개념을 지원)\n",
        "# 4. 동적 타이핑 언어 (실행 중에 처리할 수 있는 작업을 지원)\n",
        "# 5. 개발 속도가 빠름 이미 만들어 놓은 다양한 라이브러리를 사용하여 빠르게 새로운 프로그램을 개발\n",
        "# 6. "
      ],
      "metadata": {
        "id": "D7gswNTCejRK"
      },
      "execution_count": null,
      "outputs": []
    },
    {
      "cell_type": "markdown",
      "source": [
        ""
      ],
      "metadata": {
        "id": "xT1pammgepTY"
      }
    }
  ]
}