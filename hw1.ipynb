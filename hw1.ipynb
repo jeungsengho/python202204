{
  "nbformat": 4,
  "nbformat_minor": 0,
  "metadata": {
    "colab": {
      "name": "hw1.ipynb",
      "provenance": [],
      "authorship_tag": "ABX9TyNcnPRwREYG4XsZnCARHxRJ",
      "include_colab_link": true
    },
    "kernelspec": {
      "name": "python3",
      "display_name": "Python 3"
    },
    "language_info": {
      "name": "python"
    }
  },
  "cells": [
    {
      "cell_type": "markdown",
      "metadata": {
        "id": "view-in-github",
        "colab_type": "text"
      },
      "source": [
        "<a href=\"https://colab.research.google.com/github/jeungsengho/python202204/blob/main/hw1.ipynb\" target=\"_parent\"><img src=\"https://colab.research.google.com/assets/colab-badge.svg\" alt=\"Open In Colab\"/></a>"
      ]
    },
    {
      "cell_type": "code",
      "execution_count": null,
      "metadata": {
        "colab": {
          "base_uri": "https://localhost:8080/"
        },
        "id": "rFhFi0ztrUoX",
        "outputId": "4810f52b-3244-4174-b398-c77ed0c80223"
      },
      "outputs": [
        {
          "output_type": "stream",
          "name": "stdout",
          "text": [
            "Hello World\n"
          ]
        }
      ],
      "source": [
        "# 001\n",
        "\n",
        "print('Hello World')"
      ]
    },
    {
      "cell_type": "code",
      "source": [
        "# 002\n",
        "print('Mary\\'s cosmetics')"
      ],
      "metadata": {
        "colab": {
          "base_uri": "https://localhost:8080/"
        },
        "id": "vf4Fk37prl9s",
        "outputId": "09bbfff8-751b-48eb-e40f-471b44f91517"
      },
      "execution_count": null,
      "outputs": [
        {
          "output_type": "stream",
          "name": "stdout",
          "text": [
            "Mary's cosmetics\n"
          ]
        }
      ]
    },
    {
      "cell_type": "code",
      "source": [
        "# 003\n",
        "print('신씨가 소리질렀다. \\\"도둑이야\".')"
      ],
      "metadata": {
        "colab": {
          "base_uri": "https://localhost:8080/"
        },
        "id": "f5_gOzU_rtI6",
        "outputId": "2f79197a-2bca-4eb2-d377-0d5191285f0f"
      },
      "execution_count": null,
      "outputs": [
        {
          "output_type": "stream",
          "name": "stdout",
          "text": [
            "신씨가 소리질렀다. \"도둑이야\".\n"
          ]
        }
      ]
    },
    {
      "cell_type": "code",
      "source": [
        "# 004\n",
        "print('\\\"C:|Windows\"')\n"
      ],
      "metadata": {
        "id": "KCBOUTwNr05c",
        "colab": {
          "base_uri": "https://localhost:8080/"
        },
        "outputId": "da1386ba-c6af-4fe0-b036-dcf2939b128d"
      },
      "execution_count": null,
      "outputs": [
        {
          "output_type": "stream",
          "name": "stdout",
          "text": [
            "\"C:|Windows\"\n"
          ]
        }
      ]
    },
    {
      "cell_type": "code",
      "source": [
        "# 005                    \\n 줄바꿈 \\t 탭\n",
        "print('\\\"안녕하세요.\\n만나서\\t\\t반갑습니다.\"')"
      ],
      "metadata": {
        "colab": {
          "base_uri": "https://localhost:8080/"
        },
        "id": "3b3gFdx2EoDv",
        "outputId": "8be70c12-2190-4870-f778-1cfb885e783d"
      },
      "execution_count": null,
      "outputs": [
        {
          "output_type": "stream",
          "name": "stdout",
          "text": [
            "\"안녕하세요.\n",
            "만나서\t\t반갑습니다.\"\n"
          ]
        }
      ]
    },
    {
      "cell_type": "code",
      "source": [
        "# 006\n",
        "print(\"오늘은\", \"일요일\")"
      ],
      "metadata": {
        "colab": {
          "base_uri": "https://localhost:8080/"
        },
        "id": "8lh69-48E4IR",
        "outputId": "04005435-4eb4-4ff7-8cc4-b2e4503940e0"
      },
      "execution_count": null,
      "outputs": [
        {
          "output_type": "stream",
          "name": "stdout",
          "text": [
            "오늘은 일요일\n"
          ]
        }
      ]
    },
    {
      "cell_type": "code",
      "source": [
        "# 007\n",
        "print(\"naver\", \"kakao\", \"sk\", \"samsung\",sep=\";\")"
      ],
      "metadata": {
        "colab": {
          "base_uri": "https://localhost:8080/"
        },
        "id": "ku0CruRSFBMG",
        "outputId": "aeacd707-5146-4ce2-e712-7fd3f87bc67a"
      },
      "execution_count": 5,
      "outputs": [
        {
          "output_type": "stream",
          "name": "stdout",
          "text": [
            "naver;kakao;sk;samsung\n"
          ]
        }
      ]
    },
    {
      "cell_type": "code",
      "source": [
        "# 008\n",
        "print(\"naver\", \"kakao\", \"sk\", \"samsung\",sep=\"/\")"
      ],
      "metadata": {
        "colab": {
          "base_uri": "https://localhost:8080/"
        },
        "id": "UAxUeKGEFRuu",
        "outputId": "fc3d6e9e-51f2-47e0-a1b4-ba3a9719881b"
      },
      "execution_count": 6,
      "outputs": [
        {
          "output_type": "stream",
          "name": "stdout",
          "text": [
            "naver/kakao/sk/samsung\n"
          ]
        }
      ]
    },
    {
      "cell_type": "code",
      "source": [
        "# 009\n",
        "print(\"first\", end=\"\");print(\"second\")"
      ],
      "metadata": {
        "colab": {
          "base_uri": "https://localhost:8080/"
        },
        "id": "P1uK81X5FYnm",
        "outputId": "b90da99c-aa72-4cea-872e-94761530b4f1"
      },
      "execution_count": 10,
      "outputs": [
        {
          "output_type": "stream",
          "name": "stdout",
          "text": [
            "firstsecond\n"
          ]
        }
      ]
    },
    {
      "cell_type": "code",
      "source": [
        "# 010\n",
        "print(5/3)"
      ],
      "metadata": {
        "colab": {
          "base_uri": "https://localhost:8080/"
        },
        "id": "5qBD54ojF_v2",
        "outputId": "26bac5c0-d22c-4d1d-e61c-69b8abe9ec3e"
      },
      "execution_count": null,
      "outputs": [
        {
          "output_type": "stream",
          "name": "stdout",
          "text": [
            "1.6666666666666667\n"
          ]
        }
      ]
    },
    {
      "cell_type": "code",
      "source": [
        "# 011\n",
        "삼성전자 = 50000\n",
        "총평가금액 = 삼성전자*10\n",
        "print(총평가금액)"
      ],
      "metadata": {
        "colab": {
          "base_uri": "https://localhost:8080/"
        },
        "id": "B4alkFHcGEdI",
        "outputId": "a91b9c99-bc11-4e3f-847b-75a2311576c4"
      },
      "execution_count": 11,
      "outputs": [
        {
          "output_type": "stream",
          "name": "stdout",
          "text": [
            "500000\n"
          ]
        }
      ]
    },
    {
      "cell_type": "code",
      "source": [
        "# 012\n",
        "시가총액 = 298000000000000\n",
        "현재가 = 5000\n",
        "PER = 15.79\n",
        "print(시가총액, type(시가총액))\n",
        "print(현재가, type(현재가))\n",
        "print(PER, type(PER))"
      ],
      "metadata": {
        "id": "ImEOusb2GZgA",
        "outputId": "8f55fa3a-bccf-4842-cd8d-1651d0f95e00",
        "colab": {
          "base_uri": "https://localhost:8080/"
        }
      },
      "execution_count": 13,
      "outputs": [
        {
          "output_type": "stream",
          "name": "stdout",
          "text": [
            "298000000000000 <class 'int'>\n",
            "5000 <class 'int'>\n",
            "15.79 <class 'float'>\n"
          ]
        }
      ]
    },
    {
      "cell_type": "code",
      "source": [
        "# 013\n",
        "s = \"hello\"\n",
        "t = \"python\"\n",
        "print(f'{s}! {t}')"
      ],
      "metadata": {
        "colab": {
          "base_uri": "https://localhost:8080/"
        },
        "id": "qeMq3f9lGec5",
        "outputId": "edab0aac-961b-465e-c2b6-48c8c4691ff1"
      },
      "execution_count": null,
      "outputs": [
        {
          "output_type": "stream",
          "name": "stdout",
          "text": [
            "hello! python\n"
          ]
        }
      ]
    },
    {
      "cell_type": "code",
      "source": [
        "# 014\n",
        "print(2+2*3)"
      ],
      "metadata": {
        "colab": {
          "base_uri": "https://localhost:8080/"
        },
        "id": "QnZTRZupGpro",
        "outputId": "e3611a41-ffc8-4b5e-87c8-b48fa996c888"
      },
      "execution_count": null,
      "outputs": [
        {
          "output_type": "stream",
          "name": "stdout",
          "text": [
            "8\n"
          ]
        }
      ]
    },
    {
      "cell_type": "code",
      "source": [
        "# 015\n",
        "a = \"132\"\n",
        "print(type(a))"
      ],
      "metadata": {
        "colab": {
          "base_uri": "https://localhost:8080/"
        },
        "id": "rhI5ahkuGuPc",
        "outputId": "868f9199-0262-404f-d751-b4c99646da52"
      },
      "execution_count": null,
      "outputs": [
        {
          "output_type": "stream",
          "name": "stdout",
          "text": [
            "<class 'str'>\n"
          ]
        }
      ]
    },
    {
      "cell_type": "code",
      "source": [
        "# 016\n",
        "num_str = \"720\"\n",
        "num_int = int(num_str)\n",
        "print(num_int+1, type(num_int))"
      ],
      "metadata": {
        "colab": {
          "base_uri": "https://localhost:8080/"
        },
        "id": "enxyQQRKG24b",
        "outputId": "60a065d9-24bb-432a-d937-8e262438a3d7"
      },
      "execution_count": 16,
      "outputs": [
        {
          "output_type": "stream",
          "name": "stdout",
          "text": [
            "721 <class 'int'>\n"
          ]
        }
      ]
    },
    {
      "cell_type": "code",
      "source": [
        "# 017\n",
        "num = 100\n",
        "result = str(num)\n",
        "print(result, type(result))"
      ],
      "metadata": {
        "colab": {
          "base_uri": "https://localhost:8080/"
        },
        "id": "FmdMpImIHHX6",
        "outputId": "43a07aff-955f-47b9-dd72-68a88424b58e"
      },
      "execution_count": 18,
      "outputs": [
        {
          "output_type": "stream",
          "name": "stdout",
          "text": [
            "100 <class 'str'>\n"
          ]
        }
      ]
    },
    {
      "cell_type": "code",
      "source": [
        "# 018\n",
        "data = \"15.79\"\n",
        "data = float(data)\n",
        "print(data, type(data))"
      ],
      "metadata": {
        "colab": {
          "base_uri": "https://localhost:8080/"
        },
        "id": "9ODQIIZzHL6E",
        "outputId": "8610737b-672a-40dd-8cbc-4a51bba18c24"
      },
      "execution_count": 19,
      "outputs": [
        {
          "output_type": "stream",
          "name": "stdout",
          "text": [
            "15.79 <class 'float'>\n"
          ]
        }
      ]
    },
    {
      "cell_type": "code",
      "source": [
        "# 019        못함\n",
        "year = \"2020\"\n",
        "print(int(year)-3)\n",
        "print(int(year)-2)\n",
        "print(int(year)-1)"
      ],
      "metadata": {
        "colab": {
          "base_uri": "https://localhost:8080/"
        },
        "id": "aMS1ogC4HQzG",
        "outputId": "1bf0b522-e737-4d01-bd1f-8a335dc9cd33"
      },
      "execution_count": 20,
      "outputs": [
        {
          "output_type": "stream",
          "name": "stdout",
          "text": [
            "2017\n",
            "2018\n",
            "2019\n"
          ]
        }
      ]
    },
    {
      "cell_type": "code",
      "source": [
        "# 020\n",
        "a = 48584\n",
        "b = 36\n",
        "print(f'{a*b}원')"
      ],
      "metadata": {
        "colab": {
          "base_uri": "https://localhost:8080/"
        },
        "id": "sBALdvtMHgWA",
        "outputId": "d3d0e86c-3660-4ce2-8946-7882756bf7c7"
      },
      "execution_count": null,
      "outputs": [
        {
          "output_type": "stream",
          "name": "stdout",
          "text": [
            "1749024원\n"
          ]
        }
      ]
    }
  ]
}