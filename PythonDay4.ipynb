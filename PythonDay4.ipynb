{
  "nbformat": 4,
  "nbformat_minor": 0,
  "metadata": {
    "colab": {
      "name": "PythonDay4.ipynb",
      "provenance": [],
      "authorship_tag": "ABX9TyMK81nSsYzKGXnlt/coeYUA",
      "include_colab_link": true
    },
    "kernelspec": {
      "name": "python3",
      "display_name": "Python 3"
    },
    "language_info": {
      "name": "python"
    }
  },
  "cells": [
    {
      "cell_type": "markdown",
      "metadata": {
        "id": "view-in-github",
        "colab_type": "text"
      },
      "source": [
        "<a href=\"https://colab.research.google.com/github/jeungsengho/python202204/blob/main/PythonDay4.ipynb\" target=\"_parent\"><img src=\"https://colab.research.google.com/assets/colab-badge.svg\" alt=\"Open In Colab\"/></a>"
      ]
    },
    {
      "cell_type": "code",
      "execution_count": 3,
      "metadata": {
        "colab": {
          "base_uri": "https://localhost:8080/"
        },
        "id": "gge6dNaSOmoM",
        "outputId": "ceccd81d-2d96-4952-ea37-9a6aaf5084cd"
      },
      "outputs": [
        {
          "output_type": "stream",
          "name": "stdout",
          "text": [
            "양수\n",
            "양수\n"
          ]
        }
      ],
      "source": [
        "# 조건문\n",
        "\n",
        "# IF - 특정 조건을 만족하는지 여부에 따라 실행하는 코드가 달라져야 할 때 사용된다.\n",
        "\n",
        "\n",
        "a = 6\n",
        "\n",
        "if a > 0:\n",
        "  print('양수')\n",
        "\n",
        "if True:\n",
        "  print('양수')        # 들여쓰기가 중요 (규칙)\n"
      ]
    },
    {
      "cell_type": "code",
      "source": [
        "# if - else\n",
        "\n",
        "a = -5\n",
        "if a >= 0:\n",
        "  print('양수')\n",
        "else:\n",
        "  print('음수')\n"
      ],
      "metadata": {
        "colab": {
          "base_uri": "https://localhost:8080/"
        },
        "id": "p-L0YuYceZYo",
        "outputId": "faebe93c-b9c4-4868-d91e-46af4fd64f0e"
      },
      "execution_count": 9,
      "outputs": [
        {
          "output_type": "stream",
          "name": "stdout",
          "text": [
            "음수\n"
          ]
        }
      ]
    },
    {
      "cell_type": "code",
      "source": [
        "# p95\n",
        "\n",
        "age = int(input('몇 살입니까? >>>'))\n",
        "if age >= 20:\n",
        "  print('성인')\n",
        "else:\n",
        "  print('미성년자')"
      ],
      "metadata": {
        "colab": {
          "base_uri": "https://localhost:8080/"
        },
        "id": "HRupQuEAfRH1",
        "outputId": "b5013a80-21ef-4c6b-8fbf-2fd3a74f4aa4"
      },
      "execution_count": 16,
      "outputs": [
        {
          "output_type": "stream",
          "name": "stdout",
          "text": [
            "몇 살입니까? >>>20\n",
            "성인\n"
          ]
        }
      ]
    },
    {
      "cell_type": "code",
      "source": [
        "# if - elif\n",
        "\n",
        "important = 11\n",
        "\n",
        "if important >= 100:\n",
        "  print('상')\n",
        "else:\n",
        "  if important >= 50:\n",
        "    print('중')\n",
        "  else:\n",
        "    print('하')\n"
      ],
      "metadata": {
        "colab": {
          "base_uri": "https://localhost:8080/"
        },
        "id": "mir6LZqZfltn",
        "outputId": "a5314f2a-8f08-4179-d919-79bf6aa4e772"
      },
      "execution_count": 21,
      "outputs": [
        {
          "output_type": "stream",
          "name": "stdout",
          "text": [
            "하\n"
          ]
        }
      ]
    },
    {
      "cell_type": "code",
      "source": [
        "important = 100\n",
        "\n",
        "if important >= 100:\n",
        "  print('상')\n",
        "elif important >= 50:\n",
        "  print('중')\n",
        "else:\n",
        "  print('하')"
      ],
      "metadata": {
        "colab": {
          "base_uri": "https://localhost:8080/"
        },
        "id": "8Rq_h2nqgmqK",
        "outputId": "764ee9b7-9817-468f-d0aa-b7b87d6ccf76"
      },
      "execution_count": 24,
      "outputs": [
        {
          "output_type": "stream",
          "name": "stdout",
          "text": [
            "상\n"
          ]
        }
      ]
    },
    {
      "cell_type": "code",
      "source": [
        "score = 85\n",
        "\n",
        "if score >= 90:\n",
        "  print('A')\n",
        "elif score >= 80:\n",
        "  print('B')\n",
        "elif score >= 70:\n",
        "  print('C')\n",
        "elif score >= 60:\n",
        "  print('D')\n",
        "else:\n",
        "  print('F')"
      ],
      "metadata": {
        "colab": {
          "base_uri": "https://localhost:8080/"
        },
        "id": "T7hbmaPDhi8R",
        "outputId": "ccdbd83c-e557-4218-a9e6-a7dadcffa63b"
      },
      "execution_count": 30,
      "outputs": [
        {
          "output_type": "stream",
          "name": "stdout",
          "text": [
            "B\n"
          ]
        }
      ]
    },
    {
      "cell_type": "code",
      "source": [
        "# p99 1번\n",
        "\n",
        "score = int(input('점수를 입력하세요 >>>'))\n",
        "\n",
        "if score >= 90:\n",
        "  print(f'점수는 {score}점이고, 학점은 A학점입니다.')\n",
        "elif score >= 80:\n",
        "  print(f'점수는 {score}점이고, 학점은 B학점입니다.')\n",
        "elif score >= 70:\n",
        "  print(f'점수는 {score}점이고, 학점은 C학점입니다.')\n",
        "elif score >= 60:\n",
        "  print(f'점수는 {score}점이고, 학점은 D학점입니다.')\n",
        "else:\n",
        "  print(f'점수는 {score}점이고, 학점은 F학점입니다.')"
      ],
      "metadata": {
        "colab": {
          "base_uri": "https://localhost:8080/"
        },
        "id": "86SZHFyoiO3E",
        "outputId": "7153e1c8-9371-486c-c359-8c6cb2437323"
      },
      "execution_count": 46,
      "outputs": [
        {
          "output_type": "stream",
          "name": "stdout",
          "text": [
            "점수를 입력하세요 >>>17\n",
            "점수는 17점이고, 학점은 F학점입니다.\n"
          ]
        }
      ]
    },
    {
      "cell_type": "code",
      "source": [
        "# p99 1번 - 2 \n",
        "\n",
        "score = int(input('점수를 입력하세요 >>>'))\n",
        "\n",
        "if score >= 90:\n",
        "  hak = 'A'\n",
        "elif score >= 80:\n",
        "  hak = 'B'\n",
        "elif score >= 70:\n",
        "  hak = 'C'\n",
        "elif score >= 60:\n",
        "  hak = 'D'\n",
        "else:\n",
        "  hak = 'F'\n",
        "\n",
        "print(f'점수는 {score}점이고, 학점은 {hak}학점입니다.')"
      ],
      "metadata": {
        "colab": {
          "base_uri": "https://localhost:8080/"
        },
        "id": "CJWcpnvHlng6",
        "outputId": "10704328-fe45-4e84-f962-6d6f714a70bd"
      },
      "execution_count": 44,
      "outputs": [
        {
          "output_type": "stream",
          "name": "stdout",
          "text": [
            "점수를 입력하세요 >>>45\n",
            "점수는 45점이고, 학점은 F학점입니다.\n"
          ]
        }
      ]
    },
    {
      "cell_type": "code",
      "source": [
        "# p99 2번 (input을 쓸 때는 자료형을 먼저 쓴다.)\n",
        "\n",
        "a = int(input('정수를 입력하세요 >>>'))\n",
        "\n",
        "if a % 3 == 0:\n",
        "  print(f'{a}는 3의 배수입니다.')\n",
        "else:\n",
        "  print(f'{a}는 3의 배수가 아닙니다.')"
      ],
      "metadata": {
        "colab": {
          "base_uri": "https://localhost:8080/"
        },
        "id": "cA9q-NeUjQRM",
        "outputId": "74009a34-1503-48c5-d213-30d6d4798f99"
      },
      "execution_count": 53,
      "outputs": [
        {
          "output_type": "stream",
          "name": "stdout",
          "text": [
            "정수를 입력하세요 >>>15\n",
            "15는 3의 배수입니다.\n"
          ]
        }
      ]
    },
    {
      "cell_type": "code",
      "source": [
        "# p99 3번\n",
        "\n",
        "a = input('정수1 입력 >>>')\n",
        "b = input('정수2 입력 >>>')\n",
        "c = input('정수3 입력 >>>')\n",
        "\n",
        "if a > b > c:\n",
        "  print(f'가장 큰 수는 {a}입니다.')\n",
        "elif b > a > c:\n",
        "  print(f'가장 큰 수는 {b}입니다.')\n",
        "else:\n",
        "  print(f'가장 큰 수는 {c}입니다.')"
      ],
      "metadata": {
        "colab": {
          "base_uri": "https://localhost:8080/"
        },
        "id": "I1LPOol-j01Y",
        "outputId": "d796f6fe-a936-413a-bfa7-27c88a36c59d"
      },
      "execution_count": 58,
      "outputs": [
        {
          "output_type": "stream",
          "name": "stdout",
          "text": [
            "정수1 입력 >>>1\n",
            "정수2 입력 >>>\n",
            "정수3 입력 >>>2\n",
            "가장 큰 수는 2입니다.\n"
          ]
        }
      ]
    },
    {
      "cell_type": "code",
      "source": [
        "no1 = int(input('정수1 입력'))\n",
        "no2 = int(input('정수2 입력'))\n",
        "no3 = int(input('정수3 입력'))\n",
        "\n",
        "if no1 > no2 and no2 > no3:\n",
        "  result = no1\n",
        "elif no3 > no2 and no2 > no1:\n",
        "  result = no3\n",
        "else:\n",
        "  result = no2\n",
        "print(f'가장 큰 수는 {result}입니다.')"
      ],
      "metadata": {
        "colab": {
          "base_uri": "https://localhost:8080/"
        },
        "id": "WutZJnQmqrKI",
        "outputId": "aad69b6b-4e7e-4ac2-9516-9db741fa0e9b"
      },
      "execution_count": 62,
      "outputs": [
        {
          "output_type": "stream",
          "name": "stdout",
          "text": [
            "정수1 입력1\n",
            "정수2 입력2\n",
            "정수3 입력3\n",
            "가장 큰 수는 3입니다.\n"
          ]
        }
      ]
    },
    {
      "cell_type": "code",
      "source": [
        "no1 = int(input('정수1 입력'))\n",
        "no2 = int(input('정수2 입력'))\n",
        "no3 = int(input('정수3 입력'))\n",
        "\n",
        "print(f'가장 큰 수는 {max(no1,no2,no3)}입니다.')"
      ],
      "metadata": {
        "colab": {
          "base_uri": "https://localhost:8080/"
        },
        "id": "w83Ks-EDrWSE",
        "outputId": "4659d45d-ee2a-4c6e-eeae-fb71d32427c7"
      },
      "execution_count": 65,
      "outputs": [
        {
          "output_type": "stream",
          "name": "stdout",
          "text": [
            "정수1 입력1\n",
            "정수2 입력2\n",
            "정수3 입력3\n",
            "가장 큰 수는 3입니다.\n"
          ]
        }
      ]
    },
    {
      "cell_type": "code",
      "source": [
        "# p99 4번\n",
        "\n",
        "car = input('차량번호를 입력하세요 >>> ')\n",
        "no = int(car[-1])\n",
        "\n",
        "if no % 2 == 0:\n",
        "  b = '운행가능'\n",
        "else:\n",
        "  b = '운행불가'\n",
        "\n",
        "print(f\"차량번호 \\'{car}'는 오늘 {b}입니다.\")"
      ],
      "metadata": {
        "colab": {
          "base_uri": "https://localhost:8080/"
        },
        "id": "1kb02DxUr2ul",
        "outputId": "77d5d8e7-c31d-4855-b64a-5c4e09ba68db"
      },
      "execution_count": 82,
      "outputs": [
        {
          "output_type": "stream",
          "name": "stdout",
          "text": [
            "차량번호를 입력하세요 >>> 237가1234\n",
            "차량번호 '237가1234'는 오늘 운행가능입니다.\n"
          ]
        }
      ]
    },
    {
      "cell_type": "code",
      "source": [
        "# 반복문 \n",
        "# while  - 반복 횟수를 정확히 모를 때             해질 때까지 운동장을 돌자\n",
        "# for    - 반복 횟수를 정확히 알 때 (*****)       운동장을 10바퀴 돌자\n",
        "\n",
        "\n",
        "# while True: # 무한반복\n",
        "#   print('hello python')\n",
        "\n",
        "n = 1\n",
        "while n <= 10:\n",
        "  print(f'{n} : hello world')\n",
        "  n += 1"
      ],
      "metadata": {
        "colab": {
          "base_uri": "https://localhost:8080/"
        },
        "id": "do3foBqEucdv",
        "outputId": "17d90f15-d038-47ed-fbdf-44824a7c1ae4"
      },
      "execution_count": 88,
      "outputs": [
        {
          "output_type": "stream",
          "name": "stdout",
          "text": [
            "1 : hello world\n",
            "2 : hello world\n",
            "3 : hello world\n",
            "4 : hello world\n",
            "5 : hello world\n",
            "6 : hello world\n",
            "7 : hello world\n",
            "8 : hello world\n",
            "9 : hello world\n",
            "10 : hello world\n"
          ]
        }
      ]
    }
  ]
}