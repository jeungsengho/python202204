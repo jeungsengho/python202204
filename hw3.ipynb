{
  "nbformat": 4,
  "nbformat_minor": 0,
  "metadata": {
    "colab": {
      "name": "hw3.ipynb",
      "provenance": [],
      "authorship_tag": "ABX9TyN8SVtOTezkt6+RwPIPDwM7",
      "include_colab_link": true
    },
    "kernelspec": {
      "name": "python3",
      "display_name": "Python 3"
    },
    "language_info": {
      "name": "python"
    }
  },
  "cells": [
    {
      "cell_type": "markdown",
      "metadata": {
        "id": "view-in-github",
        "colab_type": "text"
      },
      "source": [
        "<a href=\"https://colab.research.google.com/github/jeungsengho/python202204/blob/main/hw3.ipynb\" target=\"_parent\"><img src=\"https://colab.research.google.com/assets/colab-badge.svg\" alt=\"Open In Colab\"/></a>"
      ]
    },
    {
      "cell_type": "code",
      "execution_count": 1,
      "metadata": {
        "id": "CzqxpdMQJcb1"
      },
      "outputs": [],
      "source": [
        "# 091\n",
        "\n",
        "inventory = {'메로나':[300,20],\n",
        "             '비비빅':[400,3],\n",
        "             '죠스바':[250,100]}"
      ]
    },
    {
      "cell_type": "code",
      "source": [
        "# 092\n",
        "\n",
        "print(inventory['메로나'][0], '원')"
      ],
      "metadata": {
        "colab": {
          "base_uri": "https://localhost:8080/"
        },
        "id": "oJIE6IMaJsbl",
        "outputId": "122e3ab2-f936-415f-865a-00c511cfd545"
      },
      "execution_count": 17,
      "outputs": [
        {
          "output_type": "stream",
          "name": "stdout",
          "text": [
            "300 원\n"
          ]
        }
      ]
    },
    {
      "cell_type": "code",
      "source": [
        "# 093\n",
        "\n",
        "print(inventory['메로나'][1], '개')"
      ],
      "metadata": {
        "colab": {
          "base_uri": "https://localhost:8080/"
        },
        "id": "Aqc6W4xfKnEE",
        "outputId": "cf165897-4b43-4c80-f2ac-41cfb675ddaa"
      },
      "execution_count": 15,
      "outputs": [
        {
          "output_type": "stream",
          "name": "stdout",
          "text": [
            "20 개\n"
          ]
        }
      ]
    },
    {
      "cell_type": "code",
      "source": [
        "# 094\n",
        "\n",
        "inventory['월드콘'] = [500,7]\n",
        "\n",
        "print(inventory)"
      ],
      "metadata": {
        "colab": {
          "base_uri": "https://localhost:8080/"
        },
        "id": "3ajoRjOSK5Fl",
        "outputId": "123e403b-b30a-4c3b-a9ff-33d3240025cb"
      },
      "execution_count": 20,
      "outputs": [
        {
          "output_type": "stream",
          "name": "stdout",
          "text": [
            "{'메로나': [300, 20], '비비빅': [400, 3], '죠스바': [250, 100], '월드콘': [500, 7]}\n"
          ]
        }
      ]
    },
    {
      "cell_type": "code",
      "source": [
        "# 095\n",
        "\n",
        "icecream = {'탱크보이': 1200, '폴라포': 1200, '빵빠레': 1800, '월드콘': 1500, '메로나': 1000}\n",
        "li1 = list(icecream.keys())\n",
        "print(li1)"
      ],
      "metadata": {
        "colab": {
          "base_uri": "https://localhost:8080/"
        },
        "id": "R-I-inF4LKms",
        "outputId": "2c8dbc51-2e2c-4057-b667-d5e262cc1b8f"
      },
      "execution_count": 22,
      "outputs": [
        {
          "output_type": "stream",
          "name": "stdout",
          "text": [
            "['탱크보이', '폴라포', '빵빠레', '월드콘', '메로나']\n"
          ]
        }
      ]
    },
    {
      "cell_type": "code",
      "source": [
        "# 096\n",
        "\n",
        "li2 = list(icecream.values())\n",
        "print(li2)"
      ],
      "metadata": {
        "colab": {
          "base_uri": "https://localhost:8080/"
        },
        "id": "qbHoUqjFLn1b",
        "outputId": "d2184cc5-e982-40e5-eed7-64e07f20a5f8"
      },
      "execution_count": 24,
      "outputs": [
        {
          "output_type": "stream",
          "name": "stdout",
          "text": [
            "[1200, 1200, 1800, 1500, 1000]\n"
          ]
        }
      ]
    },
    {
      "cell_type": "code",
      "source": [
        "# 097\n",
        "\n",
        "print(sum(icecream.values()))"
      ],
      "metadata": {
        "colab": {
          "base_uri": "https://localhost:8080/"
        },
        "id": "4nPHBCzzLwsS",
        "outputId": "dfda7bc9-4082-45eb-91cd-9b3b9b21144c"
      },
      "execution_count": 26,
      "outputs": [
        {
          "output_type": "stream",
          "name": "stdout",
          "text": [
            "6700\n"
          ]
        }
      ]
    },
    {
      "cell_type": "code",
      "source": [
        "# 098\n",
        "\n",
        "new_product = {'팥빙수': 2700, '아맛나': 1000}\n",
        "icecream.update(new_product)\n",
        "print(icecream)"
      ],
      "metadata": {
        "colab": {
          "base_uri": "https://localhost:8080/"
        },
        "id": "T8eUOZbYL53L",
        "outputId": "e867446a-a4e3-4ced-8708-4d189eb4c9f8"
      },
      "execution_count": 28,
      "outputs": [
        {
          "output_type": "stream",
          "name": "stdout",
          "text": [
            "{'탱크보이': 1200, '폴라포': 1200, '빵빠레': 1800, '월드콘': 1500, '메로나': 1000, '팥빙수': 2700, '아맛나': 1000}\n"
          ]
        }
      ]
    },
    {
      "cell_type": "code",
      "source": [
        "# 099\n",
        "\n",
        "keys = ('apple', 'pear', 'peach')\n",
        "vals = (300, 250, 400)\n",
        "\n",
        "result = dict(zip(keys,vals))\n",
        "print(result)"
      ],
      "metadata": {
        "colab": {
          "base_uri": "https://localhost:8080/"
        },
        "id": "FI9c54zPMLIh",
        "outputId": "84203a9b-e82e-4240-a0af-c0ef9bcc0367"
      },
      "execution_count": 30,
      "outputs": [
        {
          "output_type": "stream",
          "name": "stdout",
          "text": [
            "{'apple': 300, 'pear': 250, 'peach': 400}\n"
          ]
        }
      ]
    },
    {
      "cell_type": "code",
      "source": [
        "# 100\n",
        "\n",
        "date = ['09/05', '09/06', '09/07', '09/08', '09/09']\n",
        "close_price = [10500, 10300, 10100, 10800, 11000]\n",
        "\n",
        "close_table = dict(zip(date,close_price))\n",
        "print(close_table)"
      ],
      "metadata": {
        "colab": {
          "base_uri": "https://localhost:8080/"
        },
        "id": "DDJ1xvxcMcEp",
        "outputId": "578391bc-b734-44a3-edbc-cdc4db224a17"
      },
      "execution_count": 33,
      "outputs": [
        {
          "output_type": "stream",
          "name": "stdout",
          "text": [
            "{'09/05': 10500, '09/06': 10300, '09/07': 10100, '09/08': 10800, '09/09': 11000}\n"
          ]
        }
      ]
    },
    {
      "cell_type": "code",
      "source": [
        "# 151\n",
        "\n",
        "리스트 = [3, -20, -3, 44]\n",
        "for a in 리스트:\n",
        "  if a < 0:\n",
        "    print(a)"
      ],
      "metadata": {
        "colab": {
          "base_uri": "https://localhost:8080/"
        },
        "id": "m-QchPJGM81V",
        "outputId": "f0617b10-fe8e-4fe0-8840-78d265c1e9dc"
      },
      "execution_count": 36,
      "outputs": [
        {
          "output_type": "stream",
          "name": "stdout",
          "text": [
            "-20\n",
            "-3\n"
          ]
        }
      ]
    },
    {
      "cell_type": "code",
      "source": [
        "# 152\n",
        "\n",
        "리스트 = [3, 100, 23, 44]\n",
        "for a in 리스트:\n",
        "  if a % 3 == 0:\n",
        "    print(a)"
      ],
      "metadata": {
        "colab": {
          "base_uri": "https://localhost:8080/"
        },
        "id": "xpFpsLtSNYaH",
        "outputId": "349a48cf-a027-46c1-f54c-3512102ce73f"
      },
      "execution_count": 39,
      "outputs": [
        {
          "output_type": "stream",
          "name": "stdout",
          "text": [
            "3\n"
          ]
        }
      ]
    },
    {
      "cell_type": "code",
      "source": [
        "# 153\n",
        "\n",
        "리스트 = [13, 21, 12, 14, 30, 18]\n",
        "for a in 리스트:\n",
        "  if a % 3 == 0 and a < 20:\n",
        "    print(a)"
      ],
      "metadata": {
        "colab": {
          "base_uri": "https://localhost:8080/"
        },
        "id": "FjAavfB1NnYv",
        "outputId": "66f8aa37-2f0c-40ea-da51-a2eb153897d5"
      },
      "execution_count": 41,
      "outputs": [
        {
          "output_type": "stream",
          "name": "stdout",
          "text": [
            "12\n",
            "18\n"
          ]
        }
      ]
    },
    {
      "cell_type": "code",
      "source": [
        "# 154\n",
        "\n",
        "리스트 = ['I', 'study', 'python', 'language', '!']\n",
        "\n",
        "for a in 리스트:\n",
        "  if len(a) >= 3:\n",
        "    print(a)"
      ],
      "metadata": {
        "colab": {
          "base_uri": "https://localhost:8080/"
        },
        "id": "Sygr7eAMN4vt",
        "outputId": "1ba2c5ea-19a3-40e0-cc7d-b8cd57d8a584"
      },
      "execution_count": 43,
      "outputs": [
        {
          "output_type": "stream",
          "name": "stdout",
          "text": [
            "study\n",
            "python\n",
            "language\n"
          ]
        }
      ]
    },
    {
      "cell_type": "code",
      "source": [
        "# 155\n",
        "\n",
        "리스트 = ['A', 'b', 'c', 'D']\n",
        "for a in 리스트:\n",
        "  if a.isupper() == True:\n",
        "    print(a)"
      ],
      "metadata": {
        "colab": {
          "base_uri": "https://localhost:8080/"
        },
        "id": "xtB2wFu8OI4P",
        "outputId": "ab9214b4-5658-4969-fa44-e34f8135f807"
      },
      "execution_count": 47,
      "outputs": [
        {
          "output_type": "stream",
          "name": "stdout",
          "text": [
            "A\n",
            "D\n"
          ]
        }
      ]
    },
    {
      "cell_type": "code",
      "source": [
        "# 156\n",
        "\n",
        "리스트 = ['A', 'b', 'c', 'D']\n",
        "for a in 리스트:\n",
        "  if a.isupper() == False:\n",
        "    print(a)"
      ],
      "metadata": {
        "colab": {
          "base_uri": "https://localhost:8080/"
        },
        "id": "1UjEO3BxOeGh",
        "outputId": "be80ac43-35fa-418a-b1be-b663518f086e"
      },
      "execution_count": 49,
      "outputs": [
        {
          "output_type": "stream",
          "name": "stdout",
          "text": [
            "b\n",
            "c\n"
          ]
        }
      ]
    },
    {
      "cell_type": "code",
      "source": [
        "# 157\n",
        "\n",
        "list = ['dog', 'cat', 'parrot']\n",
        "for a in list:\n",
        "  print(a[0].upper() + a[1:])"
      ],
      "metadata": {
        "colab": {
          "base_uri": "https://localhost:8080/"
        },
        "id": "A9vNRhrPO62z",
        "outputId": "7d0575da-c894-4e99-e1ce-4e2202247579"
      },
      "execution_count": 51,
      "outputs": [
        {
          "output_type": "stream",
          "name": "stdout",
          "text": [
            "Dog\n",
            "Cat\n",
            "Parrot\n"
          ]
        }
      ]
    },
    {
      "cell_type": "code",
      "source": [
        "# 158\n",
        "\n",
        "list = ['hello.py', 'ex01.py', 'intro.hwp']\n",
        "for a in list:\n",
        "  split = a.split('.')\n",
        "  print(split[0])"
      ],
      "metadata": {
        "colab": {
          "base_uri": "https://localhost:8080/"
        },
        "id": "Ra-I8WSbPQ8m",
        "outputId": "909d4533-67c3-4e7d-96a1-d84cc1c214c1"
      },
      "execution_count": 53,
      "outputs": [
        {
          "output_type": "stream",
          "name": "stdout",
          "text": [
            "hello\n",
            "ex01\n",
            "intro\n"
          ]
        }
      ]
    },
    {
      "cell_type": "code",
      "source": [
        "# 159\n",
        "\n",
        "list = ['intra.h', 'intra.c', 'define.h', 'run.py']\n",
        "for a in list:\n",
        "  split = a.split('.')\n",
        "  if split[1] == 'h':\n",
        "    print(a)"
      ],
      "metadata": {
        "colab": {
          "base_uri": "https://localhost:8080/"
        },
        "id": "-A7VC9sPPodR",
        "outputId": "b639df2c-08ed-4e7f-97f3-036b0657711f"
      },
      "execution_count": 55,
      "outputs": [
        {
          "output_type": "stream",
          "name": "stdout",
          "text": [
            "intra.h\n",
            "define.h\n"
          ]
        }
      ]
    },
    {
      "cell_type": "code",
      "source": [
        "# 160\n",
        "\n",
        "list = ['intra.h', 'intra.c', 'define.h', 'run.py']\n",
        "for a in list:\n",
        "  split = a.split('.')\n",
        "  if split[1] == 'h' or split[1] == 'c':\n",
        "    print(a)"
      ],
      "metadata": {
        "colab": {
          "base_uri": "https://localhost:8080/"
        },
        "id": "Jkl0CVwyP9Ip",
        "outputId": "3568129e-9662-42a9-b2eb-2271f21500ac"
      },
      "execution_count": 56,
      "outputs": [
        {
          "output_type": "stream",
          "name": "stdout",
          "text": [
            "intra.h\n",
            "intra.c\n",
            "define.h\n"
          ]
        }
      ]
    }
  ]
}